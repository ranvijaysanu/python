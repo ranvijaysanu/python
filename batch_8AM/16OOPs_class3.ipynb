{
 "cells": [
  {
   "cell_type": "markdown",
   "metadata": {},
   "source": [
    "<h3 style=\"color:red\">Multiple Inheritance</h3>"
   ]
  },
  {
   "cell_type": "code",
   "execution_count": 20,
   "metadata": {},
   "outputs": [],
   "source": [
    "class Parent1:\n",
    "    def __init__(self,name1):\n",
    "        self.name1 = name1\n",
    "    def show1(self):\n",
    "        print(\"The name1 is : \",self.name1)\n",
    "\n",
    "class Parent2:\n",
    "    def __init__(self,name2):\n",
    "        self.name2 = name2\n",
    "    def show2(self):\n",
    "        print(\"The name2 is : \",self.name2)\n",
    "        \n",
    "class Child(Parent2,Parent1):\n",
    "    def __init__(self,name1,name2):\n",
    "        Parent1.__init__(self,name1)\n",
    "        Parent2.__init__(self,name2)"
   ]
  },
  {
   "cell_type": "code",
   "execution_count": 21,
   "metadata": {},
   "outputs": [],
   "source": [
    "c1 = Child(\"Parent1\",\"Parent2\")"
   ]
  },
  {
   "cell_type": "code",
   "execution_count": 22,
   "metadata": {},
   "outputs": [
    {
     "name": "stdout",
     "output_type": "stream",
     "text": [
      "The name1 is :  Parent1\n"
     ]
    }
   ],
   "source": [
    "c1.show1()"
   ]
  },
  {
   "cell_type": "code",
   "execution_count": 23,
   "metadata": {},
   "outputs": [
    {
     "name": "stdout",
     "output_type": "stream",
     "text": [
      "The name2 is :  Parent2\n"
     ]
    }
   ],
   "source": [
    "c1.show2()"
   ]
  },
  {
   "cell_type": "code",
   "execution_count": 24,
   "metadata": {},
   "outputs": [],
   "source": [
    "class FirstName:\n",
    "    def __init__(self,fname):\n",
    "        self.fname = fname\n",
    "    \n",
    "class LastName:\n",
    "    def __init__(self,lname):\n",
    "        self.lname = lname\n",
    "        \n",
    "class Name(FirstName,LastName):\n",
    "    def __init__(self,fname,lname):\n",
    "        FirstName.__init__(self,fname)\n",
    "        LastName.__init__(self,lname)\n",
    "    def show(self):\n",
    "        print(\"The person firstname is {} and lastname is {}\".format(self.fname,self.lname))"
   ]
  },
  {
   "cell_type": "code",
   "execution_count": 25,
   "metadata": {},
   "outputs": [],
   "source": [
    "n1 = Name(\"Simran\",\"Grover\")"
   ]
  },
  {
   "cell_type": "code",
   "execution_count": 26,
   "metadata": {},
   "outputs": [
    {
     "name": "stdout",
     "output_type": "stream",
     "text": [
      "The person firstname is Simran and lastname is Grover\n"
     ]
    }
   ],
   "source": [
    "n1.show()"
   ]
  },
  {
   "cell_type": "code",
   "execution_count": 33,
   "metadata": {},
   "outputs": [],
   "source": [
    "class Car:\n",
    "    def __init__(self,model1,brand1,color1):\n",
    "        self.model1 = model1\n",
    "        self.brand1 = brand1\n",
    "        self.color1 = color1\n",
    "\n",
    "    def show1(self):\n",
    "        print(\"The properties of car are : \")\n",
    "        print(\"Model : \",self.model1)\n",
    "        print(\"Brand : \",self.brand1)\n",
    "        print(\"Color : \",self.color1)\n",
    "class Bike:\n",
    "    def __init__(self,model2,brand2,color2):\n",
    "        self.model2 = model2\n",
    "        self.brand2 = brand2\n",
    "        self.color2 = color2\n",
    "\n",
    "    def show1(self):\n",
    "        print(\"The properties of Bike are : \")\n",
    "        print(\"Model : \",self.model2)\n",
    "        print(\"Brand : \",self.brand2)\n",
    "        print(\"Color : \",self.color2)\n",
    "\n",
    "class Vehicle(Car,Bike):\n",
    "    def __init__(self,model1,brand1,color1,model2,brand2,color2):\n",
    "        Car.__init__(self,model1,brand1,color1)\n",
    "        Bike.__init__(self,model2,brand2,color2)\n",
    "    def show1(self):    #overriding\n",
    "        print(\"The properties of car are : \")\n",
    "        print(\"Model : \",self.model1)\n",
    "        print(\"Brand : \",self.brand1)\n",
    "        print(\"Color : \",self.color1)\n",
    "        print(\"The properties of Bike are : \")\n",
    "        print(\"Model : \",self.model2)\n",
    "        print(\"Brand : \",self.brand2)\n",
    "        print(\"Color : \",self.color2)"
   ]
  },
  {
   "cell_type": "code",
   "execution_count": 34,
   "metadata": {},
   "outputs": [],
   "source": [
    "v1 = Vehicle('abc','swift','black','abcd','bajaj','red')"
   ]
  },
  {
   "cell_type": "code",
   "execution_count": 35,
   "metadata": {},
   "outputs": [
    {
     "name": "stdout",
     "output_type": "stream",
     "text": [
      "The properties of car are : \n",
      "Model :  abc\n",
      "Brand :  swift\n",
      "Color :  black\n",
      "The properties of Bike are : \n",
      "Model :  abcd\n",
      "Brand :  bajaj\n",
      "Color :  red\n"
     ]
    }
   ],
   "source": [
    "v1.show1()"
   ]
  },
  {
   "cell_type": "markdown",
   "metadata": {},
   "source": [
    "<h3 style='color:red'>Multilevel Inheritance</h3>"
   ]
  },
  {
   "cell_type": "code",
   "execution_count": 46,
   "metadata": {},
   "outputs": [],
   "source": [
    "class Grandparent:\n",
    "    def __init__(self,name):\n",
    "        self.name = name\n",
    "    def show(self):\n",
    "        print(\"The name of grand parent is : \",self.name)\n",
    "class Parent(Grandparent):\n",
    "    def __init__(self,gpname,pname):\n",
    "        super().__init__(gpname)\n",
    "        self.pname = pname\n",
    "    def show1(self):\n",
    "        print(\"The name of parent is : \",self.pname)\n",
    "        \n",
    "class Child(Parent):\n",
    "    def __init__(self,gpname,pname,name):\n",
    "        super().__init__(gpname,pname)\n",
    "        self.cname = name\n",
    "    def showchild(self):\n",
    "        print(\"The name of child is : \",self.cname)"
   ]
  },
  {
   "cell_type": "code",
   "execution_count": 47,
   "metadata": {},
   "outputs": [],
   "source": [
    "c1 = Child(\"Rahul\",\"Raghav\",\"Riya\")"
   ]
  },
  {
   "cell_type": "code",
   "execution_count": 48,
   "metadata": {},
   "outputs": [
    {
     "name": "stdout",
     "output_type": "stream",
     "text": [
      "The name of grand parent is :  Rahul\n"
     ]
    }
   ],
   "source": [
    "c1.show()"
   ]
  },
  {
   "cell_type": "code",
   "execution_count": 49,
   "metadata": {},
   "outputs": [
    {
     "name": "stdout",
     "output_type": "stream",
     "text": [
      "The name of child is :  Riya\n"
     ]
    }
   ],
   "source": [
    "c1.showchild()"
   ]
  },
  {
   "cell_type": "code",
   "execution_count": 50,
   "metadata": {},
   "outputs": [
    {
     "name": "stdout",
     "output_type": "stream",
     "text": [
      "The name of parent is :  Raghav\n"
     ]
    }
   ],
   "source": [
    "c1.show1()"
   ]
  },
  {
   "cell_type": "markdown",
   "metadata": {},
   "source": [
    "<h3 style='color:red'>Hierarchical Inheritance</h3>"
   ]
  },
  {
   "cell_type": "code",
   "execution_count": 55,
   "metadata": {},
   "outputs": [],
   "source": [
    "class Parent:\n",
    "    def __init__(self,pname):\n",
    "        self.pname = pname\n",
    "\n",
    "class Child1(Parent):\n",
    "    def __init__(self,pname,cname1):\n",
    "        super().__init__(pname)\n",
    "        self.cname1 = cname1\n",
    "    def show1(self):\n",
    "        print(\"The name of child1 of parent {} is :{}\".format(self.pname,self.cname1))\n",
    "\n",
    "class Child2(Parent):\n",
    "    def __init__(self,pname,cname2):\n",
    "        super().__init__(pname)\n",
    "        self.cname2 = cname2\n",
    "    def show1(self):\n",
    "        print(\"The name of child2 of parent {} is :{}\".format(self.pname,self.cname2))\n"
   ]
  },
  {
   "cell_type": "code",
   "execution_count": 56,
   "metadata": {},
   "outputs": [],
   "source": [
    "c1 = Child1(\"Chanchal\",\"Simran\")\n",
    "c2 = Child2(\"Chanchal\",\"Harsh\")"
   ]
  },
  {
   "cell_type": "code",
   "execution_count": 57,
   "metadata": {},
   "outputs": [
    {
     "name": "stdout",
     "output_type": "stream",
     "text": [
      "The name of child1 of parent Chanchal is :Simran\n"
     ]
    }
   ],
   "source": [
    "c1.show1()"
   ]
  },
  {
   "cell_type": "code",
   "execution_count": 58,
   "metadata": {},
   "outputs": [
    {
     "name": "stdout",
     "output_type": "stream",
     "text": [
      "The name of child2 of parent Chanchal is :Harsh\n"
     ]
    }
   ],
   "source": [
    "c2.show1()"
   ]
  },
  {
   "cell_type": "markdown",
   "metadata": {},
   "source": [
    "<h3 style=\"color:red\">Hybrid Inheritance</h3>"
   ]
  },
  {
   "cell_type": "code",
   "execution_count": 64,
   "metadata": {},
   "outputs": [],
   "source": [
    "class A:\n",
    "    def __init__(self,name):\n",
    "        self.name = name\n",
    "class B(A):\n",
    "    def __init__(self,name,age):\n",
    "        super().__init__(name)\n",
    "        self.age = age\n",
    "class C:\n",
    "    def __init__(self,course):\n",
    "        self.course = course\n",
    "class D(B,C):\n",
    "    def __init__(self,name,age,course,rollno):\n",
    "        B.__init__(self,name,age)\n",
    "        C.__init__(self,course)\n",
    "        self.rollno = rollno\n",
    "    def getit(self):\n",
    "        print(\"The name of student is : \",self.name)\n",
    "        print(\"The age of student is : \",self.age)\n",
    "        print(\"The course of student is : \",self.course)\n",
    "        print(\"The rollno of student is : \",self.rollno)"
   ]
  },
  {
   "cell_type": "code",
   "execution_count": 65,
   "metadata": {},
   "outputs": [],
   "source": [
    "obj1 = D(\"Anu\",20,\"Python\",1001)"
   ]
  },
  {
   "cell_type": "code",
   "execution_count": 66,
   "metadata": {},
   "outputs": [
    {
     "name": "stdout",
     "output_type": "stream",
     "text": [
      "The name of student is :  Anu\n",
      "The age of student is :  20\n",
      "The course of student is :  Python\n",
      "The rollno of student is :  1001\n"
     ]
    }
   ],
   "source": [
    "obj1.getit()"
   ]
  },
  {
   "cell_type": "markdown",
   "metadata": {},
   "source": [
    "<h1 style='color:red'>Operator Overloading</h1>"
   ]
  },
  {
   "cell_type": "code",
   "execution_count": 91,
   "metadata": {},
   "outputs": [],
   "source": [
    "class Overload:\n",
    "    def __init__(self,real,image):\n",
    "        self.real = real\n",
    "        self.image = image\n",
    "    def __str__(self):\n",
    "        return \"{}+{}j\".format(self.real,self.image)\n",
    "    def __repr__(self):\n",
    "        return \"{}+{}j\".format(self.real,self.image)\n",
    "    def __add__(self,obj):\n",
    "        x = self.real + obj.real\n",
    "        y = self.image + obj.image\n",
    "        return Overload(x,y)  #overload(7,9)"
   ]
  },
  {
   "cell_type": "code",
   "execution_count": 92,
   "metadata": {},
   "outputs": [
    {
     "name": "stdout",
     "output_type": "stream",
     "text": [
      "7+9j\n"
     ]
    }
   ],
   "source": [
    "obj1 = Overload(3,4)\n",
    "obj2 = Overload(4,5)\n",
    "obj3 = obj1 + obj2\n",
    "print(obj3)"
   ]
  },
  {
   "cell_type": "code",
   "execution_count": 93,
   "metadata": {},
   "outputs": [
    {
     "name": "stdout",
     "output_type": "stream",
     "text": [
      "3+4j\n"
     ]
    }
   ],
   "source": [
    "print(obj1)  #str"
   ]
  },
  {
   "cell_type": "code",
   "execution_count": 94,
   "metadata": {},
   "outputs": [
    {
     "data": {
      "text/plain": [
       "3+4j"
      ]
     },
     "execution_count": 94,
     "metadata": {},
     "output_type": "execute_result"
    }
   ],
   "source": [
    "obj1 #repr"
   ]
  },
  {
   "cell_type": "code",
   "execution_count": 96,
   "metadata": {},
   "outputs": [],
   "source": [
    "class Overload:\n",
    "    def __init__(self,a,b):\n",
    "        self.a = a\n",
    "        self.b = b \n",
    "    def show(self):\n",
    "        print(\"The number are : \",self.a,self.b)\n",
    "    def __lt__(self,obj):\n",
    "        x = self.a**3 + self.b**3\n",
    "        y = obj.a**3 + obj.b**3\n",
    "        return x<y"
   ]
  },
  {
   "cell_type": "code",
   "execution_count": 97,
   "metadata": {},
   "outputs": [
    {
     "name": "stdout",
     "output_type": "stream",
     "text": [
      "True\n"
     ]
    }
   ],
   "source": [
    "obj1 = Overload(3,4)\n",
    "obj2 = Overload(4,5)\n",
    "obj3 = obj1 < obj2\n",
    "print(obj3)"
   ]
  },
  {
   "cell_type": "code",
   "execution_count": 116,
   "metadata": {},
   "outputs": [],
   "source": [
    "class A(list):\n",
    "    def __init__(self,args):\n",
    "        super().__init__(args)\n",
    "        #self.args = args"
   ]
  },
  {
   "cell_type": "code",
   "execution_count": 117,
   "metadata": {},
   "outputs": [],
   "source": [
    "l = A([1,2,3,412])"
   ]
  },
  {
   "cell_type": "code",
   "execution_count": 118,
   "metadata": {},
   "outputs": [],
   "source": [
    "l.append(10)"
   ]
  },
  {
   "cell_type": "code",
   "execution_count": 119,
   "metadata": {},
   "outputs": [
    {
     "data": {
      "text/plain": [
       "[1, 2, 3, 412, 10]"
      ]
     },
     "execution_count": 119,
     "metadata": {},
     "output_type": "execute_result"
    }
   ],
   "source": [
    "l"
   ]
  },
  {
   "cell_type": "code",
   "execution_count": 104,
   "metadata": {},
   "outputs": [
    {
     "data": {
      "text/plain": [
       "2"
      ]
     },
     "execution_count": 104,
     "metadata": {},
     "output_type": "execute_result"
    }
   ],
   "source": [
    "l.index(4)"
   ]
  },
  {
   "cell_type": "code",
   "execution_count": 111,
   "metadata": {},
   "outputs": [
    {
     "data": {
      "text/plain": [
       "[]"
      ]
     },
     "execution_count": 111,
     "metadata": {},
     "output_type": "execute_result"
    }
   ],
   "source": [
    "l"
   ]
  },
  {
   "cell_type": "code",
   "execution_count": 112,
   "metadata": {},
   "outputs": [],
   "source": [
    "l.append(10)"
   ]
  },
  {
   "cell_type": "code",
   "execution_count": 113,
   "metadata": {},
   "outputs": [
    {
     "data": {
      "text/plain": [
       "[10]"
      ]
     },
     "execution_count": 113,
     "metadata": {},
     "output_type": "execute_result"
    }
   ],
   "source": [
    "l"
   ]
  },
  {
   "cell_type": "code",
   "execution_count": 120,
   "metadata": {},
   "outputs": [],
   "source": [
    "l = [1,2,3,4,5]"
   ]
  },
  {
   "cell_type": "code",
   "execution_count": 121,
   "metadata": {},
   "outputs": [
    {
     "data": {
      "text/plain": [
       "list"
      ]
     },
     "execution_count": 121,
     "metadata": {},
     "output_type": "execute_result"
    }
   ],
   "source": [
    "type(l)"
   ]
  },
  {
   "cell_type": "code",
   "execution_count": 122,
   "metadata": {},
   "outputs": [
    {
     "ename": "AttributeError",
     "evalue": "'list' object has no attribute 'a'",
     "output_type": "error",
     "traceback": [
      "\u001b[1;31m---------------------------------------------------------------------------\u001b[0m",
      "\u001b[1;31mAttributeError\u001b[0m                            Traceback (most recent call last)",
      "\u001b[1;32m<ipython-input-122-11af3bf706b6>\u001b[0m in \u001b[0;36m<module>\u001b[1;34m()\u001b[0m\n\u001b[1;32m----> 1\u001b[1;33m \u001b[0ml\u001b[0m\u001b[1;33m.\u001b[0m\u001b[0ma\u001b[0m \u001b[1;33m=\u001b[0m \u001b[1;36m10\u001b[0m\u001b[1;33m\u001b[0m\u001b[0m\n\u001b[0m",
      "\u001b[1;31mAttributeError\u001b[0m: 'list' object has no attribute 'a'"
     ]
    }
   ],
   "source": [
    "l.a = 10"
   ]
  },
  {
   "cell_type": "code",
   "execution_count": 123,
   "metadata": {},
   "outputs": [
    {
     "ename": "AttributeError",
     "evalue": "'int' object has no attribute 'j'",
     "output_type": "error",
     "traceback": [
      "\u001b[1;31m---------------------------------------------------------------------------\u001b[0m",
      "\u001b[1;31mAttributeError\u001b[0m                            Traceback (most recent call last)",
      "\u001b[1;32m<ipython-input-123-f8c73f7112e3>\u001b[0m in \u001b[0;36m<module>\u001b[1;34m()\u001b[0m\n\u001b[0;32m      1\u001b[0m \u001b[0ma\u001b[0m \u001b[1;33m=\u001b[0m \u001b[1;36m12\u001b[0m\u001b[1;33m\u001b[0m\u001b[0m\n\u001b[1;32m----> 2\u001b[1;33m \u001b[0ma\u001b[0m\u001b[1;33m.\u001b[0m\u001b[0mj\u001b[0m \u001b[1;33m=\u001b[0m \u001b[1;36m13\u001b[0m\u001b[1;33m\u001b[0m\u001b[0m\n\u001b[0m",
      "\u001b[1;31mAttributeError\u001b[0m: 'int' object has no attribute 'j'"
     ]
    }
   ],
   "source": [
    "a = 12\n",
    "a.j = 13"
   ]
  },
  {
   "cell_type": "code",
   "execution_count": 124,
   "metadata": {},
   "outputs": [],
   "source": [
    "class One:\n",
    "    __slots__ = ['x','y','z']"
   ]
  },
  {
   "cell_type": "code",
   "execution_count": 125,
   "metadata": {},
   "outputs": [],
   "source": [
    "obj1 = One()"
   ]
  },
  {
   "cell_type": "code",
   "execution_count": 126,
   "metadata": {},
   "outputs": [],
   "source": [
    "obj1.x = 10"
   ]
  },
  {
   "cell_type": "code",
   "execution_count": 127,
   "metadata": {},
   "outputs": [],
   "source": [
    "obj1.y = 12"
   ]
  },
  {
   "cell_type": "code",
   "execution_count": 128,
   "metadata": {},
   "outputs": [],
   "source": [
    "obj1.z = 90"
   ]
  },
  {
   "cell_type": "code",
   "execution_count": 129,
   "metadata": {},
   "outputs": [
    {
     "ename": "AttributeError",
     "evalue": "'One' object has no attribute 'a'",
     "output_type": "error",
     "traceback": [
      "\u001b[1;31m---------------------------------------------------------------------------\u001b[0m",
      "\u001b[1;31mAttributeError\u001b[0m                            Traceback (most recent call last)",
      "\u001b[1;32m<ipython-input-129-2f221ef331b1>\u001b[0m in \u001b[0;36m<module>\u001b[1;34m()\u001b[0m\n\u001b[1;32m----> 1\u001b[1;33m \u001b[0mobj1\u001b[0m\u001b[1;33m.\u001b[0m\u001b[0ma\u001b[0m \u001b[1;33m=\u001b[0m \u001b[1;36m45\u001b[0m\u001b[1;33m\u001b[0m\u001b[0m\n\u001b[0m",
      "\u001b[1;31mAttributeError\u001b[0m: 'One' object has no attribute 'a'"
     ]
    }
   ],
   "source": [
    "obj1.a = 45"
   ]
  },
  {
   "cell_type": "code",
   "execution_count": 135,
   "metadata": {},
   "outputs": [],
   "source": [
    "class Student:\n",
    "    __slots__ = ['name','course','rollno']\n",
    "    def __init__(self,name,course):\n",
    "        self.name = name\n",
    "        self.course = course\n",
    "        #self.age = age\n",
    "    def show(self):\n",
    "        print(\"The name is : \",self.name)\n",
    "        print(\"The course is : \",self.course)\n",
    "        #print(\"The age is : \",self.age)"
   ]
  },
  {
   "cell_type": "code",
   "execution_count": 136,
   "metadata": {},
   "outputs": [],
   "source": [
    "stu1 = Student(\"Garima\",\"Python\")"
   ]
  },
  {
   "cell_type": "code",
   "execution_count": 137,
   "metadata": {},
   "outputs": [
    {
     "name": "stdout",
     "output_type": "stream",
     "text": [
      "The name is :  Garima\n",
      "The course is :  Python\n"
     ]
    }
   ],
   "source": [
    "stu1.show()"
   ]
  },
  {
   "cell_type": "code",
   "execution_count": 138,
   "metadata": {},
   "outputs": [],
   "source": [
    "stu1.rollno = 1001"
   ]
  },
  {
   "cell_type": "code",
   "execution_count": 139,
   "metadata": {},
   "outputs": [
    {
     "ename": "AttributeError",
     "evalue": "'Student' object has no attribute 'age'",
     "output_type": "error",
     "traceback": [
      "\u001b[1;31m---------------------------------------------------------------------------\u001b[0m",
      "\u001b[1;31mAttributeError\u001b[0m                            Traceback (most recent call last)",
      "\u001b[1;32m<ipython-input-139-8998d3c2cbf9>\u001b[0m in \u001b[0;36m<module>\u001b[1;34m()\u001b[0m\n\u001b[1;32m----> 1\u001b[1;33m \u001b[0mstu1\u001b[0m\u001b[1;33m.\u001b[0m\u001b[0mage\u001b[0m \u001b[1;33m=\u001b[0m \u001b[1;36m20\u001b[0m\u001b[1;33m\u001b[0m\u001b[0m\n\u001b[0m",
      "\u001b[1;31mAttributeError\u001b[0m: 'Student' object has no attribute 'age'"
     ]
    }
   ],
   "source": [
    "stu1.age = 20"
   ]
  },
  {
   "cell_type": "code",
   "execution_count": null,
   "metadata": {},
   "outputs": [],
   "source": []
  }
 ],
 "metadata": {
  "kernelspec": {
   "display_name": "Python 3",
   "language": "python",
   "name": "python3"
  },
  "language_info": {
   "codemirror_mode": {
    "name": "ipython",
    "version": 3
   },
   "file_extension": ".py",
   "mimetype": "text/x-python",
   "name": "python",
   "nbconvert_exporter": "python",
   "pygments_lexer": "ipython3",
   "version": "3.6.5"
  }
 },
 "nbformat": 4,
 "nbformat_minor": 2
}
