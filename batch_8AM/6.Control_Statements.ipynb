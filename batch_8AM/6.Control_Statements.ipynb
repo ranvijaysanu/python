{
 "cells": [
  {
   "cell_type": "code",
   "execution_count": 4,
   "metadata": {},
   "outputs": [
    {
     "name": "stdout",
     "output_type": "stream",
     "text": [
      "Enter month name : 16\n",
      "Invalid Month Number\n"
     ]
    }
   ],
   "source": [
    "# input month number and print month name --> if month invalid print invalid month\n",
    "month = int(input(\"Enter month name : \"))\n",
    "months = { 1:'Jan',2:'Feb',3:'March',4:'April',5:'May',\n",
    "          6:'June',7:'July',8:'Aug',9:'Sep',10:'Oct',11:'Nov',\n",
    "         12:'Dec'}\n",
    "if months.get(month,False) : \n",
    "    print(months.get(month))\n",
    "else :\n",
    "    print(\"Invalid Month Number\")"
   ]
  },
  {
   "cell_type": "code",
   "execution_count": 7,
   "metadata": {},
   "outputs": [
    {
     "name": "stdout",
     "output_type": "stream",
     "text": [
      "Enter month name : hello\n",
      "Invalid month name\n"
     ]
    }
   ],
   "source": [
    "# may, jun, oct --> 31, 30\n",
    "\n",
    "days = { 'jan':31,'feb':'28/29','mar':31,}\n",
    "day = input(\"Enter month name : \").strip().lower()\n",
    "print(days.get(day,\"Invalid month name\"))"
   ]
  },
  {
   "cell_type": "code",
   "execution_count": 10,
   "metadata": {},
   "outputs": [
    {
     "name": "stdout",
     "output_type": "stream",
     "text": [
      "Enter month name : laskdjf\n",
      "Invalid Month\n"
     ]
    }
   ],
   "source": [
    "day = input(\"Enter month name : \")\n",
    "if day in days : \n",
    "    print(days[day])\n",
    "else : \n",
    "    print(\"Invalid Month\")"
   ]
  },
  {
   "cell_type": "code",
   "execution_count": 20,
   "metadata": {},
   "outputs": [
    {
     "name": "stdout",
     "output_type": "stream",
     "text": [
      "Player1 : ········\n",
      "Match Tie\n"
     ]
    }
   ],
   "source": [
    "# Rock, Paper, Scissor \n",
    "from random import choice\n",
    "p1_win = [ ('rock','scissor'),('paper','rock'),('scissor','paper')]\n",
    "p2_win = [ ('rock','paper'),('paper','scissor'),('scissor','rock')]\n",
    "from getpass import getpass \n",
    "ch1 = getpass(\"Player1 : \").strip().lower()\n",
    "#ch2 = getpass(\"Player2 : \").strip().lower()\n",
    "ch2 = choice(['rock','paper','scissor'])\n",
    "if ch1 == ch2 : \n",
    "    print(\"Match Tie\")\n",
    "elif (ch1,ch2) in p1_win : \n",
    "    print(f\"Player1 Choice {ch1}\")\n",
    "    print(f\"Player2 Choice {ch2}\")\n",
    "    print(\"Player1 has won the Game\")\n",
    "elif (ch1,ch2) in p2_win : \n",
    "    print(f\"Player1 Choice {ch1}\")\n",
    "    print(f\"Player2 Choice {ch2}\")\n",
    "    print(\"Player2 has won the Game\")\n",
    "else : \n",
    "    print(\"Invalid Choices\")\n",
    "\n"
   ]
  },
  {
   "cell_type": "code",
   "execution_count": 13,
   "metadata": {},
   "outputs": [],
   "source": [
    "from random import choice"
   ]
  },
  {
   "cell_type": "code",
   "execution_count": 17,
   "metadata": {},
   "outputs": [
    {
     "data": {
      "text/plain": [
       "'ghanshaym'"
      ]
     },
     "execution_count": 17,
     "metadata": {},
     "output_type": "execute_result"
    }
   ],
   "source": [
    "choice(['ram','shyam','ghanshaym'])"
   ]
  },
  {
   "cell_type": "code",
   "execution_count": 22,
   "metadata": {},
   "outputs": [],
   "source": [
    "win = { \n",
    "    'p1' :[ ('rock','scissor'),('paper','rock'),('scissor','paper')],\n",
    "    'p2' : [ ('rock','paper'),('paper','scissor'),('scissor','rock')]\n",
    " \n",
    "}"
   ]
  },
  {
   "cell_type": "code",
   "execution_count": 23,
   "metadata": {},
   "outputs": [
    {
     "data": {
      "text/plain": [
       "{'p1': [('rock', 'scissor'), ('paper', 'rock'), ('scissor', 'paper')],\n",
       " 'p2': [('rock', 'paper'), ('paper', 'scissor'), ('scissor', 'rock')]}"
      ]
     },
     "execution_count": 23,
     "metadata": {},
     "output_type": "execute_result"
    }
   ],
   "source": [
    "win"
   ]
  },
  {
   "cell_type": "code",
   "execution_count": 24,
   "metadata": {},
   "outputs": [
    {
     "data": {
      "text/plain": [
       "False"
      ]
     },
     "execution_count": 24,
     "metadata": {},
     "output_type": "execute_result"
    }
   ],
   "source": [
    "('rock','paper') in win['p1']"
   ]
  },
  {
   "cell_type": "code",
   "execution_count": 25,
   "metadata": {},
   "outputs": [
    {
     "name": "stdout",
     "output_type": "stream",
     "text": [
      "1 Hello World\n",
      "2 Hello World\n",
      "3 Hello World\n",
      "4 Hello World\n",
      "5 Hello World\n",
      "6 Hello World\n",
      "7 Hello World\n",
      "8 Hello World\n",
      "9 Hello World\n",
      "10 Hello World\n"
     ]
    }
   ],
   "source": [
    "c = 1\n",
    "while c <= 10 : \n",
    "    print(f\"{c} Hello World\")\n",
    "    c = c + 1\n"
   ]
  },
  {
   "cell_type": "code",
   "execution_count": 34,
   "metadata": {},
   "outputs": [
    {
     "name": "stdout",
     "output_type": "stream",
     "text": [
      "                     10          100                        \n",
      "                     9           81                         \n",
      "                     8           64                         \n",
      "                     7           49                         \n",
      "                     6           36                         \n",
      "                     5           25                         \n",
      "                     4           16                         \n",
      "                     3           9                          \n",
      "                     2           4                          \n",
      "                     1           1                          \n"
     ]
    }
   ],
   "source": [
    "c = 1\n",
    "while c <= 10 : \n",
    "    num = 11 - c\n",
    "    print(f\"{num:<10}  {num**2:<5}\".center(60))\n",
    "    c = c + 1"
   ]
  },
  {
   "cell_type": "code",
   "execution_count": 44,
   "metadata": {},
   "outputs": [
    {
     "name": "stdout",
     "output_type": "stream",
     "text": [
      "Enter  a number : 5\n",
      "0     +\t 5      =     5\n",
      "5     +\t 5      =    10\n",
      "10    +\t 5      =    15\n",
      "15    +\t 5      =    20\n",
      "20    +\t 5      =    25\n",
      "25    +\t 5      =    30\n",
      "30    +\t 5      =    35\n",
      "35    +\t 5      =    40\n",
      "40    +\t 5      =    45\n",
      "45    +\t 5      =    50\n"
     ]
    }
   ],
   "source": [
    "# table of a number \n",
    "num = int(input(\"Enter  a number : \"))\n",
    "c = 1\n",
    "s = 0 \n",
    "while c <= 10 : \n",
    "    print(f\"{s:<5} +\\t {num:<5}  = {s+num:>5}\")\n",
    "    s = s + num\n",
    "    c = c + 1"
   ]
  },
  {
   "cell_type": "code",
   "execution_count": 46,
   "metadata": {},
   "outputs": [
    {
     "name": "stdout",
     "output_type": "stream",
     "text": [
      "0\n",
      "1\n",
      "1\n",
      "2\n",
      "3\n"
     ]
    }
   ],
   "source": [
    "# 0 1 1 2 3 5 8 ...\n",
    "\n",
    "s = 0 \n",
    "e = 1\n",
    "\n",
    "print(s)\n",
    "print(e)\n",
    "\n",
    "print(s+e)\n",
    "\n",
    "tmp = s\n",
    "s = e\n",
    "e = tmp+e\n",
    "\n",
    "print(s+e)\n",
    "\n",
    "tmp  = s\n",
    "s = e\n",
    "e = tmp + e\n",
    "print(s+e)"
   ]
  },
  {
   "cell_type": "code",
   "execution_count": 47,
   "metadata": {},
   "outputs": [],
   "source": [
    "x,y = 1,2"
   ]
  },
  {
   "cell_type": "code",
   "execution_count": 48,
   "metadata": {},
   "outputs": [
    {
     "name": "stdout",
     "output_type": "stream",
     "text": [
      "1\n",
      "2\n"
     ]
    }
   ],
   "source": [
    "print(x)\n",
    "print(y)"
   ]
  },
  {
   "cell_type": "code",
   "execution_count": 49,
   "metadata": {},
   "outputs": [
    {
     "name": "stdout",
     "output_type": "stream",
     "text": [
      "11\n",
      "-1\n"
     ]
    }
   ],
   "source": [
    "x = 5\n",
    "y = 6\n",
    "x,y = x+y,x-y # x,y = 5+6,5-6 # x,y = 11,-1\n",
    "print(x)\n",
    "print(y)"
   ]
  },
  {
   "cell_type": "code",
   "execution_count": 50,
   "metadata": {},
   "outputs": [
    {
     "name": "stdout",
     "output_type": "stream",
     "text": [
      "6 5\n"
     ]
    }
   ],
   "source": [
    "# swap two number without 3rd variable\n",
    "\n",
    "x = 5\n",
    "y = 6\n",
    "tmp = x\n",
    "x = y \n",
    "y = tmp\n",
    "print(x,y)"
   ]
  },
  {
   "cell_type": "code",
   "execution_count": 51,
   "metadata": {},
   "outputs": [
    {
     "name": "stdout",
     "output_type": "stream",
     "text": [
      "5 6\n",
      "6 5\n"
     ]
    }
   ],
   "source": [
    "x,y=5,6\n",
    "print(x,y)\n",
    "x = x + y \n",
    "y = x -y \n",
    "x = x - y \n",
    "print(x,y)"
   ]
  },
  {
   "cell_type": "code",
   "execution_count": 58,
   "metadata": {},
   "outputs": [
    {
     "name": "stdout",
     "output_type": "stream",
     "text": [
      "Enter of Terms 5\n",
      "0, 1, 1, 2, 3, "
     ]
    }
   ],
   "source": [
    "num = int(input(\"Enter of Terms \"))\n",
    "c = 1\n",
    "s = 0\n",
    "e = 1\n",
    "print(s,e,sep=', ',end=', ')\n",
    "while c <= num-2 : \n",
    "    print(s+e,end=', ')\n",
    "    s,e = e,s+e\n",
    "    c = c + 1"
   ]
  },
  {
   "cell_type": "code",
   "execution_count": 60,
   "metadata": {},
   "outputs": [
    {
     "name": "stdout",
     "output_type": "stream",
     "text": [
      "Bye World\n"
     ]
    }
   ],
   "source": [
    "while False : \n",
    "    print(\"Hello World\")\n",
    "else : \n",
    "    print(\"Bye World\")\n",
    "    "
   ]
  },
  {
   "cell_type": "code",
   "execution_count": 61,
   "metadata": {},
   "outputs": [
    {
     "name": "stdout",
     "output_type": "stream",
     "text": [
      "1. Hello World\n",
      "2. Hello World\n",
      "3. Hello World\n",
      "4. Hello World\n",
      "Bye World\n"
     ]
    }
   ],
   "source": [
    "c = 1\n",
    "while c < 5 : \n",
    "    print(f\"{c}. Hello World\")\n",
    "    c += 1\n",
    "else : \n",
    "    print(\"Bye World\")\n",
    "    "
   ]
  },
  {
   "cell_type": "code",
   "execution_count": 62,
   "metadata": {},
   "outputs": [
    {
     "name": "stdout",
     "output_type": "stream",
     "text": [
      "hello world\n"
     ]
    }
   ],
   "source": [
    "while True : \n",
    "    print(\"hello world\")\n",
    "    break \n"
   ]
  },
  {
   "cell_type": "code",
   "execution_count": 63,
   "metadata": {},
   "outputs": [
    {
     "name": "stdout",
     "output_type": "stream",
     "text": [
      "Hello World Times 0\n",
      "Hello World Times 2\n",
      "Hello World Times 4\n",
      "Hello World Times 6\n",
      "Hello World Times 8\n",
      "Hello World Times 10\n",
      "All Good\n"
     ]
    }
   ],
   "source": [
    "c = 0\n",
    "while c <= 10 : \n",
    "    if c % 2 : \n",
    "        break\n",
    "    print(f\"Hello World Times {c}\")\n",
    "    c = c + 2\n",
    "else : \n",
    "    print(\"All Good\")"
   ]
  },
  {
   "cell_type": "code",
   "execution_count": 64,
   "metadata": {},
   "outputs": [],
   "source": [
    "c = 0\n",
    "while c <= 10 : \n",
    "    if c % 2 == 0: \n",
    "        break\n",
    "    print(f\"Hello World Times {c}\")\n",
    "    c = c + 2\n",
    "else : \n",
    "    print(\"All Good\")"
   ]
  },
  {
   "cell_type": "code",
   "execution_count": 66,
   "metadata": {},
   "outputs": [
    {
     "name": "stdout",
     "output_type": "stream",
     "text": [
      "1.Hello World\n",
      "3.Hello World\n",
      "5.Hello World\n",
      "haan ji \n"
     ]
    }
   ],
   "source": [
    "c = 1\n",
    "while c <= 5 : \n",
    "    print(f\"{c}.Hello World\")\n",
    "    c += 2\n",
    "    continue\n",
    "    print(\"bye world\")\n",
    "    c += 1\n",
    "else : \n",
    "    print(\"haan ji \")"
   ]
  },
  {
   "cell_type": "code",
   "execution_count": 68,
   "metadata": {},
   "outputs": [
    {
     "name": "stdout",
     "output_type": "stream",
     "text": [
      "hello World\n",
      "hello World\n"
     ]
    }
   ],
   "source": [
    "c = 0 \n",
    "while c <= 10 : \n",
    "    print(\"hello World\")\n",
    "    if c % 2 : \n",
    "        c += 2\n",
    "    else : \n",
    "        c += 3\n",
    "    if c == 5 : \n",
    "        break \n",
    "else : \n",
    "    print(\"bye world\")"
   ]
  },
  {
   "cell_type": "code",
   "execution_count": 69,
   "metadata": {},
   "outputs": [],
   "source": [
    "# Guess Game\n",
    "from random import randint\n"
   ]
  },
  {
   "cell_type": "code",
   "execution_count": 73,
   "metadata": {},
   "outputs": [
    {
     "data": {
      "text/plain": [
       "47"
      ]
     },
     "execution_count": 73,
     "metadata": {},
     "output_type": "execute_result"
    }
   ],
   "source": [
    "randint(1,50)"
   ]
  },
  {
   "cell_type": "markdown",
   "metadata": {},
   "source": [
    "# for loop "
   ]
  },
  {
   "cell_type": "code",
   "execution_count": 75,
   "metadata": {},
   "outputs": [],
   "source": [
    "s = \"python\""
   ]
  },
  {
   "cell_type": "code",
   "execution_count": 76,
   "metadata": {},
   "outputs": [
    {
     "name": "stdout",
     "output_type": "stream",
     "text": [
      "p\n",
      "y\n",
      "t\n",
      "h\n",
      "o\n",
      "n\n",
      "all good\n"
     ]
    }
   ],
   "source": [
    "for var in s : \n",
    "    print(var)\n",
    "else : \n",
    "    print(\"all good\")"
   ]
  },
  {
   "cell_type": "code",
   "execution_count": 77,
   "metadata": {},
   "outputs": [
    {
     "name": "stdout",
     "output_type": "stream",
     "text": [
      "1\n",
      "2\n",
      "3\n",
      "hi\n",
      "hello\n",
      "bye\n",
      "all items are printed\n"
     ]
    }
   ],
   "source": [
    "for item in [1,2,3,'hi','hello','bye'] : \n",
    "    print(item)\n",
    "else : \n",
    "    print(\"all items are printed\")"
   ]
  },
  {
   "cell_type": "code",
   "execution_count": 79,
   "metadata": {},
   "outputs": [
    {
     "data": {
      "text/plain": [
       "[(0, 'p'), (1, 'y'), (2, 't'), (3, 'h'), (4, 'o'), (5, 'n')]"
      ]
     },
     "execution_count": 79,
     "metadata": {},
     "output_type": "execute_result"
    }
   ],
   "source": [
    "list(enumerate('python'))"
   ]
  },
  {
   "cell_type": "code",
   "execution_count": 80,
   "metadata": {},
   "outputs": [],
   "source": [
    "d = { 'one':1,'two':2,'three':3}"
   ]
  },
  {
   "cell_type": "code",
   "execution_count": 81,
   "metadata": {},
   "outputs": [
    {
     "name": "stdout",
     "output_type": "stream",
     "text": [
      "one\n",
      "two\n",
      "three\n"
     ]
    }
   ],
   "source": [
    "for var in d : \n",
    "    print(var)"
   ]
  },
  {
   "cell_type": "code",
   "execution_count": 83,
   "metadata": {},
   "outputs": [
    {
     "name": "stdout",
     "output_type": "stream",
     "text": [
      "one = 1\n",
      "two = 2\n",
      "three = 3\n"
     ]
    }
   ],
   "source": [
    "for key in d : \n",
    "    print(key,'=',d[key])"
   ]
  },
  {
   "cell_type": "code",
   "execution_count": 84,
   "metadata": {},
   "outputs": [
    {
     "data": {
      "text/plain": [
       "{'one': 1, 'two': 2, 'three': 3}"
      ]
     },
     "execution_count": 84,
     "metadata": {},
     "output_type": "execute_result"
    }
   ],
   "source": [
    "d"
   ]
  },
  {
   "cell_type": "code",
   "execution_count": 85,
   "metadata": {},
   "outputs": [
    {
     "data": {
      "text/plain": [
       "2"
      ]
     },
     "execution_count": 85,
     "metadata": {},
     "output_type": "execute_result"
    }
   ],
   "source": [
    "d['two']"
   ]
  },
  {
   "cell_type": "code",
   "execution_count": 87,
   "metadata": {},
   "outputs": [
    {
     "name": "stdout",
     "output_type": "stream",
     "text": [
      "1024\n",
      "1\n",
      "1156\n",
      "9\n",
      "4\n",
      "104329\n",
      "53824\n",
      "54756\n",
      "576\n"
     ]
    }
   ],
   "source": [
    "for item in {1,3,34,234,34,24,2,32,3,232,323} : \n",
    "    print(item**2)"
   ]
  },
  {
   "cell_type": "code",
   "execution_count": 88,
   "metadata": {},
   "outputs": [],
   "source": [
    "l = [ randint(1,50) for var in range(10)]"
   ]
  },
  {
   "cell_type": "code",
   "execution_count": 89,
   "metadata": {},
   "outputs": [
    {
     "data": {
      "text/plain": [
       "[24, 46, 41, 18, 6, 19, 5, 18, 26, 2]"
      ]
     },
     "execution_count": 89,
     "metadata": {},
     "output_type": "execute_result"
    }
   ],
   "source": [
    "l"
   ]
  },
  {
   "cell_type": "code",
   "execution_count": 90,
   "metadata": {},
   "outputs": [],
   "source": [
    "sl = []\n",
    "for item in l : \n",
    "    sl.append(item**2)"
   ]
  },
  {
   "cell_type": "code",
   "execution_count": 91,
   "metadata": {},
   "outputs": [
    {
     "data": {
      "text/plain": [
       "[576, 2116, 1681, 324, 36, 361, 25, 324, 676, 4]"
      ]
     },
     "execution_count": 91,
     "metadata": {},
     "output_type": "execute_result"
    }
   ],
   "source": [
    "sl"
   ]
  },
  {
   "cell_type": "code",
   "execution_count": 93,
   "metadata": {},
   "outputs": [
    {
     "data": {
      "text/plain": [
       "[24, 46, 41, 18, 6, 19, 5, 18, 26, 2]"
      ]
     },
     "execution_count": 93,
     "metadata": {},
     "output_type": "execute_result"
    }
   ],
   "source": [
    "l"
   ]
  },
  {
   "cell_type": "code",
   "execution_count": 94,
   "metadata": {},
   "outputs": [
    {
     "data": {
      "text/plain": [
       "range(1, 10)"
      ]
     },
     "execution_count": 94,
     "metadata": {},
     "output_type": "execute_result"
    }
   ],
   "source": [
    "range(1,10)"
   ]
  },
  {
   "cell_type": "code",
   "execution_count": 95,
   "metadata": {},
   "outputs": [
    {
     "name": "stdout",
     "output_type": "stream",
     "text": [
      "1 2 3 4 5 6 7 8 9\n"
     ]
    }
   ],
   "source": [
    "print(*range(1,10))"
   ]
  },
  {
   "cell_type": "code",
   "execution_count": 96,
   "metadata": {},
   "outputs": [
    {
     "name": "stdout",
     "output_type": "stream",
     "text": [
      "0 1 2 3 4\n"
     ]
    }
   ],
   "source": [
    "# range(start,end,jump)\n",
    "print(*range(5))"
   ]
  },
  {
   "cell_type": "code",
   "execution_count": 97,
   "metadata": {},
   "outputs": [
    {
     "name": "stdout",
     "output_type": "stream",
     "text": [
      "-10 -9 -8 -7 -6\n"
     ]
    }
   ],
   "source": [
    "print(*range(-10,-5))"
   ]
  },
  {
   "cell_type": "code",
   "execution_count": 98,
   "metadata": {},
   "outputs": [
    {
     "name": "stdout",
     "output_type": "stream",
     "text": [
      "13 26 39 52 65 78 91 104 117 130\n"
     ]
    }
   ],
   "source": [
    "print(*range(13,131,13))"
   ]
  },
  {
   "cell_type": "code",
   "execution_count": 99,
   "metadata": {},
   "outputs": [
    {
     "name": "stdout",
     "output_type": "stream",
     "text": [
      "0\n",
      "1\n",
      "2\n",
      "3\n",
      "4\n"
     ]
    }
   ],
   "source": [
    "for var in range(5) : \n",
    "    print(var)"
   ]
  },
  {
   "cell_type": "code",
   "execution_count": 100,
   "metadata": {},
   "outputs": [
    {
     "name": "stdout",
     "output_type": "stream",
     "text": [
      "-10\n",
      "-8\n",
      "-6\n",
      "-4\n",
      "-2\n",
      "0\n",
      "2\n",
      "4\n",
      "6\n",
      "8\n"
     ]
    }
   ],
   "source": [
    "for var in range(-10,10,2):\n",
    "    print(var)"
   ]
  },
  {
   "cell_type": "code",
   "execution_count": 103,
   "metadata": {},
   "outputs": [
    {
     "name": "stdout",
     "output_type": "stream",
     "text": [
      "1\n"
     ]
    },
    {
     "ename": "ValueError",
     "evalue": "not enough values to unpack (expected 2, got 1)",
     "output_type": "error",
     "traceback": [
      "\u001b[1;31m---------------------------------------------------------------------------\u001b[0m",
      "\u001b[1;31mValueError\u001b[0m                                Traceback (most recent call last)",
      "\u001b[1;32m<ipython-input-103-362d7a7638e0>\u001b[0m in \u001b[0;36m<module>\u001b[1;34m\u001b[0m\n\u001b[1;32m----> 1\u001b[1;33m \u001b[0mx\u001b[0m\u001b[1;33m,\u001b[0m\u001b[0my\u001b[0m \u001b[1;33m=\u001b[0m \u001b[0minput\u001b[0m\u001b[1;33m(\u001b[0m\u001b[1;33m)\u001b[0m\u001b[1;33m.\u001b[0m\u001b[0msplit\u001b[0m\u001b[1;33m(\u001b[0m\u001b[1;33m)\u001b[0m\u001b[1;33m\u001b[0m\u001b[1;33m\u001b[0m\u001b[0m\n\u001b[0m",
      "\u001b[1;31mValueError\u001b[0m: not enough values to unpack (expected 2, got 1)"
     ]
    }
   ],
   "source": [
    "x,y = input().split()"
   ]
  },
  {
   "cell_type": "code",
   "execution_count": 104,
   "metadata": {},
   "outputs": [
    {
     "name": "stdout",
     "output_type": "stream",
     "text": [
      "1 2\n"
     ]
    }
   ],
   "source": [
    "#map(func,sequence)\n",
    "\n",
    "x,y = map(int,input().split())"
   ]
  },
  {
   "cell_type": "code",
   "execution_count": 105,
   "metadata": {},
   "outputs": [
    {
     "name": "stdout",
     "output_type": "stream",
     "text": [
      "remove 5\n"
     ]
    }
   ],
   "source": [
    "x = input().split()"
   ]
  },
  {
   "cell_type": "code",
   "execution_count": 106,
   "metadata": {},
   "outputs": [
    {
     "data": {
      "text/plain": [
       "['remove', '5']"
      ]
     },
     "execution_count": 106,
     "metadata": {},
     "output_type": "execute_result"
    }
   ],
   "source": [
    "x"
   ]
  },
  {
   "cell_type": "code",
   "execution_count": 111,
   "metadata": {},
   "outputs": [
    {
     "name": "stdout",
     "output_type": "stream",
     "text": [
      "remove 5\n",
      "5\n"
     ]
    }
   ],
   "source": [
    "x = input().split()\n",
    "if x[0] == 'remove' : \n",
    "    print(x[1])\n",
    "else : \n",
    "    print(x)"
   ]
  },
  {
   "cell_type": "code",
   "execution_count": null,
   "metadata": {},
   "outputs": [],
   "source": []
  }
 ],
 "metadata": {
  "kernelspec": {
   "display_name": "Python 3",
   "language": "python",
   "name": "python3"
  },
  "language_info": {
   "codemirror_mode": {
    "name": "ipython",
    "version": 3
   },
   "file_extension": ".py",
   "mimetype": "text/x-python",
   "name": "python",
   "nbconvert_exporter": "python",
   "pygments_lexer": "ipython3",
   "version": "3.6.5"
  }
 },
 "nbformat": 4,
 "nbformat_minor": 2
}
