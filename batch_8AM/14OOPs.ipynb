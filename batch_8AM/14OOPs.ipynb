{
 "cells": [
  {
   "cell_type": "markdown",
   "metadata": {},
   "source": [
    "# OOPs"
   ]
  },
  {
   "cell_type": "markdown",
   "metadata": {},
   "source": [
    "1. Objects\n",
    "2. Class\n",
    "3. methods\n",
    "4. Inheritance\n",
    "5. Polymorphism\n",
    "6. Abstraction\n",
    "7. Encapsulation"
   ]
  },
  {
   "cell_type": "code",
   "execution_count": 1,
   "metadata": {},
   "outputs": [],
   "source": [
    "class A:\n",
    "    pass"
   ]
  },
  {
   "cell_type": "code",
   "execution_count": 2,
   "metadata": {},
   "outputs": [],
   "source": [
    "a = A()"
   ]
  },
  {
   "cell_type": "code",
   "execution_count": 3,
   "metadata": {},
   "outputs": [
    {
     "name": "stdout",
     "output_type": "stream",
     "text": [
      "<class '__main__.A'>\n"
     ]
    }
   ],
   "source": [
    "print(type(a))"
   ]
  },
  {
   "cell_type": "code",
   "execution_count": 4,
   "metadata": {},
   "outputs": [
    {
     "name": "stdout",
     "output_type": "stream",
     "text": [
      "<class 'list'>\n"
     ]
    }
   ],
   "source": [
    "l = [1,2,3]\n",
    "print(type(l))"
   ]
  },
  {
   "cell_type": "code",
   "execution_count": 5,
   "metadata": {},
   "outputs": [],
   "source": [
    "l.append(1)"
   ]
  },
  {
   "cell_type": "code",
   "execution_count": 6,
   "metadata": {},
   "outputs": [
    {
     "data": {
      "text/plain": [
       "[1, 2, 3, 1]"
      ]
     },
     "execution_count": 6,
     "metadata": {},
     "output_type": "execute_result"
    }
   ],
   "source": [
    "l"
   ]
  },
  {
   "cell_type": "code",
   "execution_count": 7,
   "metadata": {},
   "outputs": [],
   "source": [
    "class A:\n",
    "    \"\"\"This is doc string\"\"\""
   ]
  },
  {
   "cell_type": "code",
   "execution_count": 8,
   "metadata": {},
   "outputs": [
    {
     "data": {
      "text/plain": [
       "'This is doc string'"
      ]
     },
     "execution_count": 8,
     "metadata": {},
     "output_type": "execute_result"
    }
   ],
   "source": [
    "a = A()\n",
    "a.__doc__"
   ]
  },
  {
   "cell_type": "code",
   "execution_count": 9,
   "metadata": {},
   "outputs": [],
   "source": [
    "class A:\n",
    "    def show():\n",
    "        \"\"\"This is doc string of function\"\"\"\n"
   ]
  },
  {
   "cell_type": "code",
   "execution_count": 10,
   "metadata": {},
   "outputs": [
    {
     "data": {
      "text/plain": [
       "'This is doc string of function'"
      ]
     },
     "execution_count": 10,
     "metadata": {},
     "output_type": "execute_result"
    }
   ],
   "source": [
    "a = A()\n",
    "a.show.__doc__"
   ]
  },
  {
   "cell_type": "code",
   "execution_count": 11,
   "metadata": {},
   "outputs": [],
   "source": [
    "class Employee:\n",
    "    name = \"Khushi\"  #class variable \n",
    "    def show():\n",
    "        print(\"The name of student is \",Employee.name)"
   ]
  },
  {
   "cell_type": "code",
   "execution_count": 15,
   "metadata": {},
   "outputs": [
    {
     "name": "stdout",
     "output_type": "stream",
     "text": [
      "The name of student is  Khushi\n"
     ]
    }
   ],
   "source": [
    "obj = Employee()\n",
    "Employee.show()"
   ]
  },
  {
   "cell_type": "code",
   "execution_count": 29,
   "metadata": {},
   "outputs": [],
   "source": [
    "class Employee:\n",
    "    def show(self):\n",
    "        print(\"The object name is : \",self.name)"
   ]
  },
  {
   "cell_type": "code",
   "execution_count": 30,
   "metadata": {},
   "outputs": [],
   "source": [
    "e1 = Employee()"
   ]
  },
  {
   "cell_type": "code",
   "execution_count": 31,
   "metadata": {},
   "outputs": [],
   "source": [
    "e1.name = \"Simran\"   #dynamic binding"
   ]
  },
  {
   "cell_type": "code",
   "execution_count": 32,
   "metadata": {},
   "outputs": [],
   "source": [
    "e1.rollno = 101"
   ]
  },
  {
   "cell_type": "code",
   "execution_count": 33,
   "metadata": {},
   "outputs": [
    {
     "data": {
      "text/plain": [
       "'Simran'"
      ]
     },
     "execution_count": 33,
     "metadata": {},
     "output_type": "execute_result"
    }
   ],
   "source": [
    "e1.name"
   ]
  },
  {
   "cell_type": "code",
   "execution_count": 34,
   "metadata": {},
   "outputs": [
    {
     "data": {
      "text/plain": [
       "101"
      ]
     },
     "execution_count": 34,
     "metadata": {},
     "output_type": "execute_result"
    }
   ],
   "source": [
    "e1.rollno"
   ]
  },
  {
   "cell_type": "code",
   "execution_count": 35,
   "metadata": {},
   "outputs": [],
   "source": [
    "e2 = Employee()"
   ]
  },
  {
   "cell_type": "code",
   "execution_count": 36,
   "metadata": {},
   "outputs": [],
   "source": [
    "e2.name = \"Khushi\"\n",
    "e2.course = \"Python\"\n",
    "e2.rollno = 102"
   ]
  },
  {
   "cell_type": "code",
   "execution_count": 37,
   "metadata": {},
   "outputs": [
    {
     "data": {
      "text/plain": [
       "'Khushi'"
      ]
     },
     "execution_count": 37,
     "metadata": {},
     "output_type": "execute_result"
    }
   ],
   "source": [
    "e2.name"
   ]
  },
  {
   "cell_type": "code",
   "execution_count": 38,
   "metadata": {},
   "outputs": [
    {
     "data": {
      "text/plain": [
       "'Simran'"
      ]
     },
     "execution_count": 38,
     "metadata": {},
     "output_type": "execute_result"
    }
   ],
   "source": [
    "e1.name"
   ]
  },
  {
   "cell_type": "code",
   "execution_count": 39,
   "metadata": {},
   "outputs": [
    {
     "data": {
      "text/plain": [
       "{'name': 'Simran', 'rollno': 101}"
      ]
     },
     "execution_count": 39,
     "metadata": {},
     "output_type": "execute_result"
    }
   ],
   "source": [
    "e1.__dict__"
   ]
  },
  {
   "cell_type": "code",
   "execution_count": 40,
   "metadata": {},
   "outputs": [
    {
     "data": {
      "text/plain": [
       "{'name': 'Khushi', 'course': 'Python', 'rollno': 102}"
      ]
     },
     "execution_count": 40,
     "metadata": {},
     "output_type": "execute_result"
    }
   ],
   "source": [
    "e2.__dict__"
   ]
  },
  {
   "cell_type": "code",
   "execution_count": 41,
   "metadata": {},
   "outputs": [
    {
     "name": "stdout",
     "output_type": "stream",
     "text": [
      "The object name is :  Simran\n"
     ]
    }
   ],
   "source": [
    "e1.show()"
   ]
  },
  {
   "cell_type": "code",
   "execution_count": 42,
   "metadata": {},
   "outputs": [
    {
     "name": "stdout",
     "output_type": "stream",
     "text": [
      "The object name is :  Khushi\n"
     ]
    }
   ],
   "source": [
    "e2.show()"
   ]
  },
  {
   "cell_type": "code",
   "execution_count": 47,
   "metadata": {},
   "outputs": [],
   "source": [
    "class Employee:\n",
    "    count = 0   #class variable\n",
    "    def setit(self,name):\n",
    "        self.name = name   #object attribute\n",
    "        Employee.count += 1\n",
    "    def show():\n",
    "        print(\"The number of employee is : \",Employee.count)"
   ]
  },
  {
   "cell_type": "code",
   "execution_count": 44,
   "metadata": {},
   "outputs": [],
   "source": [
    "e1 = Employee()\n",
    "e2 = Employee()\n",
    "e3 = Employee()\n",
    "e4 = Employee()\n",
    "e1.setit(\"Simran\")\n",
    "e2.setit(\"Ravi\")\n",
    "e3.setit(\"Sachin\")\n",
    "e4.setit(\"Rajat\")"
   ]
  },
  {
   "cell_type": "code",
   "execution_count": 45,
   "metadata": {},
   "outputs": [
    {
     "name": "stdout",
     "output_type": "stream",
     "text": [
      "The number of employee is :  4\n"
     ]
    }
   ],
   "source": [
    "Employee.show()"
   ]
  },
  {
   "cell_type": "code",
   "execution_count": 48,
   "metadata": {},
   "outputs": [
    {
     "name": "stdout",
     "output_type": "stream",
     "text": [
      "The number of employee is :  1\n"
     ]
    }
   ],
   "source": [
    "e5 = Employee()\n",
    "e5.setit(\"Raghav\")\n",
    "Employee.show()"
   ]
  },
  {
   "cell_type": "code",
   "execution_count": 49,
   "metadata": {},
   "outputs": [],
   "source": [
    "class Person:\n",
    "    def setit(self,n,c,a):\n",
    "        self.name = n\n",
    "        self.color = c\n",
    "        self.age = a\n",
    "    def getit(self):\n",
    "        print(\"The name is : \",self.name)\n",
    "        print(\"The color is : \",self.color)\n",
    "        print(\"The age is : \",self.age)\n",
    "        "
   ]
  },
  {
   "cell_type": "code",
   "execution_count": 50,
   "metadata": {},
   "outputs": [],
   "source": [
    "p1 = Person()\n",
    "p1.setit(\"Khushi\",\"Fair\",20)\n",
    "p2 = Person()\n",
    "p2.setit(\"Rahul\",\"dark\",25)\n"
   ]
  },
  {
   "cell_type": "code",
   "execution_count": 55,
   "metadata": {},
   "outputs": [
    {
     "name": "stdout",
     "output_type": "stream",
     "text": [
      "The name is :  Rahul\n",
      "The color is :  dark\n",
      "The age is :  25\n"
     ]
    }
   ],
   "source": [
    "p2.getit()"
   ]
  },
  {
   "cell_type": "code",
   "execution_count": 56,
   "metadata": {},
   "outputs": [
    {
     "name": "stdout",
     "output_type": "stream",
     "text": [
      "The name is :  Khushi\n",
      "The color is :  Fair\n",
      "The age is :  20\n"
     ]
    }
   ],
   "source": [
    "p1.getit()"
   ]
  },
  {
   "cell_type": "code",
   "execution_count": 57,
   "metadata": {},
   "outputs": [],
   "source": [
    "class Student:\n",
    "    count = 0\n",
    "    def setit(self,name,course,year):\n",
    "        self.name = name\n",
    "        self.course = course\n",
    "        self.year = year\n",
    "        Student.count += 1\n",
    "    def getit(self):\n",
    "        print(\"The name of student is : \",self.name)\n",
    "        print(\"The course of student is : \",self.course)\n",
    "        print(\"The year of student is : \",self.year)\n",
    "    def change(self):\n",
    "        self.name = input(\"Enter the new name : \")\n",
    "        self.course = input(\"Enter the new course : \")\n",
    "        self.year = int(input(\"Enter the new year :  \"))\n",
    "    def showstudent(self):\n",
    "        print(\"The total students are : \",Student.count)"
   ]
  },
  {
   "cell_type": "code",
   "execution_count": 58,
   "metadata": {},
   "outputs": [],
   "source": [
    "s1 = Student()\n",
    "s1.setit(\"Simran\",\"Python\",4)\n",
    "s2 = Student()\n",
    "s2.setit(\"Khushi\",\"Python\",4)\n",
    "s3 = Student()\n",
    "s3.setit(\"Manan\",\"Datascience\",4)"
   ]
  },
  {
   "cell_type": "code",
   "execution_count": 59,
   "metadata": {},
   "outputs": [
    {
     "name": "stdout",
     "output_type": "stream",
     "text": [
      "The name of student is :  Simran\n",
      "The course of student is :  Python\n",
      "The year of student is :  4\n"
     ]
    }
   ],
   "source": [
    "s1.getit()"
   ]
  },
  {
   "cell_type": "code",
   "execution_count": 60,
   "metadata": {},
   "outputs": [
    {
     "name": "stdout",
     "output_type": "stream",
     "text": [
      "Enter the new name : ravi\n",
      "Enter the new course : java\n",
      "Enter the new year :  4\n"
     ]
    }
   ],
   "source": [
    "s1.change()"
   ]
  },
  {
   "cell_type": "code",
   "execution_count": 61,
   "metadata": {},
   "outputs": [
    {
     "name": "stdout",
     "output_type": "stream",
     "text": [
      "The name of student is :  ravi\n",
      "The course of student is :  java\n",
      "The year of student is :  4\n"
     ]
    }
   ],
   "source": [
    "s1.getit()"
   ]
  },
  {
   "cell_type": "code",
   "execution_count": 63,
   "metadata": {},
   "outputs": [
    {
     "name": "stdout",
     "output_type": "stream",
     "text": [
      "The total students are :  3\n"
     ]
    }
   ],
   "source": [
    "s1.showstudent()"
   ]
  },
  {
   "cell_type": "code",
   "execution_count": 64,
   "metadata": {},
   "outputs": [],
   "source": [
    "class Class:\n",
    "    def setit(self,chair,table,computer,fan):\n",
    "        self.chair = chair\n",
    "        self.table = table\n",
    "        self.computer = computer\n",
    "        self.fan = fan\n",
    "    def getit(self):\n",
    "        print(\"The number of chairs are : \",self.chair)\n",
    "        print(\"The number of tables are : \",self.table)\n",
    "        print(\"The number of computers are : \",self.computer)\n",
    "        print(\"The number of fans are : \",self.fan)\n",
    "    def change(self):\n",
    "        print(\"1.Chair\\n2.Table\\n3.Computer\\n4.Fan\")\n",
    "        ch = input(\"Enter your choice : \")\n",
    "        if ch.strip().upper() == \"CHAIR\":\n",
    "            self.chair = int(input(\"Enter the number of chairs : \"))\n",
    "        elif ch.strip().upper() == \"TABLE\":\n",
    "            self.table = int(input(\"Enter the number of tables : \"))\n",
    "        elif ch.strip().upper() == \"COMPUTER\":\n",
    "            self.computer = int(input(\"Enter the number of computer : \"))\n",
    "        elif ch.strip().upper() == \"FAN\":\n",
    "            self.fan = int(input(\"Enter the number of fan : \"))\n",
    "        else:\n",
    "            print(\"Nothing is changed\")\n",
    "        "
   ]
  },
  {
   "cell_type": "code",
   "execution_count": 65,
   "metadata": {},
   "outputs": [],
   "source": [
    "c1 = Class()"
   ]
  },
  {
   "cell_type": "code",
   "execution_count": 66,
   "metadata": {},
   "outputs": [
    {
     "name": "stdout",
     "output_type": "stream",
     "text": [
      "The number of chairs are :  10\n",
      "The number of tables are :  12\n",
      "The number of computers are :  20\n",
      "The number of fans are :  4\n"
     ]
    }
   ],
   "source": [
    "c1.setit(10,12,20,4)\n",
    "c1.getit()"
   ]
  },
  {
   "cell_type": "code",
   "execution_count": 67,
   "metadata": {},
   "outputs": [
    {
     "name": "stdout",
     "output_type": "stream",
     "text": [
      "1.Chair\n",
      "2.Table\n",
      "3.Computer\n",
      "4.Fan\n",
      "Enter your choice : chair\n",
      "Enter the number of chairs : 7\n"
     ]
    }
   ],
   "source": [
    "c1.change()"
   ]
  },
  {
   "cell_type": "code",
   "execution_count": 68,
   "metadata": {},
   "outputs": [
    {
     "name": "stdout",
     "output_type": "stream",
     "text": [
      "The number of chairs are :  7\n",
      "The number of tables are :  12\n",
      "The number of computers are :  20\n",
      "The number of fans are :  4\n"
     ]
    }
   ],
   "source": [
    "c1.getit()"
   ]
  },
  {
   "cell_type": "markdown",
   "metadata": {},
   "source": [
    "# Constructors"
   ]
  },
  {
   "cell_type": "markdown",
   "metadata": {},
   "source": [
    "They are used to initialize the objects and its attributes. They are called whenever the object is created.\n",
    "There are two types of constructors:\n",
    "1. Parametrized\n",
    "2. Non parametrized"
   ]
  },
  {
   "cell_type": "code",
   "execution_count": 69,
   "metadata": {},
   "outputs": [],
   "source": [
    "class Person:\n",
    "    def __init__(self,name,age,color):\n",
    "        self.name = name\n",
    "        self.age = age\n",
    "        self.color = color\n",
    "    def getit(self):\n",
    "        print(\"The name is : \",self.name)\n",
    "        print(\"The age is : \",self.age)\n",
    "        print(\"The color is : \",self.color)"
   ]
  },
  {
   "cell_type": "code",
   "execution_count": 70,
   "metadata": {},
   "outputs": [],
   "source": [
    "p1 = Person(\"Khushi\",20,\"fair\")\n",
    "p2 = Person(\"Ayushi\",19,\"fair\")\n",
    "p3 = Person(\"Garima\",20,\"fair\")"
   ]
  },
  {
   "cell_type": "code",
   "execution_count": 71,
   "metadata": {},
   "outputs": [
    {
     "name": "stdout",
     "output_type": "stream",
     "text": [
      "The name is :  Khushi\n",
      "The age is :  20\n",
      "The color is :  fair\n"
     ]
    }
   ],
   "source": [
    "p1.getit()"
   ]
  },
  {
   "cell_type": "code",
   "execution_count": 72,
   "metadata": {},
   "outputs": [
    {
     "name": "stdout",
     "output_type": "stream",
     "text": [
      "The name is :  Garima\n",
      "The age is :  20\n",
      "The color is :  fair\n"
     ]
    }
   ],
   "source": [
    "p3.getit()"
   ]
  },
  {
   "cell_type": "code",
   "execution_count": 73,
   "metadata": {},
   "outputs": [],
   "source": [
    "p1.course = \"python\""
   ]
  },
  {
   "cell_type": "code",
   "execution_count": 74,
   "metadata": {},
   "outputs": [
    {
     "data": {
      "text/plain": [
       "'python'"
      ]
     },
     "execution_count": 74,
     "metadata": {},
     "output_type": "execute_result"
    }
   ],
   "source": [
    "p1.course"
   ]
  },
  {
   "cell_type": "code",
   "execution_count": 75,
   "metadata": {},
   "outputs": [
    {
     "data": {
      "text/plain": [
       "{'name': 'Khushi', 'age': 20, 'color': 'fair', 'course': 'python'}"
      ]
     },
     "execution_count": 75,
     "metadata": {},
     "output_type": "execute_result"
    }
   ],
   "source": [
    "p1.__dict__"
   ]
  },
  {
   "cell_type": "code",
   "execution_count": 100,
   "metadata": {},
   "outputs": [],
   "source": [
    "from time import sleep\n",
    "class City:\n",
    "    def __init__(self,name,state):   #constructor\n",
    "        self.name = name\n",
    "        self.state = state\n",
    "    def getit(self):\n",
    "        print(\"The name of city is \",self.name)\n",
    "        print(\"The name of state is \",self.state)\n",
    "    def __del__(self):  #destructor\n",
    "        print(\"Deleting name of city\")\n",
    "        sleep(2)\n",
    "        del self.name\n",
    "        print(\"Deleting state of city\")\n",
    "        sleep(2)\n",
    "        del self.state\n",
    "        print(\"Deleting self\")\n",
    "        sleep(2)\n",
    "        del self"
   ]
  },
  {
   "cell_type": "code",
   "execution_count": 101,
   "metadata": {},
   "outputs": [],
   "source": [
    "obj1 = City(\"jaipur\",\"rajasthan\")"
   ]
  },
  {
   "cell_type": "code",
   "execution_count": 102,
   "metadata": {},
   "outputs": [
    {
     "name": "stdout",
     "output_type": "stream",
     "text": [
      "The name of city is  jaipur\n",
      "The name of state is  rajasthan\n"
     ]
    }
   ],
   "source": [
    "obj1.getit()"
   ]
  },
  {
   "cell_type": "code",
   "execution_count": 94,
   "metadata": {},
   "outputs": [],
   "source": [
    "del obj1.name"
   ]
  },
  {
   "cell_type": "code",
   "execution_count": 83,
   "metadata": {},
   "outputs": [
    {
     "data": {
      "text/plain": [
       "'rajasthan'"
      ]
     },
     "execution_count": 83,
     "metadata": {},
     "output_type": "execute_result"
    }
   ],
   "source": [
    "obj1.state"
   ]
  },
  {
   "cell_type": "code",
   "execution_count": 84,
   "metadata": {},
   "outputs": [],
   "source": [
    "del obj1.state"
   ]
  },
  {
   "cell_type": "code",
   "execution_count": 86,
   "metadata": {},
   "outputs": [],
   "source": [
    "obj1.name = \"jaipur\""
   ]
  },
  {
   "cell_type": "code",
   "execution_count": 87,
   "metadata": {},
   "outputs": [
    {
     "data": {
      "text/plain": [
       "'jaipur'"
      ]
     },
     "execution_count": 87,
     "metadata": {},
     "output_type": "execute_result"
    }
   ],
   "source": [
    "obj1.name"
   ]
  },
  {
   "cell_type": "code",
   "execution_count": 99,
   "metadata": {},
   "outputs": [
    {
     "name": "stdout",
     "output_type": "stream",
     "text": [
      "Deleting name of city\n",
      "Deleting state of city\n",
      "Deleting self\n"
     ]
    }
   ],
   "source": [
    "del obj1"
   ]
  },
  {
   "cell_type": "code",
   "execution_count": 89,
   "metadata": {},
   "outputs": [
    {
     "ename": "NameError",
     "evalue": "name 'obj1' is not defined",
     "output_type": "error",
     "traceback": [
      "\u001b[1;31m---------------------------------------------------------------------------\u001b[0m",
      "\u001b[1;31mNameError\u001b[0m                                 Traceback (most recent call last)",
      "\u001b[1;32m<ipython-input-89-06bf0538d2ed>\u001b[0m in \u001b[0;36m<module>\u001b[1;34m()\u001b[0m\n\u001b[1;32m----> 1\u001b[1;33m \u001b[0mobj1\u001b[0m\u001b[1;33m.\u001b[0m\u001b[0mname\u001b[0m \u001b[1;33m=\u001b[0m \u001b[1;34m\"Jaipur\"\u001b[0m\u001b[1;33m\u001b[0m\u001b[0m\n\u001b[0m",
      "\u001b[1;31mNameError\u001b[0m: name 'obj1' is not defined"
     ]
    }
   ],
   "source": [
    "obj1.name = \"Jaipur\""
   ]
  },
  {
   "cell_type": "code",
   "execution_count": 103,
   "metadata": {},
   "outputs": [
    {
     "name": "stdout",
     "output_type": "stream",
     "text": [
      "Deleting name of city\n",
      "Deleting state of city\n",
      "Deleting self\n"
     ]
    }
   ],
   "source": [
    "del obj1"
   ]
  },
  {
   "cell_type": "code",
   "execution_count": null,
   "metadata": {},
   "outputs": [],
   "source": []
  }
 ],
 "metadata": {
  "kernelspec": {
   "display_name": "Python 3",
   "language": "python",
   "name": "python3"
  },
  "language_info": {
   "codemirror_mode": {
    "name": "ipython",
    "version": 3
   },
   "file_extension": ".py",
   "mimetype": "text/x-python",
   "name": "python",
   "nbconvert_exporter": "python",
   "pygments_lexer": "ipython3",
   "version": "3.6.5"
  }
 },
 "nbformat": 4,
 "nbformat_minor": 2
}
