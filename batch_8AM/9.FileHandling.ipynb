{
 "cells": [
  {
   "cell_type": "markdown",
   "metadata": {},
   "source": [
    "# Armstrong"
   ]
  },
  {
   "cell_type": "code",
   "execution_count": 9,
   "metadata": {},
   "outputs": [
    {
     "name": "stdout",
     "output_type": "stream",
     "text": [
      "Enter a number : 371\n",
      "Armstrong\n"
     ]
    }
   ],
   "source": [
    "num = int(input(\"Enter a number : \"))\n",
    "tmp = num \n",
    "s = 0 \n",
    "t = 0\n",
    "def n_digit(num):\n",
    "    global t\n",
    "    if num == 0 :  \n",
    "        p = t\n",
    "        t = 0\n",
    "        return p \n",
    "    else : \n",
    "        t += 1\n",
    "        return n_digit(num//10)\n",
    "        \n",
    "p = n_digit(num)\n",
    "\n",
    "while num : \n",
    "    rem = num % 10 \n",
    "    s = s + rem**p \n",
    "    num = num // 10 \n",
    "else : \n",
    "    if s == tmp : \n",
    "        print(\"Armstrong\")\n",
    "    else : \n",
    "        print(\"No Armstrong\")"
   ]
  },
  {
   "cell_type": "code",
   "execution_count": 18,
   "metadata": {},
   "outputs": [],
   "source": [
    "\n",
    "def armstrong(num,p):\n",
    "    if num == 0 : \n",
    "        t = armstrong.s \n",
    "        armstrong.s = 0\n",
    "        return t \n",
    "    else : \n",
    "        rem  = num % 10 \n",
    "        armstrong.s += rem**p\n",
    "        return armstrong(num//10,p)\n",
    "armstrong.s = 0"
   ]
  },
  {
   "cell_type": "code",
   "execution_count": 19,
   "metadata": {},
   "outputs": [
    {
     "data": {
      "text/plain": [
       "371"
      ]
     },
     "execution_count": 19,
     "metadata": {},
     "output_type": "execute_result"
    }
   ],
   "source": [
    "armstrong(371,3)"
   ]
  },
  {
   "cell_type": "code",
   "execution_count": 20,
   "metadata": {},
   "outputs": [
    {
     "data": {
      "text/plain": [
       "36"
      ]
     },
     "execution_count": 20,
     "metadata": {},
     "output_type": "execute_result"
    }
   ],
   "source": [
    "armstrong(123,3)"
   ]
  },
  {
   "cell_type": "code",
   "execution_count": 21,
   "metadata": {},
   "outputs": [],
   "source": [
    "def check_armstrong(num):\n",
    "    tmp = armstrong(num,n_digit(num))\n",
    "    if tmp == num : \n",
    "        return True\n",
    "    return False"
   ]
  },
  {
   "cell_type": "code",
   "execution_count": 22,
   "metadata": {},
   "outputs": [
    {
     "data": {
      "text/plain": [
       "True"
      ]
     },
     "execution_count": 22,
     "metadata": {},
     "output_type": "execute_result"
    }
   ],
   "source": [
    "check_armstrong(371)"
   ]
  },
  {
   "cell_type": "code",
   "execution_count": 23,
   "metadata": {},
   "outputs": [
    {
     "data": {
      "text/plain": [
       "False"
      ]
     },
     "execution_count": 23,
     "metadata": {},
     "output_type": "execute_result"
    }
   ],
   "source": [
    "check_armstrong(123)"
   ]
  },
  {
   "cell_type": "markdown",
   "metadata": {},
   "source": [
    "# File Handling "
   ]
  },
  {
   "cell_type": "code",
   "execution_count": 32,
   "metadata": {},
   "outputs": [],
   "source": [
    "import os\n",
    "\n",
    "path = \"C:\\\\users\\\\hp\\\\Desktop\\\\hello.txt\"\n",
    "\n",
    "if os.access(path,os.R_OK) : \n",
    "    f = open(path)\n",
    "    data = f.read()\n",
    "    f.close()\n",
    "else : \n",
    "    print(\"No such file found\")"
   ]
  },
  {
   "cell_type": "code",
   "execution_count": 33,
   "metadata": {},
   "outputs": [
    {
     "name": "stdout",
     "output_type": "stream",
     "text": [
      "hello world\n",
      "\twelcome to file handling\n",
      "\n"
     ]
    }
   ],
   "source": [
    "print(data)"
   ]
  },
  {
   "cell_type": "markdown",
   "metadata": {},
   "source": [
    "# Mode\n",
    "\n",
    "## read --> to read data from file\n",
    "## write --> to over-write data to file \n",
    "## append  --> to write data at the end of file"
   ]
  },
  {
   "cell_type": "code",
   "execution_count": 35,
   "metadata": {},
   "outputs": [],
   "source": [
    "f = open(\"hello.txt\",'w')"
   ]
  },
  {
   "cell_type": "code",
   "execution_count": 36,
   "metadata": {},
   "outputs": [
    {
     "name": "stdout",
     "output_type": "stream",
     "text": [
      "['_CHUNK_SIZE', '__class__', '__del__', '__delattr__', '__dict__', '__dir__', '__doc__', '__enter__', '__eq__', '__exit__', '__format__', '__ge__', '__getattribute__', '__getstate__', '__gt__', '__hash__', '__init__', '__init_subclass__', '__iter__', '__le__', '__lt__', '__ne__', '__new__', '__next__', '__reduce__', '__reduce_ex__', '__repr__', '__setattr__', '__sizeof__', '__str__', '__subclasshook__', '_checkClosed', '_checkReadable', '_checkSeekable', '_checkWritable', '_finalizing', 'buffer', 'close', 'closed', 'detach', 'encoding', 'errors', 'fileno', 'flush', 'isatty', 'line_buffering', 'mode', 'name', 'newlines', 'read', 'readable', 'readline', 'readlines', 'reconfigure', 'seek', 'seekable', 'tell', 'truncate', 'writable', 'write', 'write_through', 'writelines']\n"
     ]
    }
   ],
   "source": [
    "print(dir(f))"
   ]
  },
  {
   "cell_type": "code",
   "execution_count": 37,
   "metadata": {},
   "outputs": [
    {
     "data": {
      "text/plain": [
       "'hello.txt'"
      ]
     },
     "execution_count": 37,
     "metadata": {},
     "output_type": "execute_result"
    }
   ],
   "source": [
    "f.name"
   ]
  },
  {
   "cell_type": "code",
   "execution_count": 38,
   "metadata": {},
   "outputs": [
    {
     "data": {
      "text/plain": [
       "'w'"
      ]
     },
     "execution_count": 38,
     "metadata": {},
     "output_type": "execute_result"
    }
   ],
   "source": [
    "f.mode"
   ]
  },
  {
   "cell_type": "code",
   "execution_count": 39,
   "metadata": {},
   "outputs": [
    {
     "data": {
      "text/plain": [
       "False"
      ]
     },
     "execution_count": 39,
     "metadata": {},
     "output_type": "execute_result"
    }
   ],
   "source": [
    "f.readable()"
   ]
  },
  {
   "cell_type": "code",
   "execution_count": 40,
   "metadata": {},
   "outputs": [
    {
     "data": {
      "text/plain": [
       "True"
      ]
     },
     "execution_count": 40,
     "metadata": {},
     "output_type": "execute_result"
    }
   ],
   "source": [
    "f.writable()"
   ]
  },
  {
   "cell_type": "code",
   "execution_count": 41,
   "metadata": {},
   "outputs": [
    {
     "data": {
      "text/plain": [
       "0"
      ]
     },
     "execution_count": 41,
     "metadata": {},
     "output_type": "execute_result"
    }
   ],
   "source": [
    "f.tell()"
   ]
  },
  {
   "cell_type": "code",
   "execution_count": 42,
   "metadata": {},
   "outputs": [
    {
     "data": {
      "text/plain": [
       "11"
      ]
     },
     "execution_count": 42,
     "metadata": {},
     "output_type": "execute_result"
    }
   ],
   "source": [
    "f.write(\"hello world\")"
   ]
  },
  {
   "cell_type": "code",
   "execution_count": 43,
   "metadata": {},
   "outputs": [],
   "source": [
    "f.close()"
   ]
  },
  {
   "cell_type": "code",
   "execution_count": 44,
   "metadata": {},
   "outputs": [],
   "source": [
    "f  = open('hello.txt')"
   ]
  },
  {
   "cell_type": "code",
   "execution_count": 45,
   "metadata": {},
   "outputs": [],
   "source": [
    "data = f.read()"
   ]
  },
  {
   "cell_type": "code",
   "execution_count": 46,
   "metadata": {},
   "outputs": [],
   "source": [
    "f.close()"
   ]
  },
  {
   "cell_type": "code",
   "execution_count": 47,
   "metadata": {},
   "outputs": [
    {
     "name": "stdout",
     "output_type": "stream",
     "text": [
      "hello world\n"
     ]
    }
   ],
   "source": [
    "print(data)"
   ]
  },
  {
   "cell_type": "code",
   "execution_count": 71,
   "metadata": {},
   "outputs": [],
   "source": [
    "data = \"\"\"\n",
    "name,age,height,weight\n",
    "manish,23,5.5,65.5\n",
    "kushal,27,6.1,80.0,\n",
    "rajat,35,5.6,90.0,\n",
    "nidhi,23,5.4,60.0\n",
    "\"\"\""
   ]
  },
  {
   "cell_type": "code",
   "execution_count": 72,
   "metadata": {},
   "outputs": [],
   "source": [
    "f = open(\"data.csv\",\"w\")\n",
    "f.write(data)\n",
    "f.close()"
   ]
  },
  {
   "cell_type": "code",
   "execution_count": 73,
   "metadata": {},
   "outputs": [],
   "source": [
    "#Task --> find average age, average weight, average height\n",
    "#Task --> create a data1.csv having BMI column in where BMI = Weight / Height\n",
    "\n",
    "f = open('data.csv')"
   ]
  },
  {
   "cell_type": "code",
   "execution_count": 74,
   "metadata": {},
   "outputs": [],
   "source": [
    "data = f.read()\n",
    "f.close()"
   ]
  },
  {
   "cell_type": "code",
   "execution_count": 75,
   "metadata": {},
   "outputs": [
    {
     "data": {
      "text/plain": [
       "'\\nname,age,height,weight\\nmanish,23,5.5,65.5\\nkushal,27,6.1,80.0,\\nrajat,35,5.6,90.0,\\nnidhi,23,5.4,60.0\\n'"
      ]
     },
     "execution_count": 75,
     "metadata": {},
     "output_type": "execute_result"
    }
   ],
   "source": [
    "data"
   ]
  },
  {
   "cell_type": "code",
   "execution_count": 76,
   "metadata": {},
   "outputs": [],
   "source": [
    "data = data.split('\\n')"
   ]
  },
  {
   "cell_type": "code",
   "execution_count": 77,
   "metadata": {},
   "outputs": [
    {
     "data": {
      "text/plain": [
       "['',\n",
       " 'name,age,height,weight',\n",
       " 'manish,23,5.5,65.5',\n",
       " 'kushal,27,6.1,80.0,',\n",
       " 'rajat,35,5.6,90.0,',\n",
       " 'nidhi,23,5.4,60.0',\n",
       " '']"
      ]
     },
     "execution_count": 77,
     "metadata": {},
     "output_type": "execute_result"
    }
   ],
   "source": [
    "data"
   ]
  },
  {
   "cell_type": "code",
   "execution_count": 78,
   "metadata": {},
   "outputs": [],
   "source": [
    "data  = data[1:-1]"
   ]
  },
  {
   "cell_type": "code",
   "execution_count": 79,
   "metadata": {},
   "outputs": [
    {
     "data": {
      "text/plain": [
       "['name,age,height,weight',\n",
       " 'manish,23,5.5,65.5',\n",
       " 'kushal,27,6.1,80.0,',\n",
       " 'rajat,35,5.6,90.0,',\n",
       " 'nidhi,23,5.4,60.0']"
      ]
     },
     "execution_count": 79,
     "metadata": {},
     "output_type": "execute_result"
    }
   ],
   "source": [
    "data"
   ]
  },
  {
   "cell_type": "code",
   "execution_count": 80,
   "metadata": {},
   "outputs": [],
   "source": [
    "header = data[0]\n",
    "del data[0]"
   ]
  },
  {
   "cell_type": "code",
   "execution_count": 81,
   "metadata": {},
   "outputs": [
    {
     "data": {
      "text/plain": [
       "['manish,23,5.5,65.5',\n",
       " 'kushal,27,6.1,80.0,',\n",
       " 'rajat,35,5.6,90.0,',\n",
       " 'nidhi,23,5.4,60.0']"
      ]
     },
     "execution_count": 81,
     "metadata": {},
     "output_type": "execute_result"
    }
   ],
   "source": [
    "data"
   ]
  },
  {
   "cell_type": "code",
   "execution_count": 90,
   "metadata": {},
   "outputs": [],
   "source": [
    "def process(data): \n",
    "    age = []\n",
    "    height = []\n",
    "    weight = []\n",
    "    for line in data : \n",
    "        d = line.split(',')\n",
    "        age.append(eval(d[1]))\n",
    "        height.append(eval(d[2]))\n",
    "        weight.append(eval(d[3]))\n",
    "    print(age)\n",
    "    print(height)\n",
    "    print(weight)"
   ]
  },
  {
   "cell_type": "code",
   "execution_count": 91,
   "metadata": {},
   "outputs": [
    {
     "name": "stdout",
     "output_type": "stream",
     "text": [
      "[23, 27, 35, 23]\n",
      "[5.5, 6.1, 5.6, 5.4]\n",
      "[65.5, 80.0, 90.0, 60.0]\n"
     ]
    }
   ],
   "source": [
    "process(data)"
   ]
  },
  {
   "cell_type": "code",
   "execution_count": 92,
   "metadata": {},
   "outputs": [],
   "source": [
    "s = \"ayus,13,5.2,45.5\""
   ]
  },
  {
   "cell_type": "code",
   "execution_count": 93,
   "metadata": {},
   "outputs": [],
   "source": [
    "f = open('data.csv','a')"
   ]
  },
  {
   "cell_type": "code",
   "execution_count": 94,
   "metadata": {},
   "outputs": [
    {
     "data": {
      "text/plain": [
       "17"
      ]
     },
     "execution_count": 94,
     "metadata": {},
     "output_type": "execute_result"
    }
   ],
   "source": [
    "f.write(\"\\n\"+s)"
   ]
  },
  {
   "cell_type": "code",
   "execution_count": 95,
   "metadata": {},
   "outputs": [],
   "source": [
    "f.close()"
   ]
  },
  {
   "cell_type": "code",
   "execution_count": 96,
   "metadata": {},
   "outputs": [
    {
     "name": "stdout",
     "output_type": "stream",
     "text": [
      "\n",
      "name,age,height,weight\n",
      "manish,23,5.5,65.5\n",
      "kushal,27,6.1,80.0,\n",
      "rajat,35,5.6,90.0,\n",
      "nidhi,23,5.4,60.0\n",
      "\n",
      "ayus,13,5.2,45.5\n"
     ]
    }
   ],
   "source": [
    "print(open('data.csv').read())"
   ]
  },
  {
   "cell_type": "code",
   "execution_count": 97,
   "metadata": {},
   "outputs": [],
   "source": [
    "import os"
   ]
  },
  {
   "cell_type": "code",
   "execution_count": 98,
   "metadata": {},
   "outputs": [],
   "source": [
    "os.mkdir(\"helloworld\")"
   ]
  },
  {
   "cell_type": "code",
   "execution_count": 99,
   "metadata": {},
   "outputs": [
    {
     "name": "stdout",
     "output_type": "stream",
     "text": [
      " Volume in drive C is Windows\n",
      " Volume Serial Number is 92FD-5B19\n",
      "\n",
      " Directory of C:\\Users\\hp\\Desktop\\SummerInternBatch2019\\batch_8AM\n",
      "\n",
      "24-05-2019  09:25    <DIR>          .\n",
      "24-05-2019  09:25    <DIR>          ..\n",
      "24-05-2019  08:15    <DIR>          .ipynb_checkpoints\n",
      "14-05-2019  10:05            26,438 1.DataTypes.ipynb\n",
      "15-05-2019  09:59            38,258 2.String_List.ipynb\n",
      "16-05-2019  10:07            42,364 3.List_Dictionary.ipynb\n",
      "17-05-2019  10:36            44,464 4.Dictionary_Set.ipynb\n",
      "20-05-2019  10:31            51,499 5.Sets.ipynb\n",
      "21-05-2019  10:19            22,673 6.Control_Statements.ipynb\n",
      "22-05-2019  10:08            21,540 7.Function.ipynb\n",
      "23-05-2019  10:02            33,108 8.Functions.ipynb\n",
      "24-05-2019  09:21            13,500 9.FileHandling.ipynb\n",
      "16-05-2019  09:28               209 calc.py\n",
      "24-05-2019  09:19               124 data.csv\n",
      "20-05-2019  10:01               122 even_odd.py\n",
      "24-05-2019  08:54                11 hello.txt\n",
      "24-05-2019  09:25    <DIR>          helloworld\n",
      "              13 File(s)        294,310 bytes\n",
      "               4 Dir(s)  33,630,691,328 bytes free\n"
     ]
    }
   ],
   "source": [
    "ls"
   ]
  },
  {
   "cell_type": "code",
   "execution_count": 101,
   "metadata": {},
   "outputs": [
    {
     "data": {
      "text/plain": [
       "['.hello.txt.un~',\n",
       " '.ipynb_checkpoints',\n",
       " '111890866X.pdf',\n",
       " '2.String_List.ipynb',\n",
       " 'A. C. Muller and S. Guido - Introduction to Machine Learning with Python - 2017.pdf',\n",
       " 'age.csv',\n",
       " 'batch10',\n",
       " 'batch11',\n",
       " 'Batch12',\n",
       " 'batch4',\n",
       " 'batch5pm',\n",
       " 'batch7',\n",
       " 'batch_3',\n",
       " 'batch_4pm',\n",
       " 'beta_blog-master',\n",
       " 'Bigdata Hadoop course content.docx',\n",
       " 'BigDataSource',\n",
       " 'bootstrap-4.3.1-dist',\n",
       " 'Central Tendency.pptx',\n",
       " 'ClassRecordedVideos',\n",
       " 'crime.xls',\n",
       " 'crime2.xls',\n",
       " 'CS.pdf',\n",
       " 'CS_Key.pdf',\n",
       " 'dand-syllabus-v10-fall-2018.pdf',\n",
       " 'Data Science from Scratch First Principles with Python.pdf',\n",
       " 'datascience',\n",
       " 'datascience.docx',\n",
       " 'datascience.pdf',\n",
       " 'DataScienceContent',\n",
       " 'DataScienceSlides.pdf',\n",
       " 'Datasets',\n",
       " 'DATA_TEACH',\n",
       " 'decesion_tree.txt',\n",
       " 'desktop.ini',\n",
       " 'dive-into-python3.pdf',\n",
       " 'Django_Intro_1.ipynb',\n",
       " 'django_intro_2.ipynb',\n",
       " 'EShare.lnk',\n",
       " 'flask_apps',\n",
       " 'Flask_Data_Collection',\n",
       " 'GIP workshop (1).pptx',\n",
       " 'hackathon',\n",
       " 'hello.txt',\n",
       " 'HousePrice.csv',\n",
       " 'InterBatch3pm',\n",
       " 'Internship_Timeline.txt',\n",
       " 'ISLR Seventh Printing.pdf',\n",
       " 'jupyter',\n",
       " 'LeetCode-master',\n",
       " 'linux-bible-by-christopher-negus.pdf',\n",
       " 'Machine Learning in Python (2015).pdf',\n",
       " 'ml',\n",
       " 'OneHourParentTeacherConferenceSampleImportFile.csv',\n",
       " 'online_batch',\n",
       " 'Packt.Python.End-to-end.Data.Analysis.B072M6868D.pdf',\n",
       " 'pandas-cookbook-0.2',\n",
       " 'pandas.pdf',\n",
       " 'Programming Python, 4th Edition (2010).pdf',\n",
       " 'project1',\n",
       " 'pycon-ds-2018-master',\n",
       " 'Python',\n",
       " 'Python Web Scraping - 2E (2017).pdf',\n",
       " 'Python+Data Science and Data Analytics.docx',\n",
       " 'python_excercises.pdf',\n",
       " 'Python_Seminar.ppt',\n",
       " 'QuantEconlectures-python3.pdf',\n",
       " 'R_learn',\n",
       " 'ScipyLectures-simple.pdf',\n",
       " 'spark-2.4.1-bin-hadoop2.7(1).tgz',\n",
       " 'Spark_installation.txt',\n",
       " 'spark_theory.txt',\n",
       " 'SummerInternBatch2019',\n",
       " 'test',\n",
       " 'test.csv',\n",
       " 'Tim Ottinger - Vim Like A Pro.pdf',\n",
       " 'Videos',\n",
       " 'web.ipynb',\n",
       " 'weight-height.csv',\n",
       " 'work']"
      ]
     },
     "execution_count": 101,
     "metadata": {},
     "output_type": "execute_result"
    }
   ],
   "source": [
    "\n",
    "os.listdir('C:\\\\users\\\\hp\\\\Desktop')"
   ]
  },
  {
   "cell_type": "code",
   "execution_count": 102,
   "metadata": {},
   "outputs": [
    {
     "data": {
      "text/plain": [
       "'C:\\\\Users\\\\hp\\\\Desktop\\\\SummerInternBatch2019\\\\batch_8AM'"
      ]
     },
     "execution_count": 102,
     "metadata": {},
     "output_type": "execute_result"
    }
   ],
   "source": [
    "os.getcwd()"
   ]
  },
  {
   "cell_type": "code",
   "execution_count": 104,
   "metadata": {},
   "outputs": [
    {
     "data": {
      "text/plain": [
       "0"
      ]
     },
     "execution_count": 104,
     "metadata": {},
     "output_type": "execute_result"
    }
   ],
   "source": [
    "os.system(\"ipconfig\")"
   ]
  },
  {
   "cell_type": "code",
   "execution_count": 105,
   "metadata": {},
   "outputs": [
    {
     "data": {
      "text/plain": [
       "0"
      ]
     },
     "execution_count": 105,
     "metadata": {},
     "output_type": "execute_result"
    }
   ],
   "source": [
    "os.system('dir')"
   ]
  },
  {
   "cell_type": "code",
   "execution_count": 106,
   "metadata": {},
   "outputs": [
    {
     "data": {
      "text/plain": [
       "0"
      ]
     },
     "execution_count": 106,
     "metadata": {},
     "output_type": "execute_result"
    }
   ],
   "source": [
    "os.system('notepad')"
   ]
  },
  {
   "cell_type": "code",
   "execution_count": 108,
   "metadata": {},
   "outputs": [],
   "source": [
    "import subprocess as s "
   ]
  },
  {
   "cell_type": "code",
   "execution_count": 110,
   "metadata": {},
   "outputs": [],
   "source": [
    "data = s.getoutput('ipconfig')"
   ]
  },
  {
   "cell_type": "code",
   "execution_count": 111,
   "metadata": {},
   "outputs": [
    {
     "name": "stdout",
     "output_type": "stream",
     "text": [
      "\n",
      "Windows IP Configuration\n",
      "\n",
      "\n",
      "Ethernet adapter Ethernet:\n",
      "\n",
      "   Media State . . . . . . . . . . . : Media disconnected\n",
      "   Connection-specific DNS Suffix  . : \n",
      "\n",
      "Wireless LAN adapter Local Area Connection* 2:\n",
      "\n",
      "   Media State . . . . . . . . . . . : Media disconnected\n",
      "   Connection-specific DNS Suffix  . : \n",
      "\n",
      "Wireless LAN adapter Local Area Connection* 3:\n",
      "\n",
      "   Media State . . . . . . . . . . . : Media disconnected\n",
      "   Connection-specific DNS Suffix  . : \n",
      "\n",
      "Ethernet adapter VMware Network Adapter VMnet1:\n",
      "\n",
      "   Connection-specific DNS Suffix  . : \n",
      "   Link-local IPv6 Address . . . . . : fe80::5127:2696:b6c6:4156%11\n",
      "   IPv4 Address. . . . . . . . . . . : 192.168.15.1\n",
      "   Subnet Mask . . . . . . . . . . . : 255.255.255.0\n",
      "   Default Gateway . . . . . . . . . : \n",
      "\n",
      "Ethernet adapter VMware Network Adapter VMnet2:\n",
      "\n",
      "   Connection-specific DNS Suffix  . : \n",
      "   Link-local IPv6 Address . . . . . : fe80::3556:1ed5:c8d2:7240%21\n",
      "   Autoconfiguration IPv4 Address. . : 169.254.114.64\n",
      "   Subnet Mask . . . . . . . . . . . : 255.255.0.0\n",
      "   Default Gateway . . . . . . . . . : \n",
      "\n",
      "Ethernet adapter VMware Network Adapter VMnet8:\n",
      "\n",
      "   Connection-specific DNS Suffix  . : \n",
      "   Link-local IPv6 Address . . . . . : fe80::501a:5ff7:ad1:66a9%4\n",
      "   IPv4 Address. . . . . . . . . . . : 192.168.56.1\n",
      "   Subnet Mask . . . . . . . . . . . : 255.255.255.0\n",
      "   Default Gateway . . . . . . . . . : \n",
      "\n",
      "Ethernet adapter VMware Network Adapter VMnet3:\n",
      "\n",
      "   Connection-specific DNS Suffix  . : \n",
      "   Link-local IPv6 Address . . . . . : fe80::7017:a1ff:7121:f221%18\n",
      "   IPv4 Address. . . . . . . . . . . : 192.168.75.1\n",
      "   Subnet Mask . . . . . . . . . . . : 255.255.255.0\n",
      "   Default Gateway . . . . . . . . . : \n",
      "\n",
      "Wireless LAN adapter Wi-Fi:\n",
      "\n",
      "   Connection-specific DNS Suffix  . : \n",
      "   Link-local IPv6 Address . . . . . : fe80::9db2:869:40ec:57fa%20\n",
      "   IPv4 Address. . . . . . . . . . . : 192.168.1.102\n",
      "   Subnet Mask . . . . . . . . . . . : 255.255.255.0\n",
      "   Default Gateway . . . . . . . . . : 192.168.1.1\n",
      "\n",
      "Ethernet adapter Bluetooth Network Connection:\n",
      "\n",
      "   Media State . . . . . . . . . . . : Media disconnected\n",
      "   Connection-specific DNS Suffix  . : \n"
     ]
    }
   ],
   "source": [
    "print(data)"
   ]
  },
  {
   "cell_type": "markdown",
   "metadata": {},
   "source": [
    "# map\n"
   ]
  },
  {
   "cell_type": "code",
   "execution_count": 112,
   "metadata": {},
   "outputs": [],
   "source": [
    "\n",
    "even  = lambda arg : True if arg % 2 else False"
   ]
  },
  {
   "cell_type": "code",
   "execution_count": 113,
   "metadata": {},
   "outputs": [
    {
     "data": {
      "text/plain": [
       "True"
      ]
     },
     "execution_count": 113,
     "metadata": {},
     "output_type": "execute_result"
    }
   ],
   "source": [
    "even(5)"
   ]
  },
  {
   "cell_type": "code",
   "execution_count": 116,
   "metadata": {},
   "outputs": [],
   "source": []
  },
  {
   "cell_type": "code",
   "execution_count": 118,
   "metadata": {},
   "outputs": [
    {
     "data": {
      "text/plain": [
       "[(1, 6), (2, 7), (3, 8), (4, 9), (5, 10)]"
      ]
     },
     "execution_count": 118,
     "metadata": {},
     "output_type": "execute_result"
    }
   ],
   "source": [
    "list(zip(x,y))"
   ]
  },
  {
   "cell_type": "code",
   "execution_count": 119,
   "metadata": {},
   "outputs": [
    {
     "data": {
      "text/plain": [
       "[('p', 'j'), ('y', 'a'), ('t', 'v'), ('h', 'a')]"
      ]
     },
     "execution_count": 119,
     "metadata": {},
     "output_type": "execute_result"
    }
   ],
   "source": [
    "list(zip('python','java'))"
   ]
  },
  {
   "cell_type": "code",
   "execution_count": 120,
   "metadata": {},
   "outputs": [
    {
     "data": {
      "text/plain": [
       "[('name', 'java'), ('age', '30')]"
      ]
     },
     "execution_count": 120,
     "metadata": {},
     "output_type": "execute_result"
    }
   ],
   "source": [
    "list(zip({'name':'python','age':35},['java','30']))"
   ]
  },
  {
   "cell_type": "code",
   "execution_count": 121,
   "metadata": {},
   "outputs": [],
   "source": [
    "new = dict(zip({'name':'python','age':35},['java','30']))"
   ]
  },
  {
   "cell_type": "code",
   "execution_count": 122,
   "metadata": {},
   "outputs": [
    {
     "data": {
      "text/plain": [
       "{'name': 'java', 'age': '30'}"
      ]
     },
     "execution_count": 122,
     "metadata": {},
     "output_type": "execute_result"
    }
   ],
   "source": [
    "new"
   ]
  },
  {
   "cell_type": "code",
   "execution_count": 123,
   "metadata": {},
   "outputs": [
    {
     "name": "stdout",
     "output_type": "stream",
     "text": [
      "1 hello\n",
      "2 hi\n",
      "3 bye\n",
      "4 good bye\n"
     ]
    }
   ],
   "source": [
    "for item1,item2 in zip([1,2,3,4],['hello','hi','bye','good bye']):\n",
    "    print(item1,item2)"
   ]
  },
  {
   "cell_type": "code",
   "execution_count": 124,
   "metadata": {},
   "outputs": [],
   "source": [
    "x = [ 1,2,3,4,5]\n",
    "y = [ 6,7,8,9,10]\n",
    "\n",
    "def sq(x,y):\n",
    "    return x**2 + y**2\n",
    "\n",
    "z = []\n",
    "for item1,item2 in zip(x,y) : \n",
    "    r = sq(item1,item2)\n",
    "    z.append(r)"
   ]
  },
  {
   "cell_type": "code",
   "execution_count": 125,
   "metadata": {},
   "outputs": [
    {
     "data": {
      "text/plain": [
       "[37, 53, 73, 97, 125]"
      ]
     },
     "execution_count": 125,
     "metadata": {},
     "output_type": "execute_result"
    }
   ],
   "source": [
    "z"
   ]
  },
  {
   "cell_type": "code",
   "execution_count": 127,
   "metadata": {},
   "outputs": [
    {
     "data": {
      "text/plain": [
       "[37, 53, 73, 97, 125]"
      ]
     },
     "execution_count": 127,
     "metadata": {},
     "output_type": "execute_result"
    }
   ],
   "source": [
    "list(map(sq,x,y))"
   ]
  },
  {
   "cell_type": "code",
   "execution_count": 128,
   "metadata": {},
   "outputs": [],
   "source": [
    "l = [ 1,2,3,4,5,]"
   ]
  },
  {
   "cell_type": "code",
   "execution_count": 130,
   "metadata": {},
   "outputs": [
    {
     "data": {
      "text/plain": [
       "[1, 4, 9, 16, 25]"
      ]
     },
     "execution_count": 130,
     "metadata": {},
     "output_type": "execute_result"
    }
   ],
   "source": [
    "r = list(map(lambda x:x**2,[1,2,3,4,5]))\n",
    "r"
   ]
  },
  {
   "cell_type": "code",
   "execution_count": 133,
   "metadata": {},
   "outputs": [
    {
     "name": "stdout",
     "output_type": "stream",
     "text": [
      "1 2 3 4 5 6\n"
     ]
    },
    {
     "data": {
      "text/plain": [
       "[1, 2, 3, 4, 5, 6]"
      ]
     },
     "execution_count": 133,
     "metadata": {},
     "output_type": "execute_result"
    }
   ],
   "source": [
    "list(map(int,input().split()))"
   ]
  },
  {
   "cell_type": "code",
   "execution_count": 136,
   "metadata": {},
   "outputs": [
    {
     "name": "stdout",
     "output_type": "stream",
     "text": [
      "1 2 3 4 5\n"
     ]
    },
    {
     "data": {
      "text/plain": [
       "[1, 4, 9, 16, 25]"
      ]
     },
     "execution_count": 136,
     "metadata": {},
     "output_type": "execute_result"
    }
   ],
   "source": [
    "list(map(lambda x : int(x)**2,input().split()))"
   ]
  },
  {
   "cell_type": "code",
   "execution_count": 137,
   "metadata": {},
   "outputs": [],
   "source": [
    "#  [ 1,2,3,4,4,5,6,7]\n",
    "# [ \"Odd\",\"Even\",\"Odd\",\"EVEN\"]"
   ]
  },
  {
   "cell_type": "code",
   "execution_count": 140,
   "metadata": {},
   "outputs": [
    {
     "data": {
      "text/plain": [
       "[6, 18, 20, 15, 13, 2, 5, 13, 9, 2]"
      ]
     },
     "execution_count": 140,
     "metadata": {},
     "output_type": "execute_result"
    }
   ],
   "source": [
    "from random import randint \n",
    "\n",
    "s = [ randint(1,20) for var in range(10)]\n",
    "s"
   ]
  },
  {
   "cell_type": "code",
   "execution_count": 141,
   "metadata": {},
   "outputs": [
    {
     "data": {
      "text/plain": [
       "['EVEN', 'EVEN', 'EVEN', 'ODD', 'ODD', 'EVEN', 'ODD', 'ODD', 'ODD', 'EVEN']"
      ]
     },
     "execution_count": 141,
     "metadata": {},
     "output_type": "execute_result"
    }
   ],
   "source": [
    "r = list(map(lambda arg: \"EVEN\" if arg % 2 == 0 else \"ODD\",s))\n",
    "r"
   ]
  },
  {
   "cell_type": "code",
   "execution_count": 143,
   "metadata": {},
   "outputs": [
    {
     "data": {
      "text/plain": [
       "[6, 18, 20, 2, 2]"
      ]
     },
     "execution_count": 143,
     "metadata": {},
     "output_type": "execute_result"
    }
   ],
   "source": [
    "r = list(filter(lambda arg: True if arg % 2 == 0 else False,s))\n",
    "r"
   ]
  },
  {
   "cell_type": "code",
   "execution_count": 145,
   "metadata": {},
   "outputs": [],
   "source": [
    "def prime(num): \n",
    "    for check in range(2,num//2+1):\n",
    "        if num % check == 0 : \n",
    "            return False\n",
    "    return True "
   ]
  },
  {
   "cell_type": "code",
   "execution_count": 148,
   "metadata": {},
   "outputs": [
    {
     "name": "stdout",
     "output_type": "stream",
     "text": [
      "121 127 15 13 10\n"
     ]
    },
    {
     "data": {
      "text/plain": [
       "[127, 13]"
      ]
     },
     "execution_count": 148,
     "metadata": {},
     "output_type": "execute_result"
    }
   ],
   "source": [
    "list(filter(prime,map(int,input().split())))"
   ]
  },
  {
   "cell_type": "code",
   "execution_count": 149,
   "metadata": {},
   "outputs": [],
   "source": [
    "from functools import reduce "
   ]
  },
  {
   "cell_type": "code",
   "execution_count": 150,
   "metadata": {},
   "outputs": [
    {
     "name": "stdout",
     "output_type": "stream",
     "text": [
      "1 2 3 4 5 6 7 8 9 10 \n"
     ]
    },
    {
     "data": {
      "text/plain": [
       "55"
      ]
     },
     "execution_count": 150,
     "metadata": {},
     "output_type": "execute_result"
    }
   ],
   "source": [
    "reduce(lambda x,y:x+y,map(int,input().split()))"
   ]
  },
  {
   "cell_type": "code",
   "execution_count": null,
   "metadata": {},
   "outputs": [],
   "source": []
  }
 ],
 "metadata": {
  "kernelspec": {
   "display_name": "Python 3",
   "language": "python",
   "name": "python3"
  },
  "language_info": {
   "codemirror_mode": {
    "name": "ipython",
    "version": 3
   },
   "file_extension": ".py",
   "mimetype": "text/x-python",
   "name": "python",
   "nbconvert_exporter": "python",
   "pygments_lexer": "ipython3",
   "version": "3.7.1"
  }
 },
 "nbformat": 4,
 "nbformat_minor": 2
}
