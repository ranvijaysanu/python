{
 "cells": [
  {
   "cell_type": "code",
   "execution_count": 1,
   "metadata": {},
   "outputs": [],
   "source": [
    "import socket"
   ]
  },
  {
   "cell_type": "code",
   "execution_count": 9,
   "metadata": {},
   "outputs": [
    {
     "name": "stdout",
     "output_type": "stream",
     "text": [
      "The socket is created\n",
      "Server is ready to listen\n"
     ]
    }
   ],
   "source": [
    "server_socket = socket.socket(socket.AF_INET,socket.SOCK_STREAM)\n",
    "host = \"127.0.0.1\"\n",
    "port = 12345\n",
    "print(\"The socket is created\")\n",
    "server_socket.bind((host,port))\n",
    "server_socket.listen()\n",
    "print(\"Server is ready to listen\")\n",
    "client_socket,client_addr = server_socket.accept()\n",
    "path = client_socket.recv(1024).decode().split(\"\\n\")[0].split()[1]\n",
    "#print(data)\n",
    "resp1 = \"\"\"HTTP 200 ok\n",
    "Content-Type:text/html\n",
    "\n",
    "\n",
    "<html>\n",
    "<body style='background:linear-gradient(red,blue)'>\n",
    "<h1 style='color:black'>This is request for path '/'</h1>\n",
    "</body>\n",
    "</html>\n",
    "\"\"\".encode()\n",
    "\n",
    "resp2 = \"\"\"HTTP 200 ok\n",
    "Content-Type:text/html\n",
    "\n",
    "\n",
    "<html>\n",
    "<body style='background:linear-gradient(red,blue)'>\n",
    "<h1 style='color:black'>This is request for path '/data'</h1>\n",
    "</body>\n",
    "</html>\n",
    "\"\"\".encode()\n",
    "\n",
    "resp3 = \"\"\"HTTP 200 ok\n",
    "Content-Type:text/html\n",
    "\n",
    "\n",
    "<html>\n",
    "<body style='background:linear-gradient(red,blue)'>\n",
    "<h1 style='color:black'>This is no response for this path</h1>\n",
    "</body>\n",
    "</html>\n",
    "\"\"\".encode()\n",
    "\n",
    "if path == \"/\":\n",
    "    client_socket.send(resp1)\n",
    "elif path == \"/data\":\n",
    "    client_socket.send(resp2)\n",
    "else:\n",
    "    client_socket.send(resp3)"
   ]
  },
  {
   "cell_type": "code",
   "execution_count": null,
   "metadata": {},
   "outputs": [],
   "source": []
  }
 ],
 "metadata": {
  "kernelspec": {
   "display_name": "Python 3",
   "language": "python",
   "name": "python3"
  },
  "language_info": {
   "codemirror_mode": {
    "name": "ipython",
    "version": 3
   },
   "file_extension": ".py",
   "mimetype": "text/x-python",
   "name": "python",
   "nbconvert_exporter": "python",
   "pygments_lexer": "ipython3",
   "version": "3.6.5"
  }
 },
 "nbformat": 4,
 "nbformat_minor": 2
}
