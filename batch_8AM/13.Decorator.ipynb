{
 "cells": [
  {
   "cell_type": "code",
   "execution_count": 1,
   "metadata": {},
   "outputs": [],
   "source": [
    "def hi():\n",
    "    def hello():\n",
    "        print(\"Hello world\")\n",
    "    return hello()"
   ]
  },
  {
   "cell_type": "code",
   "execution_count": 2,
   "metadata": {},
   "outputs": [
    {
     "name": "stdout",
     "output_type": "stream",
     "text": [
      "Hello world\n"
     ]
    }
   ],
   "source": [
    "hi()"
   ]
  },
  {
   "cell_type": "code",
   "execution_count": 5,
   "metadata": {},
   "outputs": [],
   "source": [
    "def add(x,y):\n",
    "    def add1():\n",
    "        print(\"The addition of number is : \",x+y)\n",
    "    return add1()"
   ]
  },
  {
   "cell_type": "code",
   "execution_count": 6,
   "metadata": {},
   "outputs": [
    {
     "name": "stdout",
     "output_type": "stream",
     "text": [
      "Enter any number : 9\n",
      "Enter any number : 10\n",
      "The addition of number is :  19\n"
     ]
    }
   ],
   "source": [
    "x = int(input(\"Enter any number : \"))\n",
    "y = int(input(\"Enter any number : \"))\n",
    "add(x,y)"
   ]
  },
  {
   "cell_type": "code",
   "execution_count": 7,
   "metadata": {},
   "outputs": [],
   "source": [
    "def add(x,y):\n",
    "    def add1():\n",
    "        print(\"The addition of number is : \",x+y)\n",
    "    return add1"
   ]
  },
  {
   "cell_type": "code",
   "execution_count": 8,
   "metadata": {},
   "outputs": [
    {
     "name": "stdout",
     "output_type": "stream",
     "text": [
      "The addition of number is :  7\n"
     ]
    }
   ],
   "source": [
    "a = add(3,4)\n",
    "a()"
   ]
  },
  {
   "cell_type": "code",
   "execution_count": 12,
   "metadata": {},
   "outputs": [],
   "source": [
    "def printmsg(msg):\n",
    "    def msg1():\n",
    "        print(msg)\n",
    "    return msg1"
   ]
  },
  {
   "cell_type": "code",
   "execution_count": 13,
   "metadata": {},
   "outputs": [
    {
     "name": "stdout",
     "output_type": "stream",
     "text": [
      "Enter any message : Hi this is simran\n",
      "Hi this is simran\n"
     ]
    }
   ],
   "source": [
    "m1 = printmsg(input(\"Enter any message : \"))\n",
    "m1()"
   ]
  },
  {
   "cell_type": "code",
   "execution_count": 15,
   "metadata": {},
   "outputs": [],
   "source": [
    "def mul(x):\n",
    "    def mul1(y):\n",
    "        print(\"The multiplication is : {}\".format(x*y))\n",
    "    return mul1"
   ]
  },
  {
   "cell_type": "code",
   "execution_count": 16,
   "metadata": {},
   "outputs": [
    {
     "name": "stdout",
     "output_type": "stream",
     "text": [
      "Enter any number : 10\n",
      "Enter any second number : 9\n",
      "The multiplication is : 90\n"
     ]
    }
   ],
   "source": [
    "x = int(input(\"Enter any number : \"))\n",
    "y = int(input(\"Enter any second number : \"))\n",
    "a = mul(x)\n",
    "a(y)"
   ]
  },
  {
   "cell_type": "code",
   "execution_count": 17,
   "metadata": {},
   "outputs": [],
   "source": [
    "del mul"
   ]
  },
  {
   "cell_type": "code",
   "execution_count": 18,
   "metadata": {},
   "outputs": [
    {
     "name": "stdout",
     "output_type": "stream",
     "text": [
      "The multiplication is : 60\n"
     ]
    }
   ],
   "source": [
    "a(6)"
   ]
  },
  {
   "cell_type": "code",
   "execution_count": 19,
   "metadata": {},
   "outputs": [
    {
     "ename": "NameError",
     "evalue": "name 'mul' is not defined",
     "output_type": "error",
     "traceback": [
      "\u001b[1;31m---------------------------------------------------------------------------\u001b[0m",
      "\u001b[1;31mNameError\u001b[0m                                 Traceback (most recent call last)",
      "\u001b[1;32m<ipython-input-19-f937e6347aaa>\u001b[0m in \u001b[0;36m<module>\u001b[1;34m()\u001b[0m\n\u001b[1;32m----> 1\u001b[1;33m \u001b[0mmul\u001b[0m\u001b[1;33m(\u001b[0m\u001b[1;36m5\u001b[0m\u001b[1;33m)\u001b[0m\u001b[1;33m\u001b[0m\u001b[0m\n\u001b[0m",
      "\u001b[1;31mNameError\u001b[0m: name 'mul' is not defined"
     ]
    }
   ],
   "source": [
    "mul(5)"
   ]
  },
  {
   "cell_type": "code",
   "execution_count": 20,
   "metadata": {},
   "outputs": [],
   "source": [
    "def add():\n",
    "    def add1(x,y):\n",
    "        print(\"The addition of inner function variables is : \",x+y)\n",
    "    return add1"
   ]
  },
  {
   "cell_type": "code",
   "execution_count": 21,
   "metadata": {},
   "outputs": [
    {
     "name": "stdout",
     "output_type": "stream",
     "text": [
      "The addition of inner function variables is :  17\n"
     ]
    }
   ],
   "source": [
    "a = add()\n",
    "a(8,9)"
   ]
  },
  {
   "cell_type": "code",
   "execution_count": 22,
   "metadata": {},
   "outputs": [],
   "source": [
    "def outer():\n",
    "    def fact(n):\n",
    "        f = 1\n",
    "        while n > 0:\n",
    "            f = f * n\n",
    "            n = n -1\n",
    "        print(f)\n",
    "    return fact"
   ]
  },
  {
   "cell_type": "code",
   "execution_count": 23,
   "metadata": {},
   "outputs": [
    {
     "name": "stdout",
     "output_type": "stream",
     "text": [
      "Enter any number : 5\n",
      "120\n"
     ]
    }
   ],
   "source": [
    "x = int(input(\"Enter any number : \"))\n",
    "f1 = outer()\n",
    "f1(x)"
   ]
  },
  {
   "cell_type": "code",
   "execution_count": 24,
   "metadata": {},
   "outputs": [],
   "source": [
    "def inc(x):\n",
    "    return x+1\n",
    "\n",
    "def dec(x):\n",
    "    return x-1\n",
    "\n",
    "def operate(func,var):\n",
    "    result = func(var)\n",
    "    print(result)"
   ]
  },
  {
   "cell_type": "code",
   "execution_count": 26,
   "metadata": {},
   "outputs": [
    {
     "name": "stdout",
     "output_type": "stream",
     "text": [
      "8\n"
     ]
    }
   ],
   "source": [
    "operate(dec,9)"
   ]
  },
  {
   "cell_type": "code",
   "execution_count": 27,
   "metadata": {},
   "outputs": [],
   "source": [
    "def square(x):\n",
    "    return x**2\n",
    "\n",
    "def cube(x):\n",
    "    return x**3\n",
    "\n",
    "def operate(func,*args,**kwargs):\n",
    "    result = func(*args,**kwargs)\n",
    "    print(result)\n",
    "    "
   ]
  },
  {
   "cell_type": "code",
   "execution_count": 28,
   "metadata": {},
   "outputs": [
    {
     "name": "stdout",
     "output_type": "stream",
     "text": [
      "64\n"
     ]
    }
   ],
   "source": [
    "operate(square,8)"
   ]
  },
  {
   "cell_type": "code",
   "execution_count": 30,
   "metadata": {},
   "outputs": [
    {
     "name": "stdout",
     "output_type": "stream",
     "text": [
      "27\n"
     ]
    }
   ],
   "source": [
    "operate(cube,3)"
   ]
  },
  {
   "cell_type": "code",
   "execution_count": 34,
   "metadata": {},
   "outputs": [],
   "source": [
    "\n",
    "def square(l):\n",
    "    sq = []\n",
    "    for var in l:\n",
    "        sq.append(var**2)\n",
    "    return sq\n",
    "def cube(l):\n",
    "    c = []\n",
    "    for var in l:\n",
    "        c.append(var**3)\n",
    "    return c\n",
    "\n",
    "\n",
    "def operate(func,l,x):\n",
    "    result = func(l)\n",
    "    print(result)\n",
    "    l1 = [i+x for i in result ]\n",
    "    print(l1)"
   ]
  },
  {
   "cell_type": "code",
   "execution_count": 35,
   "metadata": {},
   "outputs": [
    {
     "name": "stdout",
     "output_type": "stream",
     "text": [
      "3 4 5 6 7\n",
      "[9, 16, 25, 36, 49]\n",
      "[11, 18, 27, 38, 51]\n"
     ]
    }
   ],
   "source": [
    "l = list(map(int,input().split()))\n",
    "operate(square,l,2)"
   ]
  },
  {
   "cell_type": "code",
   "execution_count": 39,
   "metadata": {},
   "outputs": [
    {
     "name": "stdout",
     "output_type": "stream",
     "text": [
      "ENter any message that you want to sendhello how are you\n",
      "**************************************************\n",
      "--------------------------------------------------\n",
      "hello how are you\n",
      "**************************************************\n",
      "--------------------------------------------------\n"
     ]
    }
   ],
   "source": [
    "def decorate(func):\n",
    "    def printmsg(msg):\n",
    "        print(\"*\"*50)\n",
    "        print(\"-\"*50)\n",
    "        result = func(msg)\n",
    "        print(result)\n",
    "        print(\"*\"*50)\n",
    "        print(\"-\"*50)\n",
    "    return printmsg\n",
    "@decorate\n",
    "def msg1(msg):\n",
    "    return msg\n",
    "\n",
    "msg = input(\"ENter any message that you want to send\")\n",
    "msg1(msg)"
   ]
  },
  {
   "cell_type": "code",
   "execution_count": 38,
   "metadata": {},
   "outputs": [
    {
     "name": "stdout",
     "output_type": "stream",
     "text": [
      "**************************************************\n",
      "--------------------------------------------------\n",
      "**************************************************\n",
      "--------------------------------------------------\n",
      "Hi hello how are you\n",
      "**************************************************\n",
      "--------------------------------------------------\n",
      "None\n",
      "**************************************************\n",
      "--------------------------------------------------\n"
     ]
    }
   ],
   "source": [
    "a = decorate(msg1)\n",
    "a(msg)"
   ]
  },
  {
   "cell_type": "code",
   "execution_count": 41,
   "metadata": {},
   "outputs": [
    {
     "name": "stdout",
     "output_type": "stream",
     "text": [
      "**************************************************\n",
      "The addition is :  7\n",
      "**************************************************\n",
      "**************************************************\n",
      "The subtraction is :  -1\n",
      "**************************************************\n"
     ]
    }
   ],
   "source": [
    "def decorator(func):\n",
    "    def add1(x,y):\n",
    "        print(\"*\"*50)\n",
    "        func(x,y)\n",
    "        print(\"*\"*50)\n",
    "    return add1\n",
    "@decorator\n",
    "def add(x,y):\n",
    "    print(\"The addition is : \",x+y)\n",
    "    \n",
    "@decorator\n",
    "def sub(x,y):\n",
    "    print(\"The subtraction is : \",x-y)\n",
    "\n",
    "add(3,4)\n",
    "sub(3,4)"
   ]
  },
  {
   "cell_type": "code",
   "execution_count": 42,
   "metadata": {},
   "outputs": [],
   "source": [
    "import time"
   ]
  },
  {
   "cell_type": "code",
   "execution_count": 46,
   "metadata": {},
   "outputs": [
    {
     "data": {
      "text/plain": [
       "1559101714.875815"
      ]
     },
     "execution_count": 46,
     "metadata": {},
     "output_type": "execute_result"
    }
   ],
   "source": [
    "time.time()"
   ]
  },
  {
   "cell_type": "code",
   "execution_count": 51,
   "metadata": {},
   "outputs": [],
   "source": [
    "def intime(func):\n",
    "    def time1(*args,**kwargs):\n",
    "        print(\"*\"*50)\n",
    "        print(\"-\"*50)\n",
    "        start = time.time()\n",
    "        print(\"The start time is : \",start)\n",
    "        result = func(*args,**kwargs)\n",
    "        print(\"*\"*50)\n",
    "        print(\"-\"*50)\n",
    "        end = time.time()\n",
    "        print(\"The end time is : \",end)\n",
    "        print(\"The time taken is : \",end-start)\n",
    "    return time1\n",
    "\n",
    "@intime\n",
    "def cube(x):\n",
    "    print(\"The cube is : \",x**3)\n",
    "\n",
    "@intime\n",
    "def square(x):\n",
    "    print(\"The square is : \",x**2)"
   ]
  },
  {
   "cell_type": "code",
   "execution_count": 50,
   "metadata": {},
   "outputs": [
    {
     "name": "stdout",
     "output_type": "stream",
     "text": [
      "Enter any number : 9999\n",
      "**************************************************\n",
      "--------------------------------------------------\n",
      "The start time is :  1559101921.2757657\n",
      "The cube is :  999700029999\n",
      "**************************************************\n",
      "--------------------------------------------------\n",
      "The end time is :  1559101921.2767646\n",
      "The time taken is :  0.0009989738464355469\n"
     ]
    }
   ],
   "source": [
    "cube(int(input(\"Enter any number : \")))"
   ]
  },
  {
   "cell_type": "code",
   "execution_count": 58,
   "metadata": {},
   "outputs": [
    {
     "name": "stdout",
     "output_type": "stream",
     "text": [
      "Enter any number : 1010101010999999999999999999999999999999999999999\n",
      "**************************************************\n",
      "--------------------------------------------------\n",
      "The start time is :  1559102072.8572\n",
      "The square is :  1020304052423222120999999999999999999999999999997979797978000000000000000000000000000000000000001\n",
      "**************************************************\n",
      "--------------------------------------------------\n",
      "The end time is :  1559102072.8581965\n",
      "The time taken is :  0.0009965896606445312\n"
     ]
    }
   ],
   "source": [
    "square(int(input(\"Enter any number : \")))"
   ]
  },
  {
   "cell_type": "code",
   "execution_count": 59,
   "metadata": {},
   "outputs": [],
   "source": [
    "def intime(func):\n",
    "    def time1(*args,**kwargs):\n",
    "        print(\"*\"*50)\n",
    "        print(\"*\"*50)\n",
    "        start = time.time()\n",
    "        print(\"The start time is : \",start)\n",
    "        result = func(*args,**kwargs)\n",
    "        print(\"*\"*50)\n",
    "        print(\"*\"*50)\n",
    "        end = time.time()\n",
    "        print(\"The end time is : \",end)\n",
    "        print(\"The time taken is : \",end-start)\n",
    "    return time1\n",
    "\n",
    "def timein(func):\n",
    "    def time2(*args,**kwargs):\n",
    "        print(\"-\"*50)\n",
    "        print(\"-\"*50)\n",
    "        start = time.time()\n",
    "        #print(\"The start time is : \",start)\n",
    "        result = func(*args,**kwargs)\n",
    "        print(\"-\"*50)\n",
    "        print(\"-\"*50)\n",
    "        end = time.time()\n",
    "        #print(\"The end time is : \",end)\n",
    "        #print(\"The time taken is : \",end-start)\n",
    "    return time2\n",
    "@timein\n",
    "@intime\n",
    "def cube(x):\n",
    "    print(\"The cube is : \",x**3)\n",
    "\n",
    "#@intime\n",
    "#def square(x):\n",
    "    #print(\"The square is : \",x**2)"
   ]
  },
  {
   "cell_type": "code",
   "execution_count": 60,
   "metadata": {},
   "outputs": [
    {
     "name": "stdout",
     "output_type": "stream",
     "text": [
      "999\n",
      "--------------------------------------------------\n",
      "--------------------------------------------------\n",
      "**************************************************\n",
      "**************************************************\n",
      "The start time is :  1559102272.0624115\n",
      "The cube is :  997002999\n",
      "**************************************************\n",
      "**************************************************\n",
      "The end time is :  1559102272.0624115\n",
      "The time taken is :  0.0\n",
      "--------------------------------------------------\n",
      "--------------------------------------------------\n"
     ]
    }
   ],
   "source": [
    "cube(int(input()))"
   ]
  },
  {
   "cell_type": "code",
   "execution_count": 63,
   "metadata": {},
   "outputs": [],
   "source": [
    "def intime(func):\n",
    "    def time1(*args,**kwargs):\n",
    "        print(\"*\"*50)\n",
    "        print(\"*\"*50)\n",
    "        start = time.time()\n",
    "        print(\"The start time is : \",start)\n",
    "        result = func(*args,**kwargs)\n",
    "        print(result)\n",
    "        print(\"*\"*50)\n",
    "        print(\"*\"*50)\n",
    "        end = time.time()\n",
    "        print(\"The end time is : \",end)\n",
    "        print(\"The time taken is : \",end-start)\n",
    "    return time1\n",
    "\n",
    "def timein(func):\n",
    "    def time2(*args,**kwargs):\n",
    "        print(\"-\"*50)\n",
    "        print(\"-\"*50)\n",
    "        start = time.time()\n",
    "        #print(\"The start time is : \",start)\n",
    "        result = func(*args,**kwargs)\n",
    "        print(\"-\"*50)\n",
    "        print(\"-\"*50)\n",
    "        end = time.time()\n",
    "        #print(\"The end time is : \",end)\n",
    "        #print(\"The time taken is : \",end-start)\n",
    "    return time2\n",
    "\n",
    "@timein\n",
    "@intime\n",
    "def fact1(l):\n",
    "    fact = []\n",
    "    for var in l:\n",
    "        f = 1\n",
    "        n = var\n",
    "        while n>0:\n",
    "            f = f *n\n",
    "            n = n - 1\n",
    "        fact.append(f)\n",
    "    return fact"
   ]
  },
  {
   "cell_type": "code",
   "execution_count": 65,
   "metadata": {},
   "outputs": [
    {
     "name": "stdout",
     "output_type": "stream",
     "text": [
      "1 2 3 4 5\n",
      "--------------------------------------------------\n",
      "--------------------------------------------------\n",
      "**************************************************\n",
      "**************************************************\n",
      "The start time is :  1559104178.0251522\n",
      "[1, 2, 6, 24, 120]\n",
      "**************************************************\n",
      "**************************************************\n",
      "The end time is :  1559104178.0251522\n",
      "The time taken is :  0.0\n",
      "--------------------------------------------------\n",
      "--------------------------------------------------\n"
     ]
    }
   ],
   "source": [
    "l = list(map(int,input().split()))\n",
    "fact1(l)"
   ]
  },
  {
   "cell_type": "code",
   "execution_count": null,
   "metadata": {},
   "outputs": [],
   "source": []
  }
 ],
 "metadata": {
  "kernelspec": {
   "display_name": "Python 3",
   "language": "python",
   "name": "python3"
  },
  "language_info": {
   "codemirror_mode": {
    "name": "ipython",
    "version": 3
   },
   "file_extension": ".py",
   "mimetype": "text/x-python",
   "name": "python",
   "nbconvert_exporter": "python",
   "pygments_lexer": "ipython3",
   "version": "3.6.5"
  }
 },
 "nbformat": 4,
 "nbformat_minor": 2
}
