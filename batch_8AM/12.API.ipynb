{
 "cells": [
  {
   "cell_type": "code",
   "execution_count": 1,
   "metadata": {},
   "outputs": [],
   "source": [
    "import pickle"
   ]
  },
  {
   "cell_type": "code",
   "execution_count": 3,
   "metadata": {},
   "outputs": [],
   "source": [
    "data = { \n",
    "\n",
    "    'name':'python',\n",
    "    'version' : 3.7,\n",
    "    'modules' : {\n",
    "        'ds' : [ 'matplot','numpy','scipy','stats'],\n",
    "        'ml' : [ 'tenserflow','keras','sklearn'],\n",
    "        'web': [ 'flask','django','web2py','pyramid'],\n",
    "        'automation' : [ 'ansible','puppet','openstack'],\n",
    "        'gui'  : [ 'tkinter','wxpython','kivy'],\n",
    "        \n",
    "    },\n",
    "    'versions' : [ \"1.X\",\"2.X\",\"3.X\"]\n",
    "}"
   ]
  },
  {
   "cell_type": "code",
   "execution_count": 4,
   "metadata": {},
   "outputs": [
    {
     "data": {
      "text/plain": [
       "{'name': 'python',\n",
       " 'version': 3.7,\n",
       " 'modules': {'ds': ['matplot', 'numpy', 'scipy', 'stats'],\n",
       "  'ml': ['tenserflow', 'keras', 'sklearn'],\n",
       "  'web': ['flask', 'django', 'web2py', 'pyramid'],\n",
       "  'automation': ['ansible', 'puppet', 'openstack'],\n",
       "  'gui': ['tkinter', 'wxpython', 'kivy']},\n",
       " 'versions': ['1.X', '2.X', '3.X']}"
      ]
     },
     "execution_count": 4,
     "metadata": {},
     "output_type": "execute_result"
    }
   ],
   "source": [
    "data"
   ]
  },
  {
   "cell_type": "code",
   "execution_count": 5,
   "metadata": {},
   "outputs": [],
   "source": [
    "fp = open(\"python.pkl\",\"wb\")"
   ]
  },
  {
   "cell_type": "code",
   "execution_count": 6,
   "metadata": {},
   "outputs": [],
   "source": [
    "pickle.dump(data,fp)\n",
    "fp.close()"
   ]
  },
  {
   "cell_type": "code",
   "execution_count": null,
   "metadata": {},
   "outputs": [],
   "source": []
  },
  {
   "cell_type": "code",
   "execution_count": 8,
   "metadata": {},
   "outputs": [],
   "source": [
    "fp = open(\"python.pkl\",\"rb\")"
   ]
  },
  {
   "cell_type": "code",
   "execution_count": 9,
   "metadata": {},
   "outputs": [],
   "source": [
    "d = pickle.load(fp)"
   ]
  },
  {
   "cell_type": "code",
   "execution_count": 10,
   "metadata": {},
   "outputs": [
    {
     "data": {
      "text/plain": [
       "{'name': 'python',\n",
       " 'version': 3.7,\n",
       " 'modules': {'ds': ['matplot', 'numpy', 'scipy', 'stats'],\n",
       "  'ml': ['tenserflow', 'keras', 'sklearn'],\n",
       "  'web': ['flask', 'django', 'web2py', 'pyramid'],\n",
       "  'automation': ['ansible', 'puppet', 'openstack'],\n",
       "  'gui': ['tkinter', 'wxpython', 'kivy']},\n",
       " 'versions': ['1.X', '2.X', '3.X']}"
      ]
     },
     "execution_count": 10,
     "metadata": {},
     "output_type": "execute_result"
    }
   ],
   "source": [
    "d"
   ]
  },
  {
   "cell_type": "code",
   "execution_count": 2,
   "metadata": {},
   "outputs": [],
   "source": [
    "import shelve"
   ]
  },
  {
   "cell_type": "code",
   "execution_count": 13,
   "metadata": {},
   "outputs": [],
   "source": [
    "import os\n",
    "os.mkdir(\"avai\")"
   ]
  },
  {
   "cell_type": "code",
   "execution_count": 5,
   "metadata": {},
   "outputs": [],
   "source": [
    "db = shelve.open(\"avai/data\",writeback=True)"
   ]
  },
  {
   "cell_type": "code",
   "execution_count": 6,
   "metadata": {},
   "outputs": [],
   "source": [
    "db['1001'] = { 'name':'sachin','bal':1242,'password':153667}"
   ]
  },
  {
   "cell_type": "code",
   "execution_count": 22,
   "metadata": {},
   "outputs": [
    {
     "ename": "PicklingError",
     "evalue": "Can't pickle <function <lambda> at 0x000001DAA716A598>: attribute lookup <lambda> on __main__ failed",
     "output_type": "error",
     "traceback": [
      "\u001b[1;31m---------------------------------------------------------------------------\u001b[0m",
      "\u001b[1;31mPicklingError\u001b[0m                             Traceback (most recent call last)",
      "\u001b[1;32m<ipython-input-22-736df3090416>\u001b[0m in \u001b[0;36m<module>\u001b[1;34m\u001b[0m\n\u001b[0;32m      1\u001b[0m \u001b[0mdb\u001b[0m\u001b[1;33m[\u001b[0m\u001b[1;34m'set'\u001b[0m\u001b[1;33m]\u001b[0m \u001b[1;33m=\u001b[0m \u001b[1;33m{\u001b[0m \u001b[1;36m1\u001b[0m\u001b[1;33m,\u001b[0m\u001b[1;36m2\u001b[0m\u001b[1;33m,\u001b[0m\u001b[1;36m3\u001b[0m\u001b[1;33m,\u001b[0m\u001b[1;36m4\u001b[0m\u001b[1;33m,\u001b[0m\u001b[1;36m5\u001b[0m\u001b[1;33m,\u001b[0m\u001b[1;36m5\u001b[0m\u001b[1;33m,\u001b[0m\u001b[1;36m44\u001b[0m\u001b[1;33m,\u001b[0m\u001b[1;36m3\u001b[0m\u001b[1;33m,\u001b[0m\u001b[1;36m2\u001b[0m\u001b[1;33m,\u001b[0m\u001b[1;36m2\u001b[0m\u001b[1;33m,\u001b[0m\u001b[1;36m2\u001b[0m\u001b[1;33m,\u001b[0m\u001b[1;36m2\u001b[0m\u001b[1;33m,\u001b[0m\u001b[1;36m2\u001b[0m\u001b[1;33m,\u001b[0m\u001b[1;36m2\u001b[0m\u001b[1;33m,\u001b[0m\u001b[1;36m22\u001b[0m\u001b[1;33m}\u001b[0m\u001b[1;33m\u001b[0m\u001b[1;33m\u001b[0m\u001b[0m\n\u001b[0;32m      2\u001b[0m \u001b[1;33m\u001b[0m\u001b[0m\n\u001b[1;32m----> 3\u001b[1;33m \u001b[0mdb\u001b[0m\u001b[1;33m.\u001b[0m\u001b[0mclose\u001b[0m\u001b[1;33m(\u001b[0m\u001b[1;33m)\u001b[0m\u001b[1;33m\u001b[0m\u001b[1;33m\u001b[0m\u001b[0m\n\u001b[0m",
      "\u001b[1;32mC:\\Anaconda3\\lib\\shelve.py\u001b[0m in \u001b[0;36mclose\u001b[1;34m(self)\u001b[0m\n\u001b[0;32m    142\u001b[0m             \u001b[1;32mreturn\u001b[0m\u001b[1;33m\u001b[0m\u001b[1;33m\u001b[0m\u001b[0m\n\u001b[0;32m    143\u001b[0m         \u001b[1;32mtry\u001b[0m\u001b[1;33m:\u001b[0m\u001b[1;33m\u001b[0m\u001b[1;33m\u001b[0m\u001b[0m\n\u001b[1;32m--> 144\u001b[1;33m             \u001b[0mself\u001b[0m\u001b[1;33m.\u001b[0m\u001b[0msync\u001b[0m\u001b[1;33m(\u001b[0m\u001b[1;33m)\u001b[0m\u001b[1;33m\u001b[0m\u001b[1;33m\u001b[0m\u001b[0m\n\u001b[0m\u001b[0;32m    145\u001b[0m             \u001b[1;32mtry\u001b[0m\u001b[1;33m:\u001b[0m\u001b[1;33m\u001b[0m\u001b[1;33m\u001b[0m\u001b[0m\n\u001b[0;32m    146\u001b[0m                 \u001b[0mself\u001b[0m\u001b[1;33m.\u001b[0m\u001b[0mdict\u001b[0m\u001b[1;33m.\u001b[0m\u001b[0mclose\u001b[0m\u001b[1;33m(\u001b[0m\u001b[1;33m)\u001b[0m\u001b[1;33m\u001b[0m\u001b[1;33m\u001b[0m\u001b[0m\n",
      "\u001b[1;32mC:\\Anaconda3\\lib\\shelve.py\u001b[0m in \u001b[0;36msync\u001b[1;34m(self)\u001b[0m\n\u001b[0;32m    166\u001b[0m             \u001b[0mself\u001b[0m\u001b[1;33m.\u001b[0m\u001b[0mwriteback\u001b[0m \u001b[1;33m=\u001b[0m \u001b[1;32mFalse\u001b[0m\u001b[1;33m\u001b[0m\u001b[1;33m\u001b[0m\u001b[0m\n\u001b[0;32m    167\u001b[0m             \u001b[1;32mfor\u001b[0m \u001b[0mkey\u001b[0m\u001b[1;33m,\u001b[0m \u001b[0mentry\u001b[0m \u001b[1;32min\u001b[0m \u001b[0mself\u001b[0m\u001b[1;33m.\u001b[0m\u001b[0mcache\u001b[0m\u001b[1;33m.\u001b[0m\u001b[0mitems\u001b[0m\u001b[1;33m(\u001b[0m\u001b[1;33m)\u001b[0m\u001b[1;33m:\u001b[0m\u001b[1;33m\u001b[0m\u001b[1;33m\u001b[0m\u001b[0m\n\u001b[1;32m--> 168\u001b[1;33m                 \u001b[0mself\u001b[0m\u001b[1;33m[\u001b[0m\u001b[0mkey\u001b[0m\u001b[1;33m]\u001b[0m \u001b[1;33m=\u001b[0m \u001b[0mentry\u001b[0m\u001b[1;33m\u001b[0m\u001b[1;33m\u001b[0m\u001b[0m\n\u001b[0m\u001b[0;32m    169\u001b[0m             \u001b[0mself\u001b[0m\u001b[1;33m.\u001b[0m\u001b[0mwriteback\u001b[0m \u001b[1;33m=\u001b[0m \u001b[1;32mTrue\u001b[0m\u001b[1;33m\u001b[0m\u001b[1;33m\u001b[0m\u001b[0m\n\u001b[0;32m    170\u001b[0m             \u001b[0mself\u001b[0m\u001b[1;33m.\u001b[0m\u001b[0mcache\u001b[0m \u001b[1;33m=\u001b[0m \u001b[1;33m{\u001b[0m\u001b[1;33m}\u001b[0m\u001b[1;33m\u001b[0m\u001b[1;33m\u001b[0m\u001b[0m\n",
      "\u001b[1;32mC:\\Anaconda3\\lib\\shelve.py\u001b[0m in \u001b[0;36m__setitem__\u001b[1;34m(self, key, value)\u001b[0m\n\u001b[0;32m    122\u001b[0m         \u001b[0mf\u001b[0m \u001b[1;33m=\u001b[0m \u001b[0mBytesIO\u001b[0m\u001b[1;33m(\u001b[0m\u001b[1;33m)\u001b[0m\u001b[1;33m\u001b[0m\u001b[1;33m\u001b[0m\u001b[0m\n\u001b[0;32m    123\u001b[0m         \u001b[0mp\u001b[0m \u001b[1;33m=\u001b[0m \u001b[0mPickler\u001b[0m\u001b[1;33m(\u001b[0m\u001b[0mf\u001b[0m\u001b[1;33m,\u001b[0m \u001b[0mself\u001b[0m\u001b[1;33m.\u001b[0m\u001b[0m_protocol\u001b[0m\u001b[1;33m)\u001b[0m\u001b[1;33m\u001b[0m\u001b[1;33m\u001b[0m\u001b[0m\n\u001b[1;32m--> 124\u001b[1;33m         \u001b[0mp\u001b[0m\u001b[1;33m.\u001b[0m\u001b[0mdump\u001b[0m\u001b[1;33m(\u001b[0m\u001b[0mvalue\u001b[0m\u001b[1;33m)\u001b[0m\u001b[1;33m\u001b[0m\u001b[1;33m\u001b[0m\u001b[0m\n\u001b[0m\u001b[0;32m    125\u001b[0m         \u001b[0mself\u001b[0m\u001b[1;33m.\u001b[0m\u001b[0mdict\u001b[0m\u001b[1;33m[\u001b[0m\u001b[0mkey\u001b[0m\u001b[1;33m.\u001b[0m\u001b[0mencode\u001b[0m\u001b[1;33m(\u001b[0m\u001b[0mself\u001b[0m\u001b[1;33m.\u001b[0m\u001b[0mkeyencoding\u001b[0m\u001b[1;33m)\u001b[0m\u001b[1;33m]\u001b[0m \u001b[1;33m=\u001b[0m \u001b[0mf\u001b[0m\u001b[1;33m.\u001b[0m\u001b[0mgetvalue\u001b[0m\u001b[1;33m(\u001b[0m\u001b[1;33m)\u001b[0m\u001b[1;33m\u001b[0m\u001b[1;33m\u001b[0m\u001b[0m\n\u001b[0;32m    126\u001b[0m \u001b[1;33m\u001b[0m\u001b[0m\n",
      "\u001b[1;31mPicklingError\u001b[0m: Can't pickle <function <lambda> at 0x000001DAA716A598>: attribute lookup <lambda> on __main__ failed"
     ]
    }
   ],
   "source": [
    "db['set'] = { 1,2,3,4,5,5,44,3,2,2,2,2,2,2,22}\n",
    "\n",
    "db.close()"
   ]
  },
  {
   "cell_type": "code",
   "execution_count": 8,
   "metadata": {},
   "outputs": [
    {
     "ename": "PicklingError",
     "evalue": "Can't pickle <function <lambda> at 0x000001DAA716A598>: attribute lookup <lambda> on __main__ failed",
     "output_type": "error",
     "traceback": [
      "\u001b[1;31m---------------------------------------------------------------------------\u001b[0m",
      "\u001b[1;31mPicklingError\u001b[0m                             Traceback (most recent call last)",
      "\u001b[1;32m<ipython-input-8-3c22ee881018>\u001b[0m in \u001b[0;36m<module>\u001b[1;34m\u001b[0m\n\u001b[1;32m----> 1\u001b[1;33m \u001b[0mdb\u001b[0m\u001b[1;33m[\u001b[0m\u001b[1;34m'map'\u001b[0m\u001b[1;33m]\u001b[0m \u001b[1;33m=\u001b[0m \u001b[0mmap\u001b[0m\u001b[1;33m(\u001b[0m\u001b[1;32mlambda\u001b[0m \u001b[0mx\u001b[0m\u001b[1;33m:\u001b[0m\u001b[0mx\u001b[0m\u001b[1;33m**\u001b[0m\u001b[1;36m2\u001b[0m\u001b[1;33m,\u001b[0m\u001b[0mrange\u001b[0m\u001b[1;33m(\u001b[0m\u001b[1;36m1\u001b[0m\u001b[1;33m,\u001b[0m\u001b[1;36m999999\u001b[0m\u001b[1;33m)\u001b[0m\u001b[1;33m)\u001b[0m\u001b[1;33m\u001b[0m\u001b[1;33m\u001b[0m\u001b[0m\n\u001b[0m",
      "\u001b[1;32mC:\\Anaconda3\\lib\\shelve.py\u001b[0m in \u001b[0;36m__setitem__\u001b[1;34m(self, key, value)\u001b[0m\n\u001b[0;32m    122\u001b[0m         \u001b[0mf\u001b[0m \u001b[1;33m=\u001b[0m \u001b[0mBytesIO\u001b[0m\u001b[1;33m(\u001b[0m\u001b[1;33m)\u001b[0m\u001b[1;33m\u001b[0m\u001b[1;33m\u001b[0m\u001b[0m\n\u001b[0;32m    123\u001b[0m         \u001b[0mp\u001b[0m \u001b[1;33m=\u001b[0m \u001b[0mPickler\u001b[0m\u001b[1;33m(\u001b[0m\u001b[0mf\u001b[0m\u001b[1;33m,\u001b[0m \u001b[0mself\u001b[0m\u001b[1;33m.\u001b[0m\u001b[0m_protocol\u001b[0m\u001b[1;33m)\u001b[0m\u001b[1;33m\u001b[0m\u001b[1;33m\u001b[0m\u001b[0m\n\u001b[1;32m--> 124\u001b[1;33m         \u001b[0mp\u001b[0m\u001b[1;33m.\u001b[0m\u001b[0mdump\u001b[0m\u001b[1;33m(\u001b[0m\u001b[0mvalue\u001b[0m\u001b[1;33m)\u001b[0m\u001b[1;33m\u001b[0m\u001b[1;33m\u001b[0m\u001b[0m\n\u001b[0m\u001b[0;32m    125\u001b[0m         \u001b[0mself\u001b[0m\u001b[1;33m.\u001b[0m\u001b[0mdict\u001b[0m\u001b[1;33m[\u001b[0m\u001b[0mkey\u001b[0m\u001b[1;33m.\u001b[0m\u001b[0mencode\u001b[0m\u001b[1;33m(\u001b[0m\u001b[0mself\u001b[0m\u001b[1;33m.\u001b[0m\u001b[0mkeyencoding\u001b[0m\u001b[1;33m)\u001b[0m\u001b[1;33m]\u001b[0m \u001b[1;33m=\u001b[0m \u001b[0mf\u001b[0m\u001b[1;33m.\u001b[0m\u001b[0mgetvalue\u001b[0m\u001b[1;33m(\u001b[0m\u001b[1;33m)\u001b[0m\u001b[1;33m\u001b[0m\u001b[1;33m\u001b[0m\u001b[0m\n\u001b[0;32m    126\u001b[0m \u001b[1;33m\u001b[0m\u001b[0m\n",
      "\u001b[1;31mPicklingError\u001b[0m: Can't pickle <function <lambda> at 0x000001DAA716A598>: attribute lookup <lambda> on __main__ failed"
     ]
    }
   ],
   "source": [
    "db['map'] = ma"
   ]
  },
  {
   "cell_type": "code",
   "execution_count": 18,
   "metadata": {},
   "outputs": [],
   "source": [
    "l = [ var**2 for var in range(9999999)]"
   ]
  },
  {
   "cell_type": "code",
   "execution_count": 19,
   "metadata": {},
   "outputs": [
    {
     "data": {
      "text/plain": [
       "81528032"
      ]
     },
     "execution_count": 19,
     "metadata": {},
     "output_type": "execute_result"
    }
   ],
   "source": [
    "l.__sizeof__()"
   ]
  },
  {
   "cell_type": "code",
   "execution_count": 20,
   "metadata": {},
   "outputs": [
    {
     "name": "stdout",
     "output_type": "stream",
     "text": [
      "<class 'generator'>\n"
     ]
    },
    {
     "data": {
      "text/plain": [
       "96"
      ]
     },
     "execution_count": 20,
     "metadata": {},
     "output_type": "execute_result"
    }
   ],
   "source": [
    "d = ( var**2 for var in range(9999999) ) # \n",
    "print(type(d))\n",
    "d.__sizeof__()"
   ]
  },
  {
   "cell_type": "code",
   "execution_count": 12,
   "metadata": {},
   "outputs": [
    {
     "name": "stdout",
     "output_type": "stream",
     "text": [
      "[0, 1, 4, 9, 16, 25, 36, 49, 64, 81, 100, 121, 144, 169, 196, 225, 256, 289, 324, 361, 400, 441, 484, 529, 576, 625, 676, 729, 784, 841, 900, 961, 1024, 1089, 1156, 1225, 1296, 1369, 1444, 1521, 1600, 1681, 1764, 1849, 1936, 2025, 2116, 2209, 2304, 2401, 2500, 2601, 2704, 2809, 2916, 3025, 3136, 3249, 3364, 3481, 3600, 3721, 3844, 3969, 4096, 4225, 4356, 4489, 4624, 4761, 4900, 5041, 5184, 5329, 5476, 5625, 5776, 5929, 6084, 6241, 6400, 6561, 6724, 6889, 7056, 7225, 7396, 7569, 7744, 7921, 8100, 8281, 8464, 8649, 8836, 9025, 9216, 9409, 9604]\n"
     ]
    }
   ],
   "source": [
    "print(l)"
   ]
  },
  {
   "cell_type": "code",
   "execution_count": 16,
   "metadata": {},
   "outputs": [
    {
     "data": {
      "text/plain": [
       "4"
      ]
     },
     "execution_count": 16,
     "metadata": {},
     "output_type": "execute_result"
    }
   ],
   "source": [
    "next(d)"
   ]
  },
  {
   "cell_type": "code",
   "execution_count": 17,
   "metadata": {},
   "outputs": [
    {
     "name": "stdout",
     "output_type": "stream",
     "text": [
      "9 16 25 36 49 64 81 100 121 144 169 196 225 256 289 324 361 400 441 484 529 576 625 676 729 784 841 900 961 1024 1089 1156 1225 1296 1369 1444 1521 1600 1681 1764 1849 1936 2025 2116 2209 2304 2401 2500 2601 2704 2809 2916 3025 3136 3249 3364 3481 3600 3721 3844 3969 4096 4225 4356 4489 4624 4761 4900 5041 5184 5329 5476 5625 5776 5929 6084 6241 6400 6561 6724 6889 7056 7225 7396 7569 7744 7921 8100 8281 8464 8649 8836 9025 9216 9409 9604\n"
     ]
    }
   ],
   "source": [
    "print(*d)"
   ]
  },
  {
   "cell_type": "code",
   "execution_count": 21,
   "metadata": {},
   "outputs": [
    {
     "ename": "TypeError",
     "evalue": "can't pickle generator objects",
     "output_type": "error",
     "traceback": [
      "\u001b[1;31m---------------------------------------------------------------------------\u001b[0m",
      "\u001b[1;31mTypeError\u001b[0m                                 Traceback (most recent call last)",
      "\u001b[1;32m<ipython-input-21-4d3f8835b7bc>\u001b[0m in \u001b[0;36m<module>\u001b[1;34m\u001b[0m\n\u001b[1;32m----> 1\u001b[1;33m \u001b[0mdb\u001b[0m\u001b[1;33m[\u001b[0m\u001b[1;34m'gen'\u001b[0m\u001b[1;33m]\u001b[0m \u001b[1;33m=\u001b[0m \u001b[0md\u001b[0m\u001b[1;33m\u001b[0m\u001b[1;33m\u001b[0m\u001b[0m\n\u001b[0m",
      "\u001b[1;32mC:\\Anaconda3\\lib\\shelve.py\u001b[0m in \u001b[0;36m__setitem__\u001b[1;34m(self, key, value)\u001b[0m\n\u001b[0;32m    122\u001b[0m         \u001b[0mf\u001b[0m \u001b[1;33m=\u001b[0m \u001b[0mBytesIO\u001b[0m\u001b[1;33m(\u001b[0m\u001b[1;33m)\u001b[0m\u001b[1;33m\u001b[0m\u001b[1;33m\u001b[0m\u001b[0m\n\u001b[0;32m    123\u001b[0m         \u001b[0mp\u001b[0m \u001b[1;33m=\u001b[0m \u001b[0mPickler\u001b[0m\u001b[1;33m(\u001b[0m\u001b[0mf\u001b[0m\u001b[1;33m,\u001b[0m \u001b[0mself\u001b[0m\u001b[1;33m.\u001b[0m\u001b[0m_protocol\u001b[0m\u001b[1;33m)\u001b[0m\u001b[1;33m\u001b[0m\u001b[1;33m\u001b[0m\u001b[0m\n\u001b[1;32m--> 124\u001b[1;33m         \u001b[0mp\u001b[0m\u001b[1;33m.\u001b[0m\u001b[0mdump\u001b[0m\u001b[1;33m(\u001b[0m\u001b[0mvalue\u001b[0m\u001b[1;33m)\u001b[0m\u001b[1;33m\u001b[0m\u001b[1;33m\u001b[0m\u001b[0m\n\u001b[0m\u001b[0;32m    125\u001b[0m         \u001b[0mself\u001b[0m\u001b[1;33m.\u001b[0m\u001b[0mdict\u001b[0m\u001b[1;33m[\u001b[0m\u001b[0mkey\u001b[0m\u001b[1;33m.\u001b[0m\u001b[0mencode\u001b[0m\u001b[1;33m(\u001b[0m\u001b[0mself\u001b[0m\u001b[1;33m.\u001b[0m\u001b[0mkeyencoding\u001b[0m\u001b[1;33m)\u001b[0m\u001b[1;33m]\u001b[0m \u001b[1;33m=\u001b[0m \u001b[0mf\u001b[0m\u001b[1;33m.\u001b[0m\u001b[0mgetvalue\u001b[0m\u001b[1;33m(\u001b[0m\u001b[1;33m)\u001b[0m\u001b[1;33m\u001b[0m\u001b[1;33m\u001b[0m\u001b[0m\n\u001b[0;32m    126\u001b[0m \u001b[1;33m\u001b[0m\u001b[0m\n",
      "\u001b[1;31mTypeError\u001b[0m: can't pickle generator objects"
     ]
    }
   ],
   "source": [
    "db['gen'] = d"
   ]
  },
  {
   "cell_type": "code",
   "execution_count": 24,
   "metadata": {},
   "outputs": [],
   "source": [
    "# YAML --> Yet Another Markup Language"
   ]
  },
  {
   "cell_type": "code",
   "execution_count": 25,
   "metadata": {},
   "outputs": [],
   "source": [
    "fp = shelve.open(\"avai/data\")"
   ]
  },
  {
   "cell_type": "code",
   "execution_count": 26,
   "metadata": {},
   "outputs": [
    {
     "data": {
      "text/plain": [
       "<shelve.DbfilenameShelf at 0x1daa759a7f0>"
      ]
     },
     "execution_count": 26,
     "metadata": {},
     "output_type": "execute_result"
    }
   ],
   "source": [
    "fp"
   ]
  },
  {
   "cell_type": "code",
   "execution_count": 27,
   "metadata": {},
   "outputs": [
    {
     "data": {
      "text/plain": [
       "KeysView(<shelve.DbfilenameShelf object at 0x000001DAA759A7F0>)"
      ]
     },
     "execution_count": 27,
     "metadata": {},
     "output_type": "execute_result"
    }
   ],
   "source": [
    "fp.keys()"
   ]
  },
  {
   "cell_type": "code",
   "execution_count": 28,
   "metadata": {},
   "outputs": [
    {
     "name": "stdout",
     "output_type": "stream",
     "text": [
      "1001 set\n"
     ]
    }
   ],
   "source": [
    "print(*fp.keys())"
   ]
  },
  {
   "cell_type": "code",
   "execution_count": 29,
   "metadata": {},
   "outputs": [
    {
     "name": "stdout",
     "output_type": "stream",
     "text": [
      "{'name': 'sachin', 'bal': 1242, 'password': 153667} {1, 2, 3, 4, 5, 44, 22}\n"
     ]
    }
   ],
   "source": [
    "print(*fp.values())"
   ]
  },
  {
   "cell_type": "code",
   "execution_count": 30,
   "metadata": {},
   "outputs": [],
   "source": [
    "fp.update([\n",
    "    ('1002',[1,2,3,4,4]),\n",
    "    ('1005','hello world'),\n",
    "    ('complex',3+5j)\n",
    "])"
   ]
  },
  {
   "cell_type": "code",
   "execution_count": 31,
   "metadata": {},
   "outputs": [
    {
     "name": "stdout",
     "output_type": "stream",
     "text": [
      "{'name': 'sachin', 'bal': 1242, 'password': 153667} {1, 2, 3, 4, 5, 44, 22} [1, 2, 3, 4, 4] hello world (3+5j)\n"
     ]
    }
   ],
   "source": [
    "print(*fp.values())"
   ]
  },
  {
   "cell_type": "code",
   "execution_count": 32,
   "metadata": {},
   "outputs": [
    {
     "name": "stdout",
     "output_type": "stream",
     "text": [
      "1001 = {'name': 'sachin', 'bal': 1242, 'password': 153667}\n",
      "set = {1, 2, 3, 4, 5, 44, 22}\n",
      "1002 = [1, 2, 3, 4, 4]\n",
      "1005 = hello world\n",
      "complex = (3+5j)\n"
     ]
    }
   ],
   "source": [
    "for key,value in fp.items():\n",
    "    print(f\"{key} = {value}\")"
   ]
  },
  {
   "cell_type": "code",
   "execution_count": 33,
   "metadata": {},
   "outputs": [],
   "source": [
    "fp.close()"
   ]
  },
  {
   "cell_type": "code",
   "execution_count": 2,
   "metadata": {},
   "outputs": [],
   "source": [
    "import requests"
   ]
  },
  {
   "cell_type": "code",
   "execution_count": 3,
   "metadata": {},
   "outputs": [],
   "source": [
    "url = \"https://static.interestingengineering.com/images/APRIL/sizes/black_hole_resize_md.jpg\""
   ]
  },
  {
   "cell_type": "code",
   "execution_count": 4,
   "metadata": {},
   "outputs": [],
   "source": [
    "data = requests.get(url)"
   ]
  },
  {
   "cell_type": "code",
   "execution_count": 5,
   "metadata": {},
   "outputs": [
    {
     "data": {
      "text/plain": [
       "requests.models.Response"
      ]
     },
     "execution_count": 5,
     "metadata": {},
     "output_type": "execute_result"
    }
   ],
   "source": [
    "type(data)"
   ]
  },
  {
   "cell_type": "code",
   "execution_count": 6,
   "metadata": {},
   "outputs": [
    {
     "data": {
      "text/plain": [
       "200"
      ]
     },
     "execution_count": 6,
     "metadata": {},
     "output_type": "execute_result"
    }
   ],
   "source": [
    "data.status_code"
   ]
  },
  {
   "cell_type": "code",
   "execution_count": 14,
   "metadata": {},
   "outputs": [
    {
     "data": {
      "text/plain": [
       "404"
      ]
     },
     "execution_count": 14,
     "metadata": {},
     "output_type": "execute_result"
    }
   ],
   "source": [
    "p = requests.get('https://grras.com/sldkjf')\n",
    "p.status_code"
   ]
  },
  {
   "cell_type": "code",
   "execution_count": 17,
   "metadata": {},
   "outputs": [],
   "source": [
    "f = open(\"newimg.jpg\",\"wb\")\n",
    "f.write(data.content)\n",
    "f.close()"
   ]
  },
  {
   "cell_type": "code",
   "execution_count": 18,
   "metadata": {},
   "outputs": [
    {
     "data": {
      "text/plain": [
       "200"
      ]
     },
     "execution_count": 18,
     "metadata": {},
     "output_type": "execute_result"
    }
   ],
   "source": [
    "page = requests.get(\"https://grras.com/\")\n",
    "\n",
    "page.status_code"
   ]
  },
  {
   "cell_type": "code",
   "execution_count": 23,
   "metadata": {},
   "outputs": [],
   "source": [
    "fp = open(\"grras.html\",\"wb\")\n",
    "fp.write(page.content)\n",
    "fp.close()"
   ]
  },
  {
   "cell_type": "code",
   "execution_count": 77,
   "metadata": {},
   "outputs": [],
   "source": [
    "url = \"https://graph.facebook.com/v3.3/me?fields={}&access_token={}\"\n",
    "\n",
    "fields = \"id,name,photos\"\n",
    "access_token = \"EAAFmbg86re4BALtcojgZAUMxf7lrCZCmZCZABMqEl2hUiQDV2SUOtDz5jBAx7NYTN9t1iAeELQZCSZAb148i9Wu3Kl0S4khNJd0PjUFFElyZChKHZBGcQ7JtMWh81pDylZBvJxDnrqpNONIDUpf0pXVOiKAZC9pb4qvVujN3wQgBUYDZC7a74E4PFtyVURRjHcRoHiNS9DfxP5IzAZDZD\"\n",
    "\n",
    "url = url.format(fields,access_token)"
   ]
  },
  {
   "cell_type": "code",
   "execution_count": 78,
   "metadata": {},
   "outputs": [
    {
     "name": "stdout",
     "output_type": "stream",
     "text": [
      "https://graph.facebook.com/v3.3/me?fields=id,name,photos&access_token=EAAFmbg86re4BALtcojgZAUMxf7lrCZCmZCZABMqEl2hUiQDV2SUOtDz5jBAx7NYTN9t1iAeELQZCSZAb148i9Wu3Kl0S4khNJd0PjUFFElyZChKHZBGcQ7JtMWh81pDylZBvJxDnrqpNONIDUpf0pXVOiKAZC9pb4qvVujN3wQgBUYDZC7a74E4PFtyVURRjHcRoHiNS9DfxP5IzAZDZD\n"
     ]
    }
   ],
   "source": [
    "print(url)"
   ]
  },
  {
   "cell_type": "code",
   "execution_count": 79,
   "metadata": {},
   "outputs": [],
   "source": [
    "page = requests.get(url)"
   ]
  },
  {
   "cell_type": "code",
   "execution_count": 80,
   "metadata": {},
   "outputs": [
    {
     "data": {
      "text/plain": [
       "200"
      ]
     },
     "execution_count": 80,
     "metadata": {},
     "output_type": "execute_result"
    }
   ],
   "source": [
    "page.status_code"
   ]
  },
  {
   "cell_type": "code",
   "execution_count": 81,
   "metadata": {},
   "outputs": [
    {
     "data": {
      "text/plain": [
       "b'{\"id\":\"1257621951064064\",\"name\":\"Yadvendra Singh\",\"photos\":{\"data\":[{\"created_time\":\"2018-06-23T17:52:07+0000\",\"id\":\"999577096857244\"},{\"created_time\":\"2018-04-24T08:22:48+0000\",\"name\":\"#Programming #language is the proper and easy mode of writing complexed programs which enables us to write efficient programs and develop software\\\\u2019s, applications, and games etc. They provide programmer a proper environment to do programming.\\\\nIt makes you proficient in skills to work with back-end and front-end web technologies. It includes training on Web Designing and Development, Java, Android, jQuery, AngularJS, NodeJS, Python, and Application Development.\\\\n__________________________________________________\\\\n\\\\nHere are several features which explain why programming languages are needed:\\\\n1. To advance your ability to develop real algorithms: Most of the languages come with lot of features for Programmer which when used in a proper manner gives best results.\\\\n2. To Improve Customize Your Existing Programming Language: By considering the basic features of your existing Programming Language one can simplify things to better and hence you can write resourceful Codes.\\\\n3. To Increase Your Vocabulary Of beneficial Programming Constructs: Some peoples use Programming languages to definite thoughts , but language also helps the two structure how a person thinks and how does other works accordingly.\\\\n--------------------------------------------------------------------------------\\\\nTo know about the training platforms and projects-Visit- https:\\\\/\\\\/internship.grras.com\\\\/\\\\n\\\\n#Summerinternship #GRRAS #Webdesigninganddevelopment #Java #Android #Python #AngularJS #NodeJS #Summerinternship2018 #Industrialtraining \\\\nGRRAS Solutions Pvt. Ltd.\",\"id\":\"2076446965703327\"},{\"created_time\":\"2018-04-17T18:49:12+0000\",\"name\":\"happy birthday bhai\",\"id\":\"922635894562673\"},{\"created_time\":\"2018-04-04T08:31:24+0000\",\"name\":\"High-performing IT organizations deploy 200 times more frequently than low performers, with 2,555 times faster lead times \\\\u2013 2016 State of #DevOps report.\\\\nIn today\\\\u2019s bloodthirsty business environment, DevOps has emerged as an essential solution that helps organizations meet ever rising industry demands. The State of DevOps report helps us understand how the practices associated with DevOps effect IT and organizational performance. Let us examine the findings of the report to ascertain why DevOps matters and how DevOps can benefit your organization.\\\\nWhy DevOps?\\\\nThe 2016 State of DevOps report makes it plain and simple that companies which incorporate DevOps practices get more done, showing significantly different results than low performers. The report goes on to show that high-performing IT organizations have applied DevOps to get the following profits:\\\\n\\\\n1. Shorter Development Cycles, Faster Innovation\\\\n2. Reduced Deployment Failures, Rollbacks, and Time to make progress\\\\n3. Improved Communication and Collaboration\\\\n4. Increased Efficiencies\\\\n5. Reduced Costs and IT Headcount\\\\n_________________________________________________\\\\nTo know about the training platforms and projects-Visit- https:\\\\/\\\\/internship.grras.com\\\\/\\\\n\\\\n#DevOpstraining #CloudComputing #GRRAS #Industrialtraining #GIT #JENKINS #SELENIUM #DOCKER #PUPPET #CHEF #ANSIBLE #NAGIOS #ELKSTACK #SPLUNK #Summerinternship2018\\\\nGaurav Saluja Ravi Sarswat Akhilesh Jain Shiv Mohan Patel\",\"id\":\"2053312261350131\"},{\"created_time\":\"2015-09-17T19:48:13+0000\",\"name\":\"Good day with friends at amer fort\",\"id\":\"494645194028414\"},{\"created_time\":\"2015-08-19T03:51:47+0000\",\"name\":\"15aug \\\\n\\\\nrock with frends\",\"id\":\"483531788473088\"},{\"created_time\":\"2015-09-05T04:35:26+0000\",\"name\":\"Enojy with friends\",\"id\":\"490318497794417\"},{\"created_time\":\"2015-08-03T01:49:53+0000\",\"name\":\"Sunshine resort\",\"id\":\"478535182306082\"},{\"created_time\":\"2015-07-30T16:53:47+0000\",\"id\":\"477425272417073\"}],\"paging\":{\"cursors\":{\"before\":\"QVFIUkk5TkZAMYU0wbllsWEdUemNVRHhFRUF3d3RqNUJTUTM4d1dOY1ZA5Y0FETU91MWlTbmNsaFBjUi1sZAXBOV0RCcW5JZAGJUc1ZA0RnItUUF4Mk1TNUpheDRn\",\"after\":\"QVFIUmI1RExfRy1rWVBRVHRsV0pmTF90NUNCMDFnS3d2bUdKTmpFNzM0SUQtQzZASZADJYZAVVSRXVUekhmMVJhd1dZAYU5fNC1faXExX1pBbnd1TTV1WG41X2tB\"}}}}'"
      ]
     },
     "execution_count": 81,
     "metadata": {},
     "output_type": "execute_result"
    }
   ],
   "source": [
    "page.content"
   ]
  },
  {
   "cell_type": "code",
   "execution_count": 82,
   "metadata": {},
   "outputs": [],
   "source": [
    "data = page.json()"
   ]
  },
  {
   "cell_type": "code",
   "execution_count": 83,
   "metadata": {},
   "outputs": [
    {
     "data": {
      "text/plain": [
       "dict"
      ]
     },
     "execution_count": 83,
     "metadata": {},
     "output_type": "execute_result"
    }
   ],
   "source": [
    "type(data)"
   ]
  },
  {
   "cell_type": "code",
   "execution_count": 84,
   "metadata": {},
   "outputs": [],
   "source": [
    "import json"
   ]
  },
  {
   "cell_type": "code",
   "execution_count": 85,
   "metadata": {},
   "outputs": [
    {
     "name": "stdout",
     "output_type": "stream",
     "text": [
      "{\n",
      "   \"id\": \"1257621951064064\",\n",
      "   \"name\": \"Yadvendra Singh\",\n",
      "   \"photos\": {\n",
      "      \"data\": [\n",
      "         {\n",
      "            \"created_time\": \"2018-06-23T17:52:07+0000\",\n",
      "            \"id\": \"999577096857244\"\n",
      "         },\n",
      "         {\n",
      "            \"created_time\": \"2018-04-24T08:22:48+0000\",\n",
      "            \"name\": \"#Programming #language is the proper and easy mode of writing complexed programs which enables us to write efficient programs and develop software\\u2019s, applications, and games etc. They provide programmer a proper environment to do programming.\\nIt makes you proficient in skills to work with back-end and front-end web technologies. It includes training on Web Designing and Development, Java, Android, jQuery, AngularJS, NodeJS, Python, and Application Development.\\n__________________________________________________\\n\\nHere are several features which explain why programming languages are needed:\\n1. To advance your ability to develop real algorithms: Most of the languages come with lot of features for Programmer which when used in a proper manner gives best results.\\n2. To Improve Customize Your Existing Programming Language: By considering the basic features of your existing Programming Language one can simplify things to better and hence you can write resourceful Codes.\\n3. To Increase Your Vocabulary Of beneficial Programming Constructs: Some peoples use Programming languages to definite thoughts , but language also helps the two structure how a person thinks and how does other works accordingly.\\n--------------------------------------------------------------------------------\\nTo know about the training platforms and projects-Visit- https://internship.grras.com/\\n\\n#Summerinternship #GRRAS #Webdesigninganddevelopment #Java #Android #Python #AngularJS #NodeJS #Summerinternship2018 #Industrialtraining \\nGRRAS Solutions Pvt. Ltd.\",\n",
      "            \"id\": \"2076446965703327\"\n",
      "         },\n",
      "         {\n",
      "            \"created_time\": \"2018-04-17T18:49:12+0000\",\n",
      "            \"name\": \"happy birthday bhai\",\n",
      "            \"id\": \"922635894562673\"\n",
      "         },\n",
      "         {\n",
      "            \"created_time\": \"2018-04-04T08:31:24+0000\",\n",
      "            \"name\": \"High-performing IT organizations deploy 200 times more frequently than low performers, with 2,555 times faster lead times \\u2013 2016 State of #DevOps report.\\nIn today\\u2019s bloodthirsty business environment, DevOps has emerged as an essential solution that helps organizations meet ever rising industry demands. The State of DevOps report helps us understand how the practices associated with DevOps effect IT and organizational performance. Let us examine the findings of the report to ascertain why DevOps matters and how DevOps can benefit your organization.\\nWhy DevOps?\\nThe 2016 State of DevOps report makes it plain and simple that companies which incorporate DevOps practices get more done, showing significantly different results than low performers. The report goes on to show that high-performing IT organizations have applied DevOps to get the following profits:\\n\\n1. Shorter Development Cycles, Faster Innovation\\n2. Reduced Deployment Failures, Rollbacks, and Time to make progress\\n3. Improved Communication and Collaboration\\n4. Increased Efficiencies\\n5. Reduced Costs and IT Headcount\\n_________________________________________________\\nTo know about the training platforms and projects-Visit- https://internship.grras.com/\\n\\n#DevOpstraining #CloudComputing #GRRAS #Industrialtraining #GIT #JENKINS #SELENIUM #DOCKER #PUPPET #CHEF #ANSIBLE #NAGIOS #ELKSTACK #SPLUNK #Summerinternship2018\\nGaurav Saluja Ravi Sarswat Akhilesh Jain Shiv Mohan Patel\",\n",
      "            \"id\": \"2053312261350131\"\n",
      "         },\n",
      "         {\n",
      "            \"created_time\": \"2015-09-17T19:48:13+0000\",\n",
      "            \"name\": \"Good day with friends at amer fort\",\n",
      "            \"id\": \"494645194028414\"\n",
      "         },\n",
      "         {\n",
      "            \"created_time\": \"2015-08-19T03:51:47+0000\",\n",
      "            \"name\": \"15aug \\n\\nrock with frends\",\n",
      "            \"id\": \"483531788473088\"\n",
      "         },\n",
      "         {\n",
      "            \"created_time\": \"2015-09-05T04:35:26+0000\",\n",
      "            \"name\": \"Enojy with friends\",\n",
      "            \"id\": \"490318497794417\"\n",
      "         },\n",
      "         {\n",
      "            \"created_time\": \"2015-08-03T01:49:53+0000\",\n",
      "            \"name\": \"Sunshine resort\",\n",
      "            \"id\": \"478535182306082\"\n",
      "         },\n",
      "         {\n",
      "            \"created_time\": \"2015-07-30T16:53:47+0000\",\n",
      "            \"id\": \"477425272417073\"\n",
      "         }\n",
      "      ],\n",
      "      \"paging\": {\n",
      "         \"cursors\": {\n",
      "            \"before\": \"QVFIUkk5TkZAMYU0wbllsWEdUemNVRHhFRUF3d3RqNUJTUTM4d1dOY1ZA5Y0FETU91MWlTbmNsaFBjUi1sZAXBOV0RCcW5JZAGJUc1ZA0RnItUUF4Mk1TNUpheDRn\",\n",
      "            \"after\": \"QVFIUmI1RExfRy1rWVBRVHRsV0pmTF90NUNCMDFnS3d2bUdKTmpFNzM0SUQtQzZASZADJYZAVVSRXVUekhmMVJhd1dZAYU5fNC1faXExX1pBbnd1TTV1WG41X2tB\"\n",
      "         }\n",
      "      }\n",
      "   }\n",
      "}\n"
     ]
    }
   ],
   "source": [
    "print(json.dumps(data,indent=3))"
   ]
  },
  {
   "cell_type": "code",
   "execution_count": null,
   "metadata": {},
   "outputs": [],
   "source": []
  }
 ],
 "metadata": {
  "kernelspec": {
   "display_name": "Python 3",
   "language": "python",
   "name": "python3"
  },
  "language_info": {
   "codemirror_mode": {
    "name": "ipython",
    "version": 3
   },
   "file_extension": ".py",
   "mimetype": "text/x-python",
   "name": "python",
   "nbconvert_exporter": "python",
   "pygments_lexer": "ipython3",
   "version": "3.7.1"
  }
 },
 "nbformat": 4,
 "nbformat_minor": 2
}
