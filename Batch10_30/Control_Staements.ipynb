{
 "cells": [
  {
   "cell_type": "markdown",
   "metadata": {},
   "source": [
    "## Steps to slove a problem \n",
    "\n",
    "* problem defination and research \n",
    "* Requirement gathering and analysis\n",
    "* project synopsis \n",
    "* Algorithm \n",
    "* flow chart\n",
    "* coding\n",
    "* integration\n",
    "* testing \n",
    "* deploy\n",
    "* mantinence\n",
    "* feedback \n",
    "\n",
    "\n",
    "#### 6.042 computer "
   ]
  },
  {
   "cell_type": "raw",
   "metadata": {},
   "source": [
    "# algorithm problem solution in your language\n",
    "\n",
    "## Atm machine \n",
    "\n",
    "step1. start\n",
    "\n",
    "step2. read card information \n",
    "step3. fetch details of card from database\n",
    "step4. ask for pin \n",
    "step5. verify pin if pin is correct go to step 6\n",
    "else go to step 7 (Decision statement)\n",
    "step 6. print main menu \n",
    "...\n",
    "step7. print error regrading pin and exit\n",
    "step8. end"
   ]
  },
  {
   "cell_type": "raw",
   "metadata": {},
   "source": [
    "# even odd flow digram\n",
    "oval --> start & end \n",
    "rectangle --> processing\n",
    "diamond --> Decesion\n",
    "parallogram --> Input/Output\n",
    "directed arrows --> Data Flow / Program flow\n",
    "page connectors --> to attach previous and next page\n",
    "\n"
   ]
  },
  {
   "cell_type": "code",
   "execution_count": 2,
   "metadata": {},
   "outputs": [],
   "source": [
    "# indentation group of statements\n",
    "# : indentation operator "
   ]
  },
  {
   "cell_type": "code",
   "execution_count": 3,
   "metadata": {},
   "outputs": [
    {
     "name": "stdout",
     "output_type": "stream",
     "text": [
      "hello world\n"
     ]
    }
   ],
   "source": [
    "print(\"hello world\") if True else print(\"bye world\")"
   ]
  },
  {
   "cell_type": "code",
   "execution_count": 4,
   "metadata": {},
   "outputs": [
    {
     "name": "stdout",
     "output_type": "stream",
     "text": [
      "bye world\n"
     ]
    }
   ],
   "source": [
    "print(\"hello world\") if False else print(\"bye world\")"
   ]
  },
  {
   "cell_type": "code",
   "execution_count": 5,
   "metadata": {},
   "outputs": [
    {
     "name": "stdout",
     "output_type": "stream",
     "text": [
      "Enter number : 13\n",
      "even\n"
     ]
    }
   ],
   "source": [
    "num = int(input(\"Enter number : \"))\n",
    "print(\"even\") if num%2 else print(\"odd\")"
   ]
  },
  {
   "cell_type": "code",
   "execution_count": 6,
   "metadata": {},
   "outputs": [
    {
     "name": "stdout",
     "output_type": "stream",
     "text": [
      "\n",
      "Bye\n"
     ]
    }
   ],
   "source": [
    "print(\"hello\") if print() else print(\"Bye\")\n",
    "\n",
    "# None\n",
    "# Error\n",
    "# hello\n",
    "# bye\n",
    "# pta nh \n"
   ]
  },
  {
   "cell_type": "code",
   "execution_count": 7,
   "metadata": {},
   "outputs": [
    {
     "name": "stdout",
     "output_type": "stream",
     "text": [
      "\n",
      "Bye\n"
     ]
    }
   ],
   "source": [
    "if print() : \n",
    "    print(\"Hello\")\n",
    "else : \n",
    "    print(\"Bye\")"
   ]
  },
  {
   "cell_type": "code",
   "execution_count": 9,
   "metadata": {},
   "outputs": [
    {
     "name": "stdout",
     "output_type": "stream",
     "text": [
      "hello\n",
      "smjh m aaya kya ? \n"
     ]
    }
   ],
   "source": [
    "if input() : \n",
    "    print(\"smjh m aaya kya ? \")\n",
    "else : \n",
    "    print(\"magjh m aaya kya ? \")\n",
    "# None\n",
    "# Error\n",
    "# smjh m aaya kya ?\n",
    "# magjh m aaya kya ? \n",
    "# pta nh \n"
   ]
  },
  {
   "cell_type": "code",
   "execution_count": 10,
   "metadata": {},
   "outputs": [
    {
     "name": "stdout",
     "output_type": "stream",
     "text": [
      "\n",
      "magjh m aaya kya ? \n"
     ]
    }
   ],
   "source": [
    "if input() : \n",
    "    print(\"smjh m aaya kya ? \")\n",
    "else : \n",
    "    print(\"magjh m aaya kya ? \")\n",
    "# None\n",
    "# Error\n",
    "# smjh m aaya kya ?\n",
    "# magjh m aaya kya ? \n",
    "# pta nh \n"
   ]
  },
  {
   "cell_type": "code",
   "execution_count": 11,
   "metadata": {},
   "outputs": [
    {
     "name": "stdout",
     "output_type": "stream",
     "text": [
      "Statement1 \n",
      "Statement2\n"
     ]
    }
   ],
   "source": [
    "# group of statement\n",
    "if True : \n",
    "    print(\"Statement1 \")\n",
    "    print(\"Statement2\")\n",
    "else : \n",
    "    print(\"Statement3\")\n",
    "    print(\"Statement4\")"
   ]
  },
  {
   "cell_type": "code",
   "execution_count": 13,
   "metadata": {},
   "outputs": [
    {
     "name": "stdout",
     "output_type": "stream",
     "text": [
      "i am alone king\n"
     ]
    }
   ],
   "source": [
    "if True : \n",
    "    print(\"i am alone king\")"
   ]
  },
  {
   "cell_type": "code",
   "execution_count": 15,
   "metadata": {},
   "outputs": [
    {
     "name": "stdout",
     "output_type": "stream",
     "text": [
      "Before if\n",
      "After if\n"
     ]
    }
   ],
   "source": [
    "print(\"Before if\")\n",
    "if False : \n",
    "    print(\"i am alone king\")\n",
    "print(\"After if\")"
   ]
  },
  {
   "cell_type": "code",
   "execution_count": 16,
   "metadata": {},
   "outputs": [
    {
     "name": "stdout",
     "output_type": "stream",
     "text": [
      "Before if\n",
      "No body can survive alone ? \n",
      "After if\n"
     ]
    }
   ],
   "source": [
    "print(\"Before if\")\n",
    "if False : \n",
    "    print(\"i am alone king\")\n",
    "else : \n",
    "    print(\"No body can survive alone ? \")\n",
    "print(\"After if\")"
   ]
  },
  {
   "cell_type": "code",
   "execution_count": 18,
   "metadata": {},
   "outputs": [
    {
     "name": "stdout",
     "output_type": "stream",
     "text": [
      "enter your age : 19\n",
      "You can Vote\n"
     ]
    }
   ],
   "source": [
    "## can vote or not\n",
    "## age > 18 he can vote\n",
    "## else he can vote\n",
    "age= int(input(\"enter your age : \"))\n",
    "if age > 18  : \n",
    "    print(\"You can Vote\")\n",
    "elif age == 18 : \n",
    "    print(\"Hey it's your first time...you can vote\")\n",
    "else : \n",
    "    print(\"You can not Vote\")\n"
   ]
  },
  {
   "cell_type": "code",
   "execution_count": 21,
   "metadata": {},
   "outputs": [
    {
     "name": "stdout",
     "output_type": "stream",
     "text": [
      "Enter amount you have : 900\n",
      "Go for a restro\n"
     ]
    }
   ],
   "source": [
    "# greater 1000  --> he can go to movie\n",
    "# greater 800   ---> he can got to restro\n",
    "# else --> ghr baitho ipl dekho\n",
    "amount = eval(input(\"Enter amount you have : \"))\n",
    "if amount >= 1000 : \n",
    "    print(\"Go for a movie \")\n",
    "elif amount >= 800 : \n",
    "    print(\"Go for a restro\")\n",
    "else : \n",
    "    print(\"you are kangal sit in your room\")"
   ]
  },
  {
   "cell_type": "code",
   "execution_count": 22,
   "metadata": {},
   "outputs": [],
   "source": [
    "# Give loan or not ? \n",
    "# ask for profession -->\n",
    "# if goverment then ask for salary \n",
    "    # salary is greater then 50000 give loan\n",
    "# else not eligible for loan"
   ]
  },
  {
   "cell_type": "code",
   "execution_count": 27,
   "metadata": {},
   "outputs": [
    {
     "name": "stdout",
     "output_type": "stream",
     "text": [
      "Enter your Profession : government\n",
      "Enter your salary : 1892382913982132\n",
      "Submit your Documents...We will Process Shortly\n"
     ]
    }
   ],
   "source": [
    "profession = input(\"Enter your Profession : \")\n",
    "profession = profession.strip().lower()\n",
    "if profession == \"government\" : \n",
    "    salary = eval(input(\"Enter your salary : \"))\n",
    "    if salary >= 50000 : # nested if-else\n",
    "        print(\"Submit your Documents...We will Process Shortly\")\n",
    "    else : \n",
    "        print(\"Aaukat nh hai aapki rhne dijiye.\")\n",
    "else : \n",
    "    print(\"Dafa ho jao yha se ? \")\n",
    "    "
   ]
  },
  {
   "cell_type": "code",
   "execution_count": 32,
   "metadata": {},
   "outputs": [
    {
     "name": "stdout",
     "output_type": "stream",
     "text": [
      "a : 10 \n",
      "b : 15\n",
      "c : 10\n",
      "B 15 is Greatest\n"
     ]
    }
   ],
   "source": [
    "# greatest between three number \n",
    "# and or not\n",
    "a = int(input(\"a : \"))\n",
    "b = int(input(\"b : \"))\n",
    "c = int(input(\"c : \"))\n",
    "if a >= b : \n",
    "    if a >= c  : \n",
    "        print(f\"A {a} is Greatest\")\n",
    "    else : \n",
    "        print(f\"C {c} is Greatest\")\n",
    "elif b >= c : \n",
    "    print(f\"B {b} is Greatest\")\n",
    "else  : \n",
    "    print(f\"C {c} is Greatest\")"
   ]
  },
  {
   "cell_type": "code",
   "execution_count": 33,
   "metadata": {},
   "outputs": [
    {
     "name": "stdout",
     "output_type": "stream",
     "text": [
      "a : 10\n",
      "b : 2\n",
      "c : 2\n",
      "A 10 is Greatest\n"
     ]
    }
   ],
   "source": [
    "# greatest between three number \n",
    "# and or not\n",
    "a = int(input(\"a : \"))\n",
    "b = int(input(\"b : \"))\n",
    "c = int(input(\"c : \"))\n",
    "if a >= b and a >= c: \n",
    "    print(f\"A {a} is Greatest\")\n",
    "elif b >= c : \n",
    "    print(f\"B {b} is Greatest\")\n",
    "else  : \n",
    "    print(f\"C {c} is Greatest\")"
   ]
  },
  {
   "cell_type": "code",
   "execution_count": 36,
   "metadata": {},
   "outputs": [
    {
     "data": {
      "text/plain": [
       "''"
      ]
     },
     "execution_count": 36,
     "metadata": {},
     "output_type": "execute_result"
    }
   ],
   "source": [
    "# Leap Year \n",
    "# Rock, Paper, Scissor\n",
    "\"\"\" choice --> rock,paper, scissor\n",
    "--------------------------------------\n",
    "|  Player1    | Player  |  win       |\n",
    "--------------------------------------\n",
    "|   rock      |  rock   |    Tie     |\n",
    "|   paper     |  paper  |    Tie     |\n",
    "|   scissor   |  scissor|    Tie     |\n",
    "|   rock      |  scissor|    player1 |\n",
    "|   paper     |  rock   |   player1  |\n",
    "|   scissor   |  paper  |   player1  |\n",
    "|------------------------------------|\n",
    "|  else                              |\n",
    "|  player2 wins                      |\n",
    "--------------------------------------\n",
    "\"\"\"\n",
    "\n",
    "\"\""
   ]
  },
  {
   "cell_type": "code",
   "execution_count": 40,
   "metadata": {},
   "outputs": [
    {
     "name": "stdout",
     "output_type": "stream",
     "text": [
      "Player1 : ········\n",
      "Player2 : ········\n",
      "Player1 Won The Game\n",
      "Player1's choice was  scissor\n",
      "Player2's choice was  paper\n"
     ]
    }
   ],
   "source": [
    "p1_win = [ ('rock','scissor'),\n",
    "           ('paper','rock'),\n",
    "           ('scissor','paper')\n",
    "         ]\n",
    "from getpass import getpass\n",
    "ch1 = getpass(\"Player1 : \").strip().lower()\n",
    "ch2 = getpass(\"Player2 : \").strip().lower()\n",
    "ch = (ch1,ch2)\n",
    "if ch1 == ch2 : \n",
    "    print(\"Match Tie\")\n",
    "elif ch in p1_win : \n",
    "    print(\"Player1 Won The Game\")\n",
    "else : \n",
    "    print(\"Player2 Won The Game\")\n",
    "print(\"Player1's choice was \",ch1)\n",
    "print(\"Player2's choice was \",ch2)\n"
   ]
  },
  {
   "cell_type": "code",
   "execution_count": null,
   "metadata": {},
   "outputs": [],
   "source": []
  }
 ],
 "metadata": {
  "kernelspec": {
   "display_name": "Python 3",
   "language": "python",
   "name": "python3"
  },
  "language_info": {
   "codemirror_mode": {
    "name": "ipython",
    "version": 3
   },
   "file_extension": ".py",
   "mimetype": "text/x-python",
   "name": "python",
   "nbconvert_exporter": "python",
   "pygments_lexer": "ipython3",
   "version": "3.6.5"
  }
 },
 "nbformat": 4,
 "nbformat_minor": 2
}
