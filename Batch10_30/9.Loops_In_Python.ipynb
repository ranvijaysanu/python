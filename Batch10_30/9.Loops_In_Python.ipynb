{
 "cells": [
  {
   "cell_type": "code",
   "execution_count": 1,
   "metadata": {},
   "outputs": [],
   "source": [
    "while False : \n",
    "    print(\"Hello World\")\n",
    "    print(\"Bye World\")"
   ]
  },
  {
   "cell_type": "code",
   "execution_count": 1,
   "metadata": {},
   "outputs": [
    {
     "name": "stdout",
     "output_type": "stream",
     "text": [
      "Hello World\n",
      "Hello World\n"
     ]
    }
   ],
   "source": [
    "flag = 1\n",
    "while flag <= 2  : \n",
    "    print(\"Hello World\")\n",
    "    flag += 1\n",
    "    "
   ]
  },
  {
   "cell_type": "code",
   "execution_count": 10,
   "metadata": {},
   "outputs": [
    {
     "name": "stdout",
     "output_type": "stream",
     "text": [
      "    1     1     1\n",
      "    2     4     8\n",
      "    3     9    27\n",
      "    4    16    64\n",
      "    5    25   125\n",
      "    6    36   216\n",
      "    7    49   343\n",
      "    8    64   512\n",
      "    9    81   729\n",
      "   10   100  1000\n"
     ]
    }
   ],
   "source": [
    "counter = 1 # counter = 3\n",
    "while counter <= 10 :  # 3 <= 10  --> True\n",
    "    print(f\"{counter:>5} {counter**2:>5} {counter**3:>5}\") # 3\n",
    "    counter += 1 # counter = 4"
   ]
  },
  {
   "cell_type": "code",
   "execution_count": 16,
   "metadata": {},
   "outputs": [
    {
     "name": "stdout",
     "output_type": "stream",
     "text": [
      "enter a number : 5\n",
      "5*1     =     5\n",
      "5*2     =    10\n",
      "5*3     =    15\n",
      "5*4     =    20\n",
      "5*5     =    25\n",
      "5*6     =    30\n",
      "5*7     =    35\n",
      "5*8     =    40\n",
      "5*9     =    45\n",
      "5*10    =    50\n",
      "Printed Successfully\n"
     ]
    }
   ],
   "source": [
    "# write a program to print table of a number \n",
    "num = int(input(\"enter a number : \"))\n",
    "\n",
    "counter = 1\n",
    "while counter <= 10 : \n",
    "    print(f\"{num}*{counter:<5} = {num*counter:>5}\")\n",
    "    counter += 1\n",
    "else : \n",
    "    print(\"Printed Successfully\")"
   ]
  },
  {
   "cell_type": "code",
   "execution_count": 24,
   "metadata": {},
   "outputs": [
    {
     "name": "stdout",
     "output_type": "stream",
     "text": [
      "Enter a number : 5\n",
      "0     +     5 \t=     5\n",
      "5     +     5 \t=    10\n",
      "10    +     5 \t=    15\n",
      "15    +     5 \t=    20\n",
      "20    +     5 \t=    25\n",
      "25    +     5 \t=    30\n",
      "30    +     5 \t=    35\n",
      "35    +     5 \t=    40\n",
      "40    +     5 \t=    45\n",
      "45    +     5 \t=    50\n"
     ]
    }
   ],
   "source": [
    "c = 1 \n",
    "num = int(input(\"Enter a number : \"))\n",
    "s = 0 \n",
    "while c <= 10 : \n",
    "    print(f\"{s:<5} + {num:>5} \\t= {s+num:>5}\")\n",
    "    s = s + num\n",
    "    c = c + 1"
   ]
  },
  {
   "cell_type": "code",
   "execution_count": 25,
   "metadata": {},
   "outputs": [],
   "source": [
    "# print from 1-100 all odd number in reverse order "
   ]
  },
  {
   "cell_type": "code",
   "execution_count": 2,
   "metadata": {},
   "outputs": [
    {
     "name": "stdout",
     "output_type": "stream",
     "text": [
      "100, 99, 98, 97, 96, 95, 94, 93, 92, 91, 90, 89, 88, 87, 86, 85, 84, 83, 82, 81, 80, 79, 78, 77, 76, 75, 74, 73, 72, 71, 70, 69, 68, 67, 66, 65, 64, 63, 62, 61, 60, 59, 58, 57, 56, 55, 54, 53, 52, 51, 50, 49, 48, 47, 46, 45, 44, 43, 42, 41, 40, 39, 38, 37, 36, 35, 34, 33, 32, 31, 30, 29, 28, 27, 26, 25, 24, 23, 22, 21, 20, 19, 18, 17, 16, 15, 14, 13, 12, 11, 10, 9, 8, 7, 6, 5, 4, 3, 2, 1, \n",
      "Loop Ends Here\n"
     ]
    }
   ],
   "source": [
    "c = 100 \n",
    "while c >= 1 : \n",
    "    print(c,end=', ')\n",
    "    c  = c - 1\n",
    "else : \n",
    "    print(\"\\nLoop Ends Here\")"
   ]
  },
  {
   "cell_type": "code",
   "execution_count": 3,
   "metadata": {},
   "outputs": [
    {
     "name": "stdout",
     "output_type": "stream",
     "text": [
      "99, 97, 95, 93, 91, 89, 87, 85, 83, 81, 79, 77, 75, 73, 71, 69, 67, 65, 63, 61, 59, 57, 55, 53, 51, 49, 47, 45, 43, 41, 39, 37, 35, 33, 31, 29, 27, 25, 23, 21, 19, 17, 15, 13, 11, 9, 7, 5, 3, 1, "
     ]
    }
   ],
   "source": [
    "counter = 100\n",
    "while counter >= 1  : \n",
    "    if not ( counter % 2 == 0 ) :\n",
    "        print(counter,end=', ')\n",
    "    counter -= 1 \n",
    "    "
   ]
  },
  {
   "cell_type": "code",
   "execution_count": 4,
   "metadata": {},
   "outputs": [
    {
     "name": "stdout",
     "output_type": "stream",
     "text": [
      "99, 97, 95, 93, 91, 89, 87, 85, 83, 81, 79, 77, 75, 73, 71, 69, 67, 65, 63, 61, 59, 57, 55, 53, 51, 49, 47, 45, 43, 41, 39, 37, 35, 33, 31, 29, 27, 25, 23, 21, 19, 17, 15, 13, 11, 9, 7, 5, 3, 1, "
     ]
    }
   ],
   "source": [
    "c = 99\n",
    "while c >= 1 : \n",
    "    print(c,end=', ')\n",
    "    c = c - 2"
   ]
  },
  {
   "cell_type": "code",
   "execution_count": 6,
   "metadata": {},
   "outputs": [
    {
     "name": "stdout",
     "output_type": "stream",
     "text": [
      "5, 7, 10, 14, 15, 20, 21, 25, 28, 30, 35, 40, 42, 45, 49, 50, 55, 56, 60, 63, 65, 70, 75, 77, 80, 84, 85, 90, 91, 95, 98, 100, "
     ]
    }
   ],
   "source": [
    "# print all numbers between 1 - 100 which are either\n",
    "# divided by 5 or 7 \n",
    "c = 1\n",
    "while c <= 100 : \n",
    "    if c % 5 == 0 or c % 7 == 0 : \n",
    "        print(c,end=', ')\n",
    "    c = c + 1"
   ]
  },
  {
   "cell_type": "code",
   "execution_count": 7,
   "metadata": {},
   "outputs": [
    {
     "name": "stdout",
     "output_type": "stream",
     "text": [
      "35, 70, "
     ]
    }
   ],
   "source": [
    "# print all number between 1-100 which are divided\n",
    "# by 5 and 7 \n",
    "c = 1\n",
    "while c <= 100 : \n",
    "    if c % 5 == 0 and c % 7 == 0 : \n",
    "        print(c,end=', ')\n",
    "    c = c + 1"
   ]
  },
  {
   "cell_type": "code",
   "execution_count": 9,
   "metadata": {},
   "outputs": [
    {
     "name": "stdout",
     "output_type": "stream",
     "text": [
      "60, 39, 25, 5, 12, 92, 62, 68, 58, 80, "
     ]
    }
   ],
   "source": [
    "# print 10 random number \n",
    "from random import randint\n",
    "c  = 1\n",
    "while c <= 10 : \n",
    "    print(randint(1,100),end=\", \")\n",
    "    c += 1"
   ]
  },
  {
   "cell_type": "code",
   "execution_count": 10,
   "metadata": {},
   "outputs": [
    {
     "data": {
      "text/plain": [
       "9"
      ]
     },
     "execution_count": 10,
     "metadata": {},
     "output_type": "execute_result"
    }
   ],
   "source": [
    "randint(5,10)"
   ]
  },
  {
   "cell_type": "code",
   "execution_count": 15,
   "metadata": {},
   "outputs": [
    {
     "name": "stdout",
     "output_type": "stream",
     "text": [
      "1, "
     ]
    }
   ],
   "source": [
    "c = 1 \n",
    "while c <= 5 : \n",
    "    print(c,end=', ')\n",
    "    c += 1\n",
    "    break\n",
    "else : \n",
    "    print(\"Loop Finished it's work\")"
   ]
  },
  {
   "cell_type": "code",
   "execution_count": 19,
   "metadata": {},
   "outputs": [
    {
     "name": "stdout",
     "output_type": "stream",
     "text": [
      "1, 2, 3, 4, "
     ]
    }
   ],
   "source": [
    "# write a code which loop from 1 to 10 but finish\n",
    "# is at 5 using break \n",
    "c = 1 \n",
    "while c <= 10 :\n",
    "    if c == 5 : \n",
    "        break \n",
    "    print(c,end=', ')\n",
    "    c = c + 1 # 1, 2, 3, 4, \n",
    "else : \n",
    "    print(\"Loop Sucessfully Finished\")"
   ]
  },
  {
   "cell_type": "code",
   "execution_count": 20,
   "metadata": {},
   "outputs": [
    {
     "name": "stdout",
     "output_type": "stream",
     "text": [
      "Enter a number : 14\n",
      "Hello World\n",
      "Enter a number : 13\n",
      "Hello World\n",
      "Enter a number : 5\n",
      "Hello World\n",
      "Enter a number : 3\n",
      "Hello World\n",
      "Enter a number : 4\n",
      "Hello World\n",
      "Enter a number : 5\n",
      "Hello World\n",
      "Enter a number : 51\n"
     ]
    }
   ],
   "source": [
    "# ask user for input if input in between 1-50\n",
    "# repeat the loop again if input greater than 50\n",
    "# stop right there\n",
    "while True : \n",
    "    num = int(input(\"Enter a number : \"))\n",
    "    #if num >= 1 and num <= 50 : \n",
    "    if num in [ var for var in range(1,51)] :\n",
    "        print(\"Hello World\")\n",
    "    else : \n",
    "        break "
   ]
  },
  {
   "cell_type": "code",
   "execution_count": 21,
   "metadata": {},
   "outputs": [
    {
     "name": "stdout",
     "output_type": "stream",
     "text": [
      "Press any key : d\n",
      "Hello World\n",
      "Press any key : d\n",
      "Hello World\n",
      "Press any key : d\n",
      "Hello World\n",
      "Press any key : g\n",
      "Hello World\n",
      "Press any key : \n",
      "Bye World\n"
     ]
    }
   ],
   "source": [
    "# ask user to continue if he press a key print hello\n",
    "# else break the loop by printing bye world \n",
    "while input(\"Press any key : \") : \n",
    "    print(\"Hello World\")\n",
    "else :\n",
    "    print(\"Bye World\")"
   ]
  },
  {
   "cell_type": "code",
   "execution_count": 24,
   "metadata": {},
   "outputs": [
    {
     "name": "stdout",
     "output_type": "stream",
     "text": [
      "\n",
      "hello world loop is fine easy go\n"
     ]
    }
   ],
   "source": [
    "# Continue \n",
    "\n",
    "c = 1 \n",
    "while c <= 10 : \n",
    "    c = c + 1\n",
    "    continue \n",
    "    print(c,end=', ')\n",
    "else : \n",
    "    print(\"\\nhello world loop is fine easy go\")"
   ]
  },
  {
   "cell_type": "code",
   "execution_count": null,
   "metadata": {},
   "outputs": [],
   "source": [
    "# print all even numbers between 1 - 10 using continue\n",
    "c = 1\n",
    "while c <= 10 : \n",
    "    print(c)\n",
    "    c = c + 1 # do not change increment statement "
   ]
  },
  {
   "cell_type": "code",
   "execution_count": 25,
   "metadata": {},
   "outputs": [
    {
     "name": "stdout",
     "output_type": "stream",
     "text": [
      "2\n",
      "4\n",
      "6\n",
      "8\n",
      "10\n"
     ]
    }
   ],
   "source": [
    "# print all even numbers between 1 - 10 using continue\n",
    "c = 1\n",
    "while c <= 10 :\n",
    "    if c % 2 == 0 : \n",
    "        print(c)\n",
    "        c = c + 1\n",
    "    else : \n",
    "        c = c + 1 # do not change increment statement \n",
    "        continue "
   ]
  },
  {
   "cell_type": "code",
   "execution_count": 33,
   "metadata": {},
   "outputs": [
    {
     "name": "stdout",
     "output_type": "stream",
     "text": [
      "Enter your Guess : 25\n",
      "Hint: Be Big Think Big\n",
      "Enter your Guess : 33\n",
      "Hint: Be in Limits Think Lower\n",
      "Enter your Guess : 29\n",
      "Hint: Be in Limits Think Lower\n",
      "Enter your Guess : 27\n",
      "Hint: Be in Limits Think Lower\n",
      "Enter your Guess : 28\n",
      "Hint: Be in Limits Think Lower\n",
      "Computer Guess Was :  26\n",
      "Hey!! Listen !! You such a Looser\n"
     ]
    }
   ],
   "source": [
    "# Write a Guess Game\n",
    "# every player has 5 chance to predict num\n",
    "# the range of guessing number is 1-50\n",
    "# if guess is right print Congratulation you won\n",
    "# if all 5 guesses are wrong print you such a looser\n",
    "# if he or she voids the rule than no chances should\n",
    "# reduce\n",
    "from random import randint\n",
    "comGuess = randint(1,50)\n",
    "life = 1 \n",
    "\n",
    "while life <= 5 : \n",
    "    userGuess = int(input(\"Enter your Guess : \"))\n",
    "    if userGuess > 50 or userGuess < 1 :\n",
    "        print(\"Warning!!!!Guess Should be in limits 1-50\")\n",
    "        continue\n",
    "    if userGuess > comGuess : \n",
    "        print(\"Hint: Be in Limits Think Lower\")\n",
    "    elif userGuess < comGuess : \n",
    "        print(\"Hint: Be Big Think Big\")\n",
    "    else : \n",
    "        print(\"Whola!! You Have Won the Game\")\n",
    "        break\n",
    "    life += 1\n",
    "else : \n",
    "    print(\"Computer Guess Was : \",comGuess)\n",
    "    print(\"Hey!! Listen !! You such a Looser\")"
   ]
  },
  {
   "cell_type": "code",
   "execution_count": 34,
   "metadata": {},
   "outputs": [],
   "source": [
    "from random import choice "
   ]
  },
  {
   "cell_type": "code",
   "execution_count": 35,
   "metadata": {},
   "outputs": [],
   "source": [
    "x = [ 'rock','paper','scissor']"
   ]
  },
  {
   "cell_type": "code",
   "execution_count": 38,
   "metadata": {},
   "outputs": [
    {
     "data": {
      "text/plain": [
       "'paper'"
      ]
     },
     "execution_count": 38,
     "metadata": {},
     "output_type": "execute_result"
    }
   ],
   "source": [
    "choice(x)"
   ]
  },
  {
   "cell_type": "code",
   "execution_count": 39,
   "metadata": {},
   "outputs": [],
   "source": [
    "# Tic Tac Toe --> Cross Word"
   ]
  },
  {
   "cell_type": "code",
   "execution_count": 46,
   "metadata": {},
   "outputs": [
    {
     "name": "stdout",
     "output_type": "stream",
     "text": [
      "Enter number : 7\n",
      "--------------------------------------------------------------------------------\n",
      "7 |   2 | 3 | 1\n",
      "____________________\n",
      "7 |   3 | 2 | 1\n",
      "____________________\n",
      "7 |   4 | 1 | 3\n",
      "____________________\n",
      "7 |   5 | 1 | 2\n",
      "____________________\n",
      "7 |   6 | 1 | 1\n",
      "____________________\n",
      "Got it\n"
     ]
    }
   ],
   "source": [
    "num = int(input(\"Enter number : \")) \n",
    "start = 2\n",
    "end = num - 1 \n",
    "print(\"-\"*80)\n",
    "while start <= end :\n",
    "    print(f\"{num} | {start:>3} | {num//start} | {num%start}\")\n",
    "    print(\"_\"*20)\n",
    "    start += 1\n",
    "print(\"Got it\")\n",
    "    "
   ]
  },
  {
   "cell_type": "code",
   "execution_count": 57,
   "metadata": {},
   "outputs": [
    {
     "name": "stdout",
     "output_type": "stream",
     "text": [
      "Enter a number : 127\n",
      "Given num 127 is Prime\n"
     ]
    }
   ],
   "source": [
    "# Prime \n",
    "from math import sqrt,ceil\n",
    "num = int(input(\"Enter a number : \"))\n",
    "start = 2\n",
    "end = ceil(sqrt(num))\n",
    "while start <= end :  \n",
    "    if num % start == 0 : \n",
    "        print(f\"Given num {num} is not Prime\")\n",
    "        break\n",
    "    start += 1\n",
    "else : \n",
    "    print(f\"Given num {num} is Prime\")\n",
    "        "
   ]
  },
  {
   "cell_type": "code",
   "execution_count": 52,
   "metadata": {},
   "outputs": [
    {
     "data": {
      "text/plain": [
       "12"
      ]
     },
     "execution_count": 52,
     "metadata": {},
     "output_type": "execute_result"
    }
   ],
   "source": [
    "ceil(sqrt(127))"
   ]
  },
  {
   "cell_type": "code",
   "execution_count": 62,
   "metadata": {},
   "outputs": [
    {
     "name": "stdout",
     "output_type": "stream",
     "text": [
      "Enter start Point : 1000\n",
      "Enter ending Point1100\n",
      "1009, 1013, 1019, 1021, 1031, 1033, 1039, 1049, 1051, 1061, 1063, 1069, 1087, 1091, 1093, 1097, \n",
      "Total Prime in Range(1000,1100) = 16\n"
     ]
    }
   ],
   "source": [
    "# Prime \n",
    "from math import sqrt,ceil\n",
    "counting = 0\n",
    "counter_start = int(input(\"Enter start Point : \"))\n",
    "counter_end = int(input(\"Enter ending Point\"))\n",
    "counter = counter_start\n",
    "while counter <= counter_end : \n",
    "    num = counter\n",
    "    start = 2\n",
    "    end = ceil(sqrt(num))\n",
    "    while start <= end :  \n",
    "        if num % start == 0 : \n",
    "            break\n",
    "        start += 1\n",
    "    else : \n",
    "        counting += 1\n",
    "        print(num,end=', ')\n",
    "    counter += 1\n",
    "print(f\"\\nTotal Prime in Range({counter_start},{counter_end}) = {counting}\")"
   ]
  },
  {
   "cell_type": "code",
   "execution_count": 66,
   "metadata": {},
   "outputs": [
    {
     "name": "stdout",
     "output_type": "stream",
     "text": [
      "row --> 0\t0, 1, 2, 3, 4, \n",
      "row --> 1\t0, 1, 2, 3, 4, \n",
      "row --> 2\t0, 1, 2, 3, 4, \n",
      "row --> 3\t0, 1, 2, 3, 4, \n"
     ]
    }
   ],
   "source": [
    "row = 0\n",
    "while row <= 3 :\n",
    "    print(f\"row --> {row}\",end='\\t')\n",
    "    col = 0 \n",
    "    while col <= 4 :\n",
    "        print(col,end=', ')\n",
    "        col += 1\n",
    "    print()\n",
    "    row += 1"
   ]
  },
  {
   "cell_type": "code",
   "execution_count": 72,
   "metadata": {},
   "outputs": [
    {
     "name": "stdout",
     "output_type": "stream",
     "text": [
      "*\n",
      "**\n",
      "***\n",
      "****\n",
      "*****\n",
      "******\n",
      "*******\n",
      "********\n",
      "*********\n",
      "**********\n"
     ]
    }
   ],
   "source": [
    "row = 0\n",
    "while row < 10 : \n",
    "    col = 0 \n",
    "    while col < 10 : \n",
    "        if col <= row : \n",
    "            print(\"*\",end='')\n",
    "        else : \n",
    "            break\n",
    "        col += 1\n",
    "    print()\n",
    "    row += 1"
   ]
  },
  {
   "cell_type": "code",
   "execution_count": 73,
   "metadata": {},
   "outputs": [
    {
     "name": "stdout",
     "output_type": "stream",
     "text": [
      " *********\n",
      "  ********\n",
      "   *******\n",
      "    ******\n",
      "     *****\n",
      "      ****\n",
      "       ***\n",
      "        **\n",
      "         *\n",
      "          \n"
     ]
    }
   ],
   "source": [
    "row = 0\n",
    "while row < 10 : \n",
    "    col = 0 \n",
    "    while col < 10 : \n",
    "        if col <= row : \n",
    "            print(\" \",end='')\n",
    "        else : \n",
    "            print(\"*\",end='')\n",
    "        col += 1\n",
    "    print()\n",
    "    row += 1"
   ]
  },
  {
   "cell_type": "code",
   "execution_count": 74,
   "metadata": {},
   "outputs": [
    {
     "name": "stdout",
     "output_type": "stream",
     "text": [
      "          \n",
      "         *\n",
      "        **\n",
      "       ***\n",
      "      ****\n",
      "     *****\n",
      "    ******\n",
      "   *******\n",
      "  ********\n",
      " *********\n"
     ]
    }
   ],
   "source": [
    "row = 0\n",
    "while row < 10 : \n",
    "    col = 0 \n",
    "    while col < 10 : \n",
    "        if col <= (9-row) : \n",
    "            print(\" \",end='')\n",
    "        else : \n",
    "            print(\"*\",end='')\n",
    "        col += 1\n",
    "    print()\n",
    "    row += 1"
   ]
  },
  {
   "cell_type": "code",
   "execution_count": 75,
   "metadata": {},
   "outputs": [
    {
     "name": "stdout",
     "output_type": "stream",
     "text": [
      "**********\n",
      "*********\n",
      "********\n",
      "*******\n",
      "******\n",
      "*****\n",
      "****\n",
      "***\n",
      "**\n",
      "*\n"
     ]
    }
   ],
   "source": [
    "row = 0\n",
    "while row < 10 : \n",
    "    col = 0 \n",
    "    while col < 10 : \n",
    "        if col <= (9-row) : \n",
    "            print(\"*\",end='')\n",
    "        else :\n",
    "            break\n",
    "            #print(\"*\",end='')\n",
    "        col += 1\n",
    "    print()\n",
    "    row += 1"
   ]
  },
  {
   "cell_type": "code",
   "execution_count": null,
   "metadata": {},
   "outputs": [],
   "source": []
  }
 ],
 "metadata": {
  "kernelspec": {
   "display_name": "Python 3",
   "language": "python",
   "name": "python3"
  },
  "language_info": {
   "codemirror_mode": {
    "name": "ipython",
    "version": 3
   },
   "file_extension": ".py",
   "mimetype": "text/x-python",
   "name": "python",
   "nbconvert_exporter": "python",
   "pygments_lexer": "ipython3",
   "version": "3.6.5"
  }
 },
 "nbformat": 4,
 "nbformat_minor": 2
}
