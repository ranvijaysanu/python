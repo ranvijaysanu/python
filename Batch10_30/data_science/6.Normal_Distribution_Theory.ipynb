{
 "cells": [
  {
   "cell_type": "markdown",
   "metadata": {},
   "source": [
    "## Maximum Probability "
   ]
  },
  {
   "cell_type": "markdown",
   "metadata": {},
   "source": [
    "### Binomial Distribution Formula \n",
    "\n",
    "$$ \\frac {N!}{(N-k)!\\ k!} \\ \\ \\  {p^k}{(1-p)^{N-k}} $$\n",
    "\n",
    "where \n",
    "\n",
    "    N  = # coin flips\n",
    "    k  = # heads\n",
    "    p  = # probability of heads \n",
    "    "
   ]
  },
  {
   "cell_type": "markdown",
   "metadata": {},
   "source": [
    "Quiz : \n",
    "    \n",
    "    if N = 20\n",
    "       p = 0.5\n",
    "       \n",
    "#### Q. which value of k maximizes our expression of Binomial Distribution ? \n",
    "\n",
    "<p> <input type='number' data='10'> </p>"
   ]
  },
  {
   "cell_type": "markdown",
   "metadata": {},
   "source": [
    "## Normal Distribution \n",
    "\n",
    "\n",
    "$$ N(x_i,\\mu,\\sigma^2) =  { { \\frac { 1} {\\sqrt {2\\pi\\sigma^2}}  } exp^{\\frac{-1}{2} \\frac {{(x-\\mu)}^2} {\\sigma^2} } }  $$"
   ]
  },
  {
   "cell_type": "markdown",
   "metadata": {},
   "source": [
    "\n",
    "For 1 coin flip: What is the formula for figuring out the probability of the flip being heads? \n",
    "\n",
    "For many coin flips: What is the formula for figuring out the probability of a given number of flips being heads? \n",
    "\n",
    "For infinitely many flips: What is the formula for figuring out the probability of a given proportion of flips being heads?\n",
    "\n",
    "For formula 2:\n",
    "\n",
    "$$ sigma^2=\\frac{p(1-p)}{N} $$"
   ]
  },
  {
   "cell_type": "raw",
   "metadata": {},
   "source": []
  },
  {
   "cell_type": "raw",
   "metadata": {},
   "source": []
  },
  {
   "cell_type": "markdown",
   "metadata": {},
   "source": [
    "#### Descriptive Statistics\n",
    "\n",
    "Descriptive statistics is about describing our collected data.\n",
    "\n",
    "#### Inferential Statistics\n",
    "\n",
    "Inferential Statistics is about using our collected data to draw conclusions to a larger population.\n",
    "\n",
    "We looked at specific examples that allowed us to identify the\n",
    "\n",
    "    Population - our entire group of interest.\n",
    "    Parameter - numeric summary about a population\n",
    "    Sample - subset of the population\n",
    "    Statistic numeric summary about a sample"
   ]
  },
  {
   "cell_type": "markdown",
   "metadata": {},
   "source": [
    "### QUIZ QUESTION\n",
    "\n",
    "Identify the population, parameter, sample, and statistic for the below scenario:\n",
    "\n",
    "Consider we are interested in the average number of hours slept by all Grras students (100,000 students). I send an email to all Grras students, but I only receive 5,000 response emails. The average amount of sleep of those that responded was 6.8 hours of sleep.\n",
    "\n",
    "\n",
    "### Description \n",
    "    All Grras Students, 6.8 hours of sleep, 5000 grras students, we can not know for sure \n",
    "    \n",
    "### Term \n",
    "\n",
    "<p> Population &nbsp;&nbsp;&nbsp;&nbsp;&nbsp;<input type='text' data='all grras students'></p>\n",
    "<p> Parameter &nbsp;&nbsp;&nbsp;&nbsp;&nbsp;<input type='text' data='we can not know for sure'> </p>\n",
    "<p> Sample &nbsp;&nbsp;&nbsp;&nbsp;&nbsp;&nbsp;&nbsp;&nbsp;&nbsp;&nbsp;<input type='text' data='5000 grras students'></p>\n",
    "<p> Statistic &nbsp;&nbsp;&nbsp;&nbsp;&nbsp;&nbsp;&nbsp;&nbsp; <input type='text' data='6.8 hours of sleep' > </p>\n",
    "\n",
    "\n"
   ]
  },
  {
   "cell_type": "raw",
   "metadata": {},
   "source": []
  },
  {
   "cell_type": "markdown",
   "metadata": {},
   "source": [
    "#### QUESTION 1 OF 2\n",
    "\n",
    "**Identify the population(s), parameter(s), sample(s), and statistic(s) for the below scenario:\n",
    "\n",
    "    Consider we own a bagel shop. We know that the average diameter of all of our bagels is 5.5 inches. A competitor moves right next door to us! We are interested in if they make larger bagels than us. We obtain 100 of their bagels, and we find they have an average diameter of 6 inches.\n",
    "    \n",
    "\n",
    "#### Term \n",
    "    None, Parameter, Sample, Statistic, Population, \n",
    "    \n",
    "#### Description \n",
    "\n",
    "<p> 5.5 inches \n",
    " &nbsp;&nbsp;&nbsp;&nbsp;&nbsp;&nbsp;&nbsp;&nbsp;&nbsp;&nbsp;&nbsp;&nbsp;&nbsp;&nbsp;&nbsp;&nbsp;&nbsp;&nbsp;\n",
    "    &nbsp;&nbsp;&nbsp;&nbsp;&nbsp;&nbsp;&nbsp;&nbsp;&nbsp;&nbsp;&nbsp;&nbsp;\n",
    "    &nbsp;&nbsp;&nbsp;&nbsp;&nbsp;&nbsp;&nbsp;&nbsp;&nbsp;&nbsp;\n",
    "    &nbsp;&nbsp;&nbsp;&nbsp;&nbsp;&nbsp;&nbsp;&nbsp;&nbsp;&nbsp;\n",
    "    &nbsp;&nbsp;&nbsp;&nbsp;&nbsp;\n",
    "    &nbsp;&nbsp;&nbsp;&nbsp;&nbsp;&nbsp;&nbsp;&nbsp;&nbsp;&nbsp;\n",
    "    <input type='text' data='parameter'></p>\n",
    "<p> 6 inches &nbsp;&nbsp;&nbsp;&nbsp;&nbsp;&nbsp;&nbsp;&nbsp;&nbsp;&nbsp;&nbsp;&nbsp;&nbsp;&nbsp;\n",
    "    &nbsp;&nbsp;&nbsp;&nbsp;&nbsp;&nbsp;&nbsp;&nbsp;&nbsp;&nbsp;\n",
    "    &nbsp;&nbsp;&nbsp;&nbsp;&nbsp;&nbsp;&nbsp;&nbsp;&nbsp;&nbsp;&nbsp;&nbsp;\n",
    "    &nbsp;&nbsp;&nbsp;&nbsp;&nbsp;&nbsp;&nbsp;&nbsp;&nbsp;&nbsp;\n",
    "    &nbsp;&nbsp;&nbsp;&nbsp;&nbsp;&nbsp;&nbsp;&nbsp;&nbsp;&nbsp;\n",
    "    &nbsp;&nbsp;&nbsp;&nbsp;&nbsp;&nbsp;&nbsp;&nbsp;\n",
    "    &nbsp;&nbsp;&nbsp;&nbsp;&nbsp;<input type='text' data='statistic'> </p>\n",
    "<p> All the bagels at our bagel shop. \n",
    "   &nbsp;&nbsp;&nbsp;&nbsp;&nbsp;&nbsp;\n",
    "   &nbsp;&nbsp;&nbsp;&nbsp;&nbsp;&nbsp;&nbsp;&nbsp;&nbsp;&nbsp;&nbsp;&nbsp;&nbsp;&nbsp;&nbsp;&nbsp;&nbsp;&nbsp;&nbsp;&nbsp;&nbsp;&nbsp;&nbsp;&nbsp;&nbsp;&nbsp;&nbsp;&nbsp;&nbsp;&nbsp;<input type='text' data='Population'></p>\n",
    "<p> All the bagels at our competitor's bagel shop. &nbsp;&nbsp;&nbsp;&nbsp;&nbsp;&nbsp;&nbsp;&nbsp;&nbsp;&nbsp;&nbsp;&nbsp;&nbsp;&nbsp;&nbsp;&nbsp; <input type='text' data='Population' > </p>\n",
    "\n",
    "<p>  The 100 bagels from the competitor's bagel \n",
    "    shop.&nbsp;&nbsp;&nbsp;&nbsp;&nbsp;&nbsp;&nbsp;&nbsp;&nbsp;&nbsp; <input type='text' data='Sample' > </p>\n"
   ]
  },
  {
   "cell_type": "markdown",
   "metadata": {},
   "source": [
    "#### QUESTION 2 OF 2\n",
    "\n",
    "For the below, match the term to the correct description.\n",
    "\n",
    "\n",
    "  \n",
    "### Term \n",
    "\n",
    "   None, Parameter, Sample, Statistic, Population,Inference\n",
    "  \n",
    "### Description\n",
    "\n",
    "<p> A numeric summary of a sample. &nbsp;&nbsp;&nbsp;&nbsp;&nbsp;\n",
    "    <br><input type='text' data='statistic'></p>\n",
    "<p> A numeric summary of a population. &nbsp;&nbsp;&nbsp;&nbsp;&nbsp;\n",
    "    <br><input type='text' data='parameter'> </p>\n",
    "<p> Drawing conclusions regarding a population using information from a sample.&nbsp;&nbsp;&nbsp;&nbsp;&nbsp;&nbsp;&nbsp;&nbsp;&nbsp;&nbsp;<br><input type='text' data='Inference'></p>\n",
    "<p>Drawing conclusions regarding a sample using information from a population. &nbsp;&nbsp;&nbsp;&nbsp;&nbsp;&nbsp;&nbsp;&nbsp;<br> <input type='text' data='None' > </p>\n",
    "<p>  subset of a population.&nbsp;&nbsp;&nbsp;&nbsp;&nbsp;&nbsp;&nbsp;&nbsp; <br><input type='text' data='sample' > </p>\n",
    "<p> Our entire group of interest.&nbsp;&nbsp;&nbsp;&nbsp;&nbsp;&nbsp;&nbsp;&nbsp; <br><input type='text' data='population' > </p>\n",
    "<p> requently we do not know this value, so we must try and estimate.&nbsp;&nbsp;&nbsp;&nbsp;&nbsp;&nbsp;&nbsp;&nbsp; <br><input type='text' data='paramater' > </p>\n",
    "\n",
    "\n"
   ]
  },
  {
   "cell_type": "raw",
   "metadata": {},
   "source": []
  },
  {
   "cell_type": "markdown",
   "metadata": {},
   "source": [
    "### Descriptive vs. Inferential Statistics\n",
    "\n",
    "\n",
    "#### Descriptive Statistics\n",
    "\n",
    "Descriptive statistics is about describing our collected data using the measures discussed throughout this lesson: measures of center, measures of spread, shape of our distribution, and outliers. We can also use plots of our data to gain a better understanding.\n",
    "\n",
    "#### Inferential Statistics\n",
    "\n",
    "Inferential Statistics is about using our collected data to draw conclusions to a larger population. Performing inferential statistics well requires that we take a sample that accurately represents our population of interest.\n",
    "\n",
    "A common way to collect data is via a survey. However, surveys may be extremely biased depending on the types of questions that are asked, and the way the questions are asked. This is a topic you should think about when tackling the the first project.\n",
    "\n",
    "We looked at specific examples that allowed us to identify the\n",
    "\n",
    "    Population - our entire group of interest.\n",
    "    Parameter - numeric summary about a population\n",
    "    Sample - subset of the population\n",
    "    Statistic numeric summary about a sample\n"
   ]
  },
  {
   "cell_type": "raw",
   "metadata": {},
   "source": []
  },
  {
   "cell_type": "raw",
   "metadata": {},
   "source": []
  },
  {
   "cell_type": "markdown",
   "metadata": {},
   "source": [
    "# Introduction to Sampling Distributions"
   ]
  },
  {
   "cell_type": "markdown",
   "metadata": {},
   "source": [
    "$$  x^2 + y^2 $$\n",
    "$$ \\bar x = \\sum\\limits_1^n $$"
   ]
  },
  {
   "cell_type": "code",
   "execution_count": null,
   "metadata": {},
   "outputs": [],
   "source": []
  }
 ],
 "metadata": {
  "kernelspec": {
   "display_name": "Python 3",
   "language": "python",
   "name": "python3"
  },
  "language_info": {
   "codemirror_mode": {
    "name": "ipython",
    "version": 3
   },
   "file_extension": ".py",
   "mimetype": "text/x-python",
   "name": "python",
   "nbconvert_exporter": "python",
   "pygments_lexer": "ipython3",
   "version": "3.7.1"
  }
 },
 "nbformat": 4,
 "nbformat_minor": 2
}
