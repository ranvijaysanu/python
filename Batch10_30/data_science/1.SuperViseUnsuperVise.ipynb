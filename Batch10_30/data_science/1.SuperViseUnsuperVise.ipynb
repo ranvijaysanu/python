{
 "cells": [
  {
   "cell_type": "markdown",
   "metadata": {},
   "source": [
    "#### Q1. Which are type of supervise and which are unsupervise \n",
    "\n",
    "<ol>\n",
    "    <li>from an album of tagged photos, recognize someone in a picture </li>\n",
    "    <li>analyze bank data for weird-looking transactions, and flag those for fraud </li>\n",
    "    <li> given someone's music choices and a bunch of features of that music (tempo, genre, etc.) recommend a new song </li>\n",
    "    <li> cluster grras students into types based on learning styles </li>\n",
    "    </ol>"
   ]
  },
  {
   "cell_type": "raw",
   "metadata": {},
   "source": []
  },
  {
   "cell_type": "markdown",
   "metadata": {},
   "source": [
    "#### Features and Labels \n",
    "\n",
    "we input features and try to predict labels, for example of music recommandation \n",
    "\n",
    "Features --> Intensity, Tempo, Genre, Gender \n",
    "\n",
    "Labels --> Like, Don't Like"
   ]
  },
  {
   "cell_type": "raw",
   "metadata": {},
   "source": []
  },
  {
   "cell_type": "markdown",
   "metadata": {},
   "source": [
    "eg. scatter plots \n",
    "\n",
    "music test -->\n",
    "\n",
    "    x-axis tempo ( relax, fast)\n",
    "    y-axis intensity ( light, soaring)\n",
    "    \n",
    "car driving --> \n",
    "\n",
    "    x-axis --> slope ( flat, very steep)\n",
    "    y-axis --> Bumpiness ( smooth, bad)"
   ]
  },
  {
   "cell_type": "code",
   "execution_count": null,
   "metadata": {},
   "outputs": [],
   "source": []
  },
  {
   "cell_type": "markdown",
   "metadata": {},
   "source": [
    "#### Decesion Surfaces \n",
    "\n",
    "<ol>\n",
    "    <li> Decesion Surface </li>\n",
    "    <li> Linear Decision Surface </li>\n",
    "    </ol>"
   ]
  },
  {
   "cell_type": "raw",
   "metadata": {},
   "source": []
  },
  {
   "cell_type": "markdown",
   "metadata": {},
   "source": [
    "### Navie Bays "
   ]
  },
  {
   "cell_type": "code",
   "execution_count": 7,
   "metadata": {},
   "outputs": [
    {
     "name": "stdout",
     "output_type": "stream",
     "text": [
      "[1]\n"
     ]
    }
   ],
   "source": [
    "import numpy as np\n",
    "X = np.array([[-1, -1], [-2, -1], [-3, -2], [1, 1], [2, 1], [3, 2]])\n",
    "Y = np.array([1, 1, 1, 2, 2, 2])\n",
    "from sklearn.naive_bayes import GaussianNB\n",
    "clf = GaussianNB()\n",
    "clf.fit(X, Y)\n",
    "GaussianNB(priors=None, var_smoothing=1e-09)\n",
    "print(clf.predict([[-0.8, -1]]))\n",
    "from sklearn.metrics import accuracy_score\n",
    "\n",
    "#accuracy_score(prediction,labeltest)"
   ]
  },
  {
   "cell_type": "code",
   "execution_count": 6,
   "metadata": {},
   "outputs": [
    {
     "name": "stdout",
     "output_type": "stream",
     "text": [
      "[1]\n"
     ]
    }
   ],
   "source": [
    "clf_pf = GaussianNB()\n",
    "clf_pf.partial_fit(X, Y, np.unique(Y))\n",
    "GaussianNB(priors=None, var_smoothing=1e-09)\n",
    "print(clf_pf.predict([[-0.8, -1]]))\n"
   ]
  },
  {
   "cell_type": "code",
   "execution_count": null,
   "metadata": {},
   "outputs": [],
   "source": []
  }
 ],
 "metadata": {
  "kernelspec": {
   "display_name": "Python 3",
   "language": "python",
   "name": "python3"
  },
  "language_info": {
   "codemirror_mode": {
    "name": "ipython",
    "version": 3
   },
   "file_extension": ".py",
   "mimetype": "text/x-python",
   "name": "python",
   "nbconvert_exporter": "python",
   "pygments_lexer": "ipython3",
   "version": "3.7.1"
  }
 },
 "nbformat": 4,
 "nbformat_minor": 2
}
