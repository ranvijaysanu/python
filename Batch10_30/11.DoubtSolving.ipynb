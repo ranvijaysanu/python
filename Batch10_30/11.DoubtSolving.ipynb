{
 "cells": [
  {
   "cell_type": "markdown",
   "metadata": {},
   "source": [
    "# Assignment 2"
   ]
  },
  {
   "cell_type": "code",
   "execution_count": 2,
   "metadata": {},
   "outputs": [],
   "source": [
    "# Q.16\n",
    "\n",
    "d = { 'name':'python',\n",
    "      'version':3.7,\n",
    "      'modules' : {\n",
    "          'ds' : [ 'numpy','scipy','re','matplotlib'],\n",
    "          'ml' : ['opencv', 'keras','tenserflow','sklearn',],\n",
    "          'automation' : [ 'ansible','puppet','openstack'],\n",
    "          'adminstration' : [ 'paramiko','os','subprocess'],\n",
    "          },\n",
    "     'version_history' : { \n",
    "                         'version1.0' : 1994,\n",
    "                         'version2.0' : 2000,\n",
    "                         'version3.0' : 2008\n",
    "                         }\n",
    "    }"
   ]
  },
  {
   "cell_type": "code",
   "execution_count": 3,
   "metadata": {},
   "outputs": [
    {
     "name": "stdout",
     "output_type": "stream",
     "text": [
      "{'name': 'python', 'version': 3.7, 'modules': {'ds': ['numpy', 'scipy', 're', 'matplotlib'], 'ml': ['opencv', 'keras', 'tenserflow', 'sklearn'], 'automation': ['ansible', 'puppet', 'openstack'], 'adminstration': ['paramiko', 'os', 'subprocess']}, 'version_history': {'version1.0': 1994, 'version2.0': 2000, 'version3.0': 2008}}\n"
     ]
    }
   ],
   "source": [
    "print(d)"
   ]
  },
  {
   "cell_type": "code",
   "execution_count": 4,
   "metadata": {},
   "outputs": [],
   "source": [
    "from pprint import pprint"
   ]
  },
  {
   "cell_type": "code",
   "execution_count": 5,
   "metadata": {},
   "outputs": [
    {
     "name": "stdout",
     "output_type": "stream",
     "text": [
      "{'modules': {'adminstration': ['paramiko', 'os', 'subprocess'],\n",
      "             'automation': ['ansible', 'puppet', 'openstack'],\n",
      "             'ds': ['numpy', 'scipy', 're', 'matplotlib'],\n",
      "             'ml': ['opencv', 'keras', 'tenserflow', 'sklearn']},\n",
      " 'name': 'python',\n",
      " 'version': 3.7,\n",
      " 'version_history': {'version1.0': 1994,\n",
      "                     'version2.0': 2000,\n",
      "                     'version3.0': 2008}}\n"
     ]
    }
   ],
   "source": [
    "pprint(d) # pretty printing"
   ]
  },
  {
   "cell_type": "code",
   "execution_count": 8,
   "metadata": {},
   "outputs": [
    {
     "name": "stdout",
     "output_type": "stream",
     "text": [
      "[10, 'a']\n",
      "[123]\n",
      "[10, 'a']\n"
     ]
    }
   ],
   "source": [
    "def extendList(val, list=[]):\n",
    "    list.append(val)\n",
    "    return list\n",
    "\n",
    "list1 = extendList(10)\n",
    "list2 = extendList(123,[])\n",
    "list3 = extendList('a')\n",
    "print(list1)\n",
    "print(list2)\n",
    "print(list3)"
   ]
  },
  {
   "cell_type": "code",
   "execution_count": 6,
   "metadata": {},
   "outputs": [
    {
     "name": "stdout",
     "output_type": "stream",
     "text": [
      "[6, 6, 6, 6]\n"
     ]
    }
   ],
   "source": [
    "def multipliers():\n",
    "    return [lambda x : i * x for i in range(4)]\n",
    "    \n",
    "print([m(2) for m in multipliers()])\n"
   ]
  },
  {
   "cell_type": "code",
   "execution_count": 9,
   "metadata": {},
   "outputs": [],
   "source": [
    "x = multipliers()"
   ]
  },
  {
   "cell_type": "code",
   "execution_count": 10,
   "metadata": {},
   "outputs": [
    {
     "data": {
      "text/plain": [
       "[<function __main__.multipliers.<locals>.<listcomp>.<lambda>(x)>,\n",
       " <function __main__.multipliers.<locals>.<listcomp>.<lambda>(x)>,\n",
       " <function __main__.multipliers.<locals>.<listcomp>.<lambda>(x)>,\n",
       " <function __main__.multipliers.<locals>.<listcomp>.<lambda>(x)>]"
      ]
     },
     "execution_count": 10,
     "metadata": {},
     "output_type": "execute_result"
    }
   ],
   "source": [
    "x"
   ]
  },
  {
   "cell_type": "code",
   "execution_count": 11,
   "metadata": {},
   "outputs": [],
   "source": [
    "def hello(name):\n",
    "    def hi():\n",
    "        print(\"hello world name : \",name)\n",
    "    return hi "
   ]
  },
  {
   "cell_type": "code",
   "execution_count": 12,
   "metadata": {},
   "outputs": [],
   "source": [
    "h = hello('sachin')"
   ]
  },
  {
   "cell_type": "code",
   "execution_count": 13,
   "metadata": {},
   "outputs": [
    {
     "data": {
      "text/plain": [
       "<function __main__.hello.<locals>.hi()>"
      ]
     },
     "execution_count": 13,
     "metadata": {},
     "output_type": "execute_result"
    }
   ],
   "source": [
    "h"
   ]
  },
  {
   "cell_type": "code",
   "execution_count": 14,
   "metadata": {},
   "outputs": [
    {
     "name": "stdout",
     "output_type": "stream",
     "text": [
      "hello world name :  sachin\n"
     ]
    }
   ],
   "source": [
    "h()"
   ]
  },
  {
   "cell_type": "code",
   "execution_count": 15,
   "metadata": {},
   "outputs": [],
   "source": [
    "def print_info(company):\n",
    "    name = company \n",
    "    def hi():\n",
    "        print(name.center(60,'*'))\n",
    "    return hi "
   ]
  },
  {
   "cell_type": "code",
   "execution_count": 16,
   "metadata": {},
   "outputs": [],
   "source": [
    "hi = print_info(\"Grras Solution\")"
   ]
  },
  {
   "cell_type": "code",
   "execution_count": 17,
   "metadata": {},
   "outputs": [
    {
     "data": {
      "text/plain": [
       "<function __main__.print_info.<locals>.hi()>"
      ]
     },
     "execution_count": 17,
     "metadata": {},
     "output_type": "execute_result"
    }
   ],
   "source": [
    "hi"
   ]
  },
  {
   "cell_type": "code",
   "execution_count": 18,
   "metadata": {},
   "outputs": [
    {
     "name": "stdout",
     "output_type": "stream",
     "text": [
      "***********************Grras Solution***********************\n"
     ]
    }
   ],
   "source": [
    "hi()"
   ]
  },
  {
   "cell_type": "code",
   "execution_count": 19,
   "metadata": {},
   "outputs": [],
   "source": [
    "hi1 = print_info(\"Linux World\")"
   ]
  },
  {
   "cell_type": "code",
   "execution_count": 20,
   "metadata": {},
   "outputs": [
    {
     "name": "stdout",
     "output_type": "stream",
     "text": [
      "************************Linux World*************************\n"
     ]
    }
   ],
   "source": [
    "hi1()"
   ]
  },
  {
   "cell_type": "code",
   "execution_count": 21,
   "metadata": {},
   "outputs": [
    {
     "data": {
      "text/plain": [
       "<function __main__.print_info.<locals>.hi()>"
      ]
     },
     "execution_count": 21,
     "metadata": {},
     "output_type": "execute_result"
    }
   ],
   "source": [
    "hi"
   ]
  },
  {
   "cell_type": "code",
   "execution_count": 22,
   "metadata": {},
   "outputs": [
    {
     "data": {
      "text/plain": [
       "<function __main__.print_info.<locals>.hi()>"
      ]
     },
     "execution_count": 22,
     "metadata": {},
     "output_type": "execute_result"
    }
   ],
   "source": [
    "hi1"
   ]
  },
  {
   "cell_type": "code",
   "execution_count": 31,
   "metadata": {},
   "outputs": [
    {
     "name": "stdout",
     "output_type": "stream",
     "text": [
      "************************************************************\n",
      "************************************************************\n",
      "\n",
      "x = 4\n",
      "y = 5\n",
      "x + y =  9\n",
      "\n",
      "************************************************************\n",
      "************************************************************\n"
     ]
    }
   ],
   "source": [
    "def decorate(func):\n",
    "    def work(*args):\n",
    "        print(\"*\"*60)\n",
    "        print(\"*\"*60)\n",
    "        print(\"\")\n",
    "        func(*args)\n",
    "        print()\n",
    "        print(\"*\"*60)\n",
    "        print(\"*\"*60)\n",
    "    return work \n",
    "\n",
    "@decorate\n",
    "def add(x,y):\n",
    "    print(f\"x = {x}\")\n",
    "    print(f\"y = {y}\")\n",
    "    print(f\"x + y = \",x+y)\n",
    "add(4,5)\n",
    "\n"
   ]
  },
  {
   "cell_type": "code",
   "execution_count": 28,
   "metadata": {},
   "outputs": [
    {
     "name": "stdout",
     "output_type": "stream",
     "text": [
      "************************************************************\n",
      "************************************************************\n",
      "\n",
      "Hello world sachin\n",
      "\n",
      "************************************************************\n",
      "************************************************************\n"
     ]
    }
   ],
   "source": [
    "def hello(name):\n",
    "    print(\"Hello world\",name)\n",
    "\n",
    "h = decorate(hello)\n",
    "h('sachin')"
   ]
  },
  {
   "cell_type": "code",
   "execution_count": 32,
   "metadata": {},
   "outputs": [
    {
     "name": "stdout",
     "output_type": "stream",
     "text": [
      "[6, 6, 6, 6]\n"
     ]
    }
   ],
   "source": [
    "def multipliers():\n",
    "    return [lambda x : i * x for i in range(4)]\n",
    "print([m(2) for m in multipliers()])\n"
   ]
  },
  {
   "cell_type": "code",
   "execution_count": 35,
   "metadata": {},
   "outputs": [
    {
     "name": "stdout",
     "output_type": "stream",
     "text": [
      "1992737977752\n",
      "1992742342168\n",
      "1992743076184\n",
      "1992743076592\n",
      "[6, 6, 6, 6]\n"
     ]
    }
   ],
   "source": [
    "def multi():\n",
    "    l = []\n",
    "    for i in range(4) : \n",
    "        def sq(x):\n",
    "            return i*x\n",
    "        l.append(sq)\n",
    "        print(id(sq))\n",
    "    return l\n",
    "\n",
    "funcs = multi()\n",
    "r = []\n",
    "for func in  funcs : \n",
    "    x = func(2)\n",
    "    r.append(x)\n",
    "print(r)"
   ]
  },
  {
   "cell_type": "code",
   "execution_count": 44,
   "metadata": {},
   "outputs": [
    {
     "name": "stdout",
     "output_type": "stream",
     "text": [
      "Enter a number : 108\n",
      "Enter another number : 22\n"
     ]
    },
    {
     "data": {
      "text/plain": [
       "2"
      ]
     },
     "execution_count": 44,
     "metadata": {},
     "output_type": "execute_result"
    }
   ],
   "source": [
    "# common concept\n",
    "def gcd(a,b):\n",
    "    if a > b : \n",
    "        a,b=b,a\n",
    "    for var in range(a,1,-1):\n",
    "        if a % var == 0 and b % var == 0 : \n",
    "            return var \n",
    "    else :\n",
    "        return 1\n",
    "a = int(input(\"Enter a number : \"))\n",
    "b = int(input(\"Enter another number : \"))    \n",
    "gcd(a,b)"
   ]
  },
  {
   "cell_type": "code",
   "execution_count": 43,
   "metadata": {},
   "outputs": [
    {
     "name": "stdout",
     "output_type": "stream",
     "text": [
      "Enter a number : 67\n",
      "Enter another number : 23\n",
      "Greates common divisor between 23,67 is 1\n"
     ]
    }
   ],
   "source": [
    "# Ecludian Algo \n",
    "\n",
    "def gcd(a,b):\n",
    "    if a == 0 :\n",
    "        return b\n",
    "    return gcd(b%a,a)\n",
    "\n",
    "a = int(input(\"Enter a number : \"))\n",
    "b = int(input(\"Enter another number : \"))\n",
    "if a > b : \n",
    "    a,b = b,a\n",
    "result = gcd(a,b)\n",
    "print(f\"Greates common divisor between {a},{b} is {result}\")"
   ]
  },
  {
   "cell_type": "code",
   "execution_count": null,
   "metadata": {},
   "outputs": [],
   "source": []
  }
 ],
 "metadata": {
  "kernelspec": {
   "display_name": "Python 3",
   "language": "python",
   "name": "python3"
  },
  "language_info": {
   "codemirror_mode": {
    "name": "ipython",
    "version": 3
   },
   "file_extension": ".py",
   "mimetype": "text/x-python",
   "name": "python",
   "nbconvert_exporter": "python",
   "pygments_lexer": "ipython3",
   "version": "3.7.1"
  }
 },
 "nbformat": 4,
 "nbformat_minor": 2
}
