{
 "cells": [
  {
   "cell_type": "code",
   "execution_count": 2,
   "metadata": {},
   "outputs": [
    {
     "name": "stdout",
     "output_type": "stream",
     "text": [
      "Writing hello.txt\n"
     ]
    }
   ],
   "source": [
    "%%writefile hello.txt\n",
    "hello world how are you ? \n",
    "    this is a simple file"
   ]
  },
  {
   "cell_type": "code",
   "execution_count": 3,
   "metadata": {},
   "outputs": [],
   "source": [
    "# file handling\n",
    "fp  = open(\"hello.txt\")"
   ]
  },
  {
   "cell_type": "code",
   "execution_count": 4,
   "metadata": {},
   "outputs": [
    {
     "name": "stdout",
     "output_type": "stream",
     "text": [
      "hello world how are you ? \n",
      "\n",
      "    this is a simple file\n",
      "\n"
     ]
    }
   ],
   "source": [
    "for line in fp : \n",
    "    print(line)\n",
    "else : \n",
    "    fp.close()"
   ]
  },
  {
   "cell_type": "code",
   "execution_count": 5,
   "metadata": {},
   "outputs": [],
   "source": [
    "with open('hello.txt') as fp : \n",
    "    data = fp.read()\n",
    "    fp.close()"
   ]
  },
  {
   "cell_type": "code",
   "execution_count": 7,
   "metadata": {},
   "outputs": [
    {
     "name": "stdout",
     "output_type": "stream",
     "text": [
      "hello world how are you ? \n",
      "    this is a simple file\n",
      "\n"
     ]
    }
   ],
   "source": [
    "print(data)"
   ]
  },
  {
   "cell_type": "code",
   "execution_count": 9,
   "metadata": {},
   "outputs": [
    {
     "name": "stdout",
     "output_type": "stream",
     "text": [
      "\n"
     ]
    }
   ],
   "source": [
    "fp = open('hello.txt','w')\n",
    "fp.close()\n",
    "\n",
    "\n",
    "fp = open('hello.txt')\n",
    "data = fp.read()\n",
    "fp.close()\n",
    "print(data)"
   ]
  },
  {
   "cell_type": "code",
   "execution_count": 11,
   "metadata": {},
   "outputs": [
    {
     "name": "stdout",
     "output_type": "stream",
     "text": [
      "Writing new.txt\n"
     ]
    }
   ],
   "source": [
    "%%writefile new.txt\n",
    "hello world"
   ]
  },
  {
   "cell_type": "code",
   "execution_count": 14,
   "metadata": {},
   "outputs": [
    {
     "name": "stdout",
     "output_type": "stream",
     "text": [
      "hello world\n",
      "this is great\n",
      "    let's explore"
     ]
    }
   ],
   "source": [
    "s = \"\"\"hello world\n",
    "this is great\n",
    "    let's explore\"\"\"\n",
    "\n",
    "fp  = open('new.txt','w')\n",
    "fp.write(s)\n",
    "fp.close()\n",
    "\n",
    "for line in open('new.txt') : \n",
    "    print(line,end='')"
   ]
  },
  {
   "cell_type": "code",
   "execution_count": 29,
   "metadata": {},
   "outputs": [
    {
     "name": "stdout",
     "output_type": "stream",
     "text": [
      "[1, 2, 3, 4, 55, 'helllo world', 'hi']"
     ]
    }
   ],
   "source": [
    "fp = open('data.txt','w')\n",
    "data =  [ 1,2,3,4,55,'helllo world','hi']\n",
    "data = str(data)\n",
    "fp.write(data)\n",
    "fp.close()\n",
    "for line in open('data.txt') : \n",
    "    print(line,end='')"
   ]
  },
  {
   "cell_type": "code",
   "execution_count": 30,
   "metadata": {},
   "outputs": [
    {
     "name": "stdout",
     "output_type": "stream",
     "text": [
      "\"[1, 2, 3, 4, 55, 'helllo world', 'hi']\"\n",
      "<class 'str'>\n"
     ]
    }
   ],
   "source": [
    "data = open('data.txt').read()\n",
    "print(repr(data))\n",
    "print(type(data))"
   ]
  },
  {
   "cell_type": "code",
   "execution_count": 31,
   "metadata": {},
   "outputs": [
    {
     "data": {
      "text/plain": [
       "\"[1, 2, 3, 4, 55, 'helllo world', 'hi']\""
      ]
     },
     "execution_count": 31,
     "metadata": {},
     "output_type": "execute_result"
    }
   ],
   "source": [
    "data"
   ]
  },
  {
   "cell_type": "code",
   "execution_count": 32,
   "metadata": {},
   "outputs": [
    {
     "data": {
      "text/plain": [
       "'1'"
      ]
     },
     "execution_count": 32,
     "metadata": {},
     "output_type": "execute_result"
    }
   ],
   "source": [
    "data[1]"
   ]
  },
  {
   "cell_type": "code",
   "execution_count": 33,
   "metadata": {},
   "outputs": [
    {
     "data": {
      "text/plain": [
       "\"]'ih' ,'dlrow ollleh' ,55 ,4 ,3 ,2 ,1[\""
      ]
     },
     "execution_count": 33,
     "metadata": {},
     "output_type": "execute_result"
    }
   ],
   "source": [
    "data[::-1]"
   ]
  },
  {
   "cell_type": "code",
   "execution_count": 34,
   "metadata": {},
   "outputs": [
    {
     "data": {
      "text/plain": [
       "\"[1, 2, 3, 4, 55, 'helllo world', 'hi']\""
      ]
     },
     "execution_count": 34,
     "metadata": {},
     "output_type": "execute_result"
    }
   ],
   "source": [
    "data"
   ]
  },
  {
   "cell_type": "code",
   "execution_count": 35,
   "metadata": {},
   "outputs": [],
   "source": [
    "d = list(map(str.strip,data[1:-1].split(\",\")))"
   ]
  },
  {
   "cell_type": "code",
   "execution_count": 36,
   "metadata": {},
   "outputs": [
    {
     "data": {
      "text/plain": [
       "['1', '2', '3', '4', '55', \"'helllo world'\", \"'hi'\"]"
      ]
     },
     "execution_count": 36,
     "metadata": {},
     "output_type": "execute_result"
    }
   ],
   "source": [
    "d"
   ]
  },
  {
   "cell_type": "code",
   "execution_count": 37,
   "metadata": {},
   "outputs": [],
   "source": [
    "d[:5] = map(int,d[:5])"
   ]
  },
  {
   "cell_type": "code",
   "execution_count": 38,
   "metadata": {},
   "outputs": [
    {
     "data": {
      "text/plain": [
       "[1, 2, 3, 4, 55, \"'helllo world'\", \"'hi'\"]"
      ]
     },
     "execution_count": 38,
     "metadata": {},
     "output_type": "execute_result"
    }
   ],
   "source": [
    "d"
   ]
  },
  {
   "cell_type": "code",
   "execution_count": 39,
   "metadata": {},
   "outputs": [],
   "source": [
    "d[-2:]= map(lambda s:s[1:-1],d[-2:])\n"
   ]
  },
  {
   "cell_type": "code",
   "execution_count": 40,
   "metadata": {},
   "outputs": [
    {
     "data": {
      "text/plain": [
       "[1, 2, 3, 4, 55, 'helllo world', 'hi']"
      ]
     },
     "execution_count": 40,
     "metadata": {},
     "output_type": "execute_result"
    }
   ],
   "source": [
    "d"
   ]
  },
  {
   "cell_type": "code",
   "execution_count": 41,
   "metadata": {},
   "outputs": [],
   "source": [
    "import json"
   ]
  },
  {
   "cell_type": "code",
   "execution_count": 42,
   "metadata": {},
   "outputs": [
    {
     "name": "stdout",
     "output_type": "stream",
     "text": [
      "['JSONDecodeError', 'JSONDecoder', 'JSONEncoder', '__all__', '__author__', '__builtins__', '__cached__', '__doc__', '__file__', '__loader__', '__name__', '__package__', '__path__', '__spec__', '__version__', '_default_decoder', '_default_encoder', 'codecs', 'decoder', 'detect_encoding', 'dump', 'dumps', 'encoder', 'load', 'loads', 'scanner']\n"
     ]
    }
   ],
   "source": [
    "print(dir(json))"
   ]
  },
  {
   "cell_type": "code",
   "execution_count": 45,
   "metadata": {},
   "outputs": [
    {
     "data": {
      "text/plain": [
       "'[1, 2, 3, \"5\", \"hello\", \"world\"]'"
      ]
     },
     "execution_count": 45,
     "metadata": {},
     "output_type": "execute_result"
    }
   ],
   "source": [
    "json.dumps([1,2,3,'5','hello','world']) # Serilization"
   ]
  },
  {
   "cell_type": "code",
   "execution_count": 46,
   "metadata": {},
   "outputs": [],
   "source": [
    "d = { 'name':'python','version':3.7,'modules':{\n",
    "    'ds':['matplot','numpy','scipy'], 'ml':['sklearn','teserflow']\n",
    ",\n",
    "'web':['django','flask']},\n",
    "    'version_info': {\n",
    "        'python1' : 1994,\n",
    "        'python2' : 2000,\n",
    "        'python3' : 2008\n",
    "    },\n",
    "    }"
   ]
  },
  {
   "cell_type": "code",
   "execution_count": 47,
   "metadata": {},
   "outputs": [
    {
     "data": {
      "text/plain": [
       "{'name': 'python',\n",
       " 'version': 3.7,\n",
       " 'modules': {'ds': ['matplot', 'numpy', 'scipy'],\n",
       "  'ml': ['sklearn', 'teserflow'],\n",
       "  'web': ['django', 'flask']},\n",
       " 'version_info': {'python1': 1994, 'python2': 2000, 'python3': 2008}}"
      ]
     },
     "execution_count": 47,
     "metadata": {},
     "output_type": "execute_result"
    }
   ],
   "source": [
    "d"
   ]
  },
  {
   "cell_type": "code",
   "execution_count": 48,
   "metadata": {},
   "outputs": [
    {
     "name": "stdout",
     "output_type": "stream",
     "text": [
      "{'name': 'python', 'version': 3.7, 'modules': {'ds': ['matplot', 'numpy', 'scipy'], 'ml': ['sklearn', 'teserflow'], 'web': ['django', 'flask']}, 'version_info': {'python1': 1994, 'python2': 2000, 'python3': 2008}}\n"
     ]
    }
   ],
   "source": [
    "print(d)"
   ]
  },
  {
   "cell_type": "code",
   "execution_count": 49,
   "metadata": {},
   "outputs": [],
   "source": [
    "from pprint import pprint"
   ]
  },
  {
   "cell_type": "code",
   "execution_count": 50,
   "metadata": {},
   "outputs": [
    {
     "name": "stdout",
     "output_type": "stream",
     "text": [
      "{'modules': {'ds': ['matplot', 'numpy', 'scipy'],\n",
      "             'ml': ['sklearn', 'teserflow'],\n",
      "             'web': ['django', 'flask']},\n",
      " 'name': 'python',\n",
      " 'version': 3.7,\n",
      " 'version_info': {'python1': 1994, 'python2': 2000, 'python3': 2008}}\n"
     ]
    }
   ],
   "source": [
    "pprint(d)"
   ]
  },
  {
   "cell_type": "code",
   "execution_count": 53,
   "metadata": {},
   "outputs": [
    {
     "name": "stdout",
     "output_type": "stream",
     "text": [
      "{\n",
      "     \"name\": \"python\",\n",
      "     \"version\": 3.7,\n",
      "     \"modules\": {\n",
      "          \"ds\": [\n",
      "               \"matplot\",\n",
      "               \"numpy\",\n",
      "               \"scipy\"\n",
      "          ],\n",
      "          \"ml\": [\n",
      "               \"sklearn\",\n",
      "               \"teserflow\"\n",
      "          ],\n",
      "          \"web\": [\n",
      "               \"django\",\n",
      "               \"flask\"\n",
      "          ]\n",
      "     },\n",
      "     \"version_info\": {\n",
      "          \"python1\": 1994,\n",
      "          \"python2\": 2000,\n",
      "          \"python3\": 2008\n",
      "     }\n",
      "}\n"
     ]
    }
   ],
   "source": [
    "s = json.dumps(d,indent=5)\n",
    "print(s)"
   ]
  },
  {
   "cell_type": "code",
   "execution_count": 56,
   "metadata": {},
   "outputs": [],
   "source": [
    "f = open('python_info.txt','w')"
   ]
  },
  {
   "cell_type": "code",
   "execution_count": 57,
   "metadata": {},
   "outputs": [],
   "source": [
    "json.dump(d,f,indent=5)\n",
    "f.close()"
   ]
  },
  {
   "cell_type": "code",
   "execution_count": 58,
   "metadata": {},
   "outputs": [],
   "source": [
    "del d"
   ]
  },
  {
   "cell_type": "code",
   "execution_count": 59,
   "metadata": {},
   "outputs": [
    {
     "ename": "NameError",
     "evalue": "name 'd' is not defined",
     "output_type": "error",
     "traceback": [
      "\u001b[1;31m---------------------------------------------------------------------------\u001b[0m",
      "\u001b[1;31mNameError\u001b[0m                                 Traceback (most recent call last)",
      "\u001b[1;32m<ipython-input-59-e983f374794d>\u001b[0m in \u001b[0;36m<module>\u001b[1;34m\u001b[0m\n\u001b[1;32m----> 1\u001b[1;33m \u001b[0md\u001b[0m\u001b[1;33m\u001b[0m\u001b[1;33m\u001b[0m\u001b[0m\n\u001b[0m",
      "\u001b[1;31mNameError\u001b[0m: name 'd' is not defined"
     ]
    }
   ],
   "source": [
    "d"
   ]
  },
  {
   "cell_type": "code",
   "execution_count": 60,
   "metadata": {},
   "outputs": [
    {
     "data": {
      "text/plain": [
       "True"
      ]
     },
     "execution_count": 60,
     "metadata": {},
     "output_type": "execute_result"
    }
   ],
   "source": [
    "json.loads('true')"
   ]
  },
  {
   "cell_type": "code",
   "execution_count": 62,
   "metadata": {},
   "outputs": [
    {
     "name": "stdout",
     "output_type": "stream",
     "text": [
      "None\n"
     ]
    }
   ],
   "source": [
    "print(json.loads('null'))"
   ]
  },
  {
   "cell_type": "code",
   "execution_count": 64,
   "metadata": {},
   "outputs": [],
   "source": [
    "x = json.loads(\"[ 1, 2, 3.4, [ 1, 2, 3 ]]\") # deserilization\n"
   ]
  },
  {
   "cell_type": "code",
   "execution_count": 65,
   "metadata": {},
   "outputs": [
    {
     "data": {
      "text/plain": [
       "list"
      ]
     },
     "execution_count": 65,
     "metadata": {},
     "output_type": "execute_result"
    }
   ],
   "source": [
    "type(x)"
   ]
  },
  {
   "cell_type": "code",
   "execution_count": 66,
   "metadata": {},
   "outputs": [
    {
     "data": {
      "text/plain": [
       "[1, 2, 3.4, [1, 2, 3]]"
      ]
     },
     "execution_count": 66,
     "metadata": {},
     "output_type": "execute_result"
    }
   ],
   "source": [
    "x"
   ]
  },
  {
   "cell_type": "code",
   "execution_count": 67,
   "metadata": {},
   "outputs": [],
   "source": [
    "python_info = json.load(open('python_info.txt'))"
   ]
  },
  {
   "cell_type": "code",
   "execution_count": 68,
   "metadata": {},
   "outputs": [
    {
     "data": {
      "text/plain": [
       "dict"
      ]
     },
     "execution_count": 68,
     "metadata": {},
     "output_type": "execute_result"
    }
   ],
   "source": [
    "type(python_info)"
   ]
  },
  {
   "cell_type": "code",
   "execution_count": 69,
   "metadata": {},
   "outputs": [
    {
     "data": {
      "text/plain": [
       "{'name': 'python',\n",
       " 'version': 3.7,\n",
       " 'modules': {'ds': ['matplot', 'numpy', 'scipy'],\n",
       "  'ml': ['sklearn', 'teserflow'],\n",
       "  'web': ['django', 'flask']},\n",
       " 'version_info': {'python1': 1994, 'python2': 2000, 'python3': 2008}}"
      ]
     },
     "execution_count": 69,
     "metadata": {},
     "output_type": "execute_result"
    }
   ],
   "source": [
    "python_info"
   ]
  },
  {
   "cell_type": "markdown",
   "metadata": {},
   "source": [
    "if you are working directly \n",
    "    \n",
    "    json.loads(Stirng)--> Object  \n",
    "    json.dumps(Object) --> String\n",
    "\n",
    "</br></br>\n",
    "\n",
    "if your are working with files \n",
    "\n",
    "    json.load(fp) --> will read file and give you Object\n",
    "    json.dump(object,fp) --> will write object into file"
   ]
  },
  {
   "cell_type": "code",
   "execution_count": 70,
   "metadata": {},
   "outputs": [],
   "source": [
    "resume = { \n",
    "    'name'       : 'Sachin Yadav',\n",
    "    'email'      : 'sachin@grras.com',\n",
    "    'contact'    :  9782131159,\n",
    "    'skills'     :  ['java','c','c++','python','database'],\n",
    "    'graduation' : {\n",
    "                        'school': 88,\n",
    "                        'high-school': 85,\n",
    "                        'ug' : 71,\n",
    "                        },\n",
    "    'blood_group' : 'B+ive',\n",
    "    'git' : 'https://github.com/sachinyadav3496',\n",
    "    'project' : { \n",
    "                'bank_app' : \"Basic application build in core Python using file handling\"\n",
    "                }\n",
    "}"
   ]
  },
  {
   "cell_type": "code",
   "execution_count": 71,
   "metadata": {},
   "outputs": [
    {
     "data": {
      "text/plain": [
       "{'name': 'Sachin Yadav',\n",
       " 'email': 'sachin@grras.com',\n",
       " 'contact': 9782131159,\n",
       " 'skills': ['java', 'c', 'c++', 'python', 'database'],\n",
       " 'graduation': {'school': 88, 'high-school': 85, 'ug': 71},\n",
       " 'blood_group': 'B+ive',\n",
       " 'git': 'https://github.com/sachinyadav3496',\n",
       " 'project': {'bank_app': 'Basic application build in core Python using file handling'}}"
      ]
     },
     "execution_count": 71,
     "metadata": {},
     "output_type": "execute_result"
    }
   ],
   "source": [
    "resume"
   ]
  },
  {
   "cell_type": "code",
   "execution_count": 72,
   "metadata": {},
   "outputs": [],
   "source": [
    "import json "
   ]
  },
  {
   "cell_type": "code",
   "execution_count": 74,
   "metadata": {},
   "outputs": [],
   "source": [
    "json.dump(resume,open(\"resume.json\",\"w\"),indent=5)"
   ]
  },
  {
   "cell_type": "code",
   "execution_count": 75,
   "metadata": {},
   "outputs": [
    {
     "data": {
      "text/plain": [
       "'C:\\\\Users\\\\hp\\\\Desktop\\\\Batches\\\\SummerInternBatch2019\\\\Batch10_30'"
      ]
     },
     "execution_count": 75,
     "metadata": {},
     "output_type": "execute_result"
    }
   ],
   "source": [
    "pwd"
   ]
  },
  {
   "cell_type": "code",
   "execution_count": 76,
   "metadata": {},
   "outputs": [],
   "source": [
    "new_data = json.load(open(\"resume.json\"))"
   ]
  },
  {
   "cell_type": "code",
   "execution_count": 77,
   "metadata": {},
   "outputs": [
    {
     "data": {
      "text/plain": [
       "{'name': 'Sachin Yadav',\n",
       " 'email': 'sachin@grras.com',\n",
       " 'contact': 9782131159,\n",
       " 'skills': ['java', 'c', 'c++', 'python', 'database'],\n",
       " 'graduation': {'school': 88, 'high-school': 85, 'ug': 71},\n",
       " 'blood_group': 'B+ive',\n",
       " 'git': 'https://github.com/sachinyadav3496',\n",
       " 'project': {'bank_app': 'Basic application build in core Python using file handling'}}"
      ]
     },
     "execution_count": 77,
     "metadata": {},
     "output_type": "execute_result"
    }
   ],
   "source": [
    "new_data"
   ]
  },
  {
   "cell_type": "code",
   "execution_count": 78,
   "metadata": {},
   "outputs": [],
   "source": [
    "import pickle"
   ]
  },
  {
   "cell_type": "code",
   "execution_count": 79,
   "metadata": {},
   "outputs": [
    {
     "data": {
      "text/plain": [
       "{'name': 'Sachin Yadav',\n",
       " 'email': 'sachin@grras.com',\n",
       " 'contact': 9782131159,\n",
       " 'skills': ['java', 'c', 'c++', 'python', 'database'],\n",
       " 'graduation': {'school': 88, 'high-school': 85, 'ug': 71},\n",
       " 'blood_group': 'B+ive',\n",
       " 'git': 'https://github.com/sachinyadav3496',\n",
       " 'project': {'bank_app': 'Basic application build in core Python using file handling'}}"
      ]
     },
     "execution_count": 79,
     "metadata": {},
     "output_type": "execute_result"
    }
   ],
   "source": [
    "resume"
   ]
  },
  {
   "cell_type": "code",
   "execution_count": 80,
   "metadata": {},
   "outputs": [
    {
     "data": {
      "text/plain": [
       "dict"
      ]
     },
     "execution_count": 80,
     "metadata": {},
     "output_type": "execute_result"
    }
   ],
   "source": [
    "type(resume)"
   ]
  },
  {
   "cell_type": "code",
   "execution_count": 89,
   "metadata": {},
   "outputs": [
    {
     "name": "stdout",
     "output_type": "stream",
     "text": [
      "45\n",
      "hello dekho apn ne write kiya\n",
      "aur write kiya\n"
     ]
    }
   ],
   "source": [
    "f = open(\"bilkil_new.txt\",\"w+\")\n",
    "f.write(\"hello dekho apn ne write kiya\\n\")\n",
    "f.write(\"aur write kiya\")\n",
    "print(f.tell())\n",
    "f.seek(0)\n",
    "data = f.read()\n",
    "print(data)\n",
    "f.close()"
   ]
  },
  {
   "cell_type": "code",
   "execution_count": 81,
   "metadata": {},
   "outputs": [],
   "source": [
    "import pickle"
   ]
  },
  {
   "cell_type": "code",
   "execution_count": 90,
   "metadata": {},
   "outputs": [],
   "source": [
    "fp  = open(\"resume.pkl\",\"wb\")"
   ]
  },
  {
   "cell_type": "code",
   "execution_count": 91,
   "metadata": {},
   "outputs": [],
   "source": [
    "pickle.dump(resume,fp)"
   ]
  },
  {
   "cell_type": "code",
   "execution_count": 92,
   "metadata": {},
   "outputs": [],
   "source": [
    "fp.close()"
   ]
  },
  {
   "cell_type": "code",
   "execution_count": null,
   "metadata": {},
   "outputs": [],
   "source": []
  },
  {
   "cell_type": "code",
   "execution_count": null,
   "metadata": {},
   "outputs": [],
   "source": []
  },
  {
   "cell_type": "code",
   "execution_count": 94,
   "metadata": {},
   "outputs": [
    {
     "name": "stdout",
     "output_type": "stream",
     "text": [
      "{\n",
      "     \"name\": \"Sachin Yadav\",\n",
      "     \"email\": \"sachin@grras.com\",\n",
      "     \"contact\": 9782131159,\n",
      "     \"skills\": [\n",
      "          \"java\",\n",
      "          \"c\",\n",
      "          \"c++\",\n",
      "          \"python\",\n",
      "          \"database\"\n",
      "     ],\n",
      "     \"graduation\": {\n",
      "          \"school\": 88,\n",
      "          \"high-school\": 85,\n",
      "          \"ug\": 71\n",
      "     },\n",
      "     \"blood_group\": \"B+ive\",\n",
      "     \"git\": \"https://github.com/sachinyadav3496\",\n",
      "     \"project\": {\n",
      "          \"bank_app\": \"Basic application build in core Python using file handling\"\n",
      "     }\n",
      "}\n",
      "<class 'dict'>\n"
     ]
    }
   ],
   "source": [
    "fp = open(\"resume.pkl\",\"rb\")\n",
    "d  = pickle.load(fp)\n",
    "print(json.dumps(d,indent=5))\n",
    "print(type(d))\n",
    "fp.close()"
   ]
  },
  {
   "cell_type": "code",
   "execution_count": 1,
   "metadata": {},
   "outputs": [],
   "source": [
    "x = [ var**2 for var in range(10)]\n",
    "y = ( var**2 for var in range(10))"
   ]
  },
  {
   "cell_type": "code",
   "execution_count": 2,
   "metadata": {},
   "outputs": [
    {
     "name": "stdout",
     "output_type": "stream",
     "text": [
      "<class 'list'>\n",
      "<class 'generator'>\n"
     ]
    }
   ],
   "source": [
    "print(type(x))\n",
    "print(type(y))"
   ]
  },
  {
   "cell_type": "code",
   "execution_count": 3,
   "metadata": {},
   "outputs": [
    {
     "data": {
      "text/plain": [
       "168"
      ]
     },
     "execution_count": 3,
     "metadata": {},
     "output_type": "execute_result"
    }
   ],
   "source": [
    "x.__sizeof__()"
   ]
  },
  {
   "cell_type": "code",
   "execution_count": 4,
   "metadata": {},
   "outputs": [
    {
     "data": {
      "text/plain": [
       "96"
      ]
     },
     "execution_count": 4,
     "metadata": {},
     "output_type": "execute_result"
    }
   ],
   "source": [
    "y.__sizeof__()"
   ]
  },
  {
   "cell_type": "code",
   "execution_count": 5,
   "metadata": {},
   "outputs": [
    {
     "name": "stdout",
     "output_type": "stream",
     "text": [
      "0 1 4 9 16 25 36 49 64 81\n"
     ]
    }
   ],
   "source": [
    "print(*x)"
   ]
  },
  {
   "cell_type": "code",
   "execution_count": 6,
   "metadata": {},
   "outputs": [
    {
     "name": "stdout",
     "output_type": "stream",
     "text": [
      "0 1 4 9 16 25 36 49 64 81\n"
     ]
    }
   ],
   "source": [
    "print(*y)"
   ]
  },
  {
   "cell_type": "code",
   "execution_count": 7,
   "metadata": {},
   "outputs": [],
   "source": [
    "import shelve"
   ]
  },
  {
   "cell_type": "code",
   "execution_count": 8,
   "metadata": {},
   "outputs": [],
   "source": [
    "user1 = { 'name':'sachin','age':23,'country':'india'}\n",
    "user2 = { 'name':'john','age':35,'country':'USA',\n",
    "        'job':'Data Scientist','salary':45000}\n",
    "user3 = { 'name':'ram','kaam':'jaap karna'}"
   ]
  },
  {
   "cell_type": "code",
   "execution_count": 9,
   "metadata": {},
   "outputs": [],
   "source": [
    "import os\n",
    "os.mkdir('inventory')"
   ]
  },
  {
   "cell_type": "code",
   "execution_count": 10,
   "metadata": {},
   "outputs": [],
   "source": [
    "ids  = ['u1001','u1002','u1003']"
   ]
  },
  {
   "cell_type": "code",
   "execution_count": 16,
   "metadata": {},
   "outputs": [
    {
     "name": "stdout",
     "output_type": "stream",
     "text": [
      "inventory/u1001 is written sucessfully in file\n",
      "\n",
      "\n",
      "inventory/u1002 is written sucessfully in file\n",
      "\n",
      "\n",
      "inventory/u1003 is written sucessfully in file\n",
      "\n",
      "\n"
     ]
    }
   ],
   "source": [
    "import pickle\n",
    "for name,data in zip(ids,[ user1,user2,user3]) : \n",
    "    #print(f\"name= {name} and data={data}\")\n",
    "    name = \"inventory/\" + name\n",
    "    f = open(name,'wb')\n",
    "    pickle.dump(data,f)\n",
    "    f.close()\n",
    "    print(f\"{name} is written sucessfully in file\")\n",
    "    print('\\n')"
   ]
  },
  {
   "cell_type": "code",
   "execution_count": 17,
   "metadata": {},
   "outputs": [],
   "source": [
    "import os\n",
    "def read_info(name): \n",
    "    if name in os.listdir('inventory/') : \n",
    "        name = \"inventory/\"+name\n",
    "        fp = open(name,'rb')\n",
    "        data = pickle.load(fp)\n",
    "        fp.close()\n",
    "        print(data)\n",
    "    else : \n",
    "        print(\"no such  data available\")"
   ]
  },
  {
   "cell_type": "code",
   "execution_count": 20,
   "metadata": {},
   "outputs": [
    {
     "name": "stdout",
     "output_type": "stream",
     "text": [
      "no such  data available\n"
     ]
    }
   ],
   "source": [
    "read_info('u1008')"
   ]
  },
  {
   "cell_type": "code",
   "execution_count": 21,
   "metadata": {},
   "outputs": [],
   "source": [
    "import shelve"
   ]
  },
  {
   "cell_type": "code",
   "execution_count": 22,
   "metadata": {},
   "outputs": [],
   "source": [
    "os.mkdir('userdb')"
   ]
  },
  {
   "cell_type": "code",
   "execution_count": 23,
   "metadata": {},
   "outputs": [],
   "source": [
    "data = [ user1,user2,user3]"
   ]
  },
  {
   "cell_type": "raw",
   "metadata": {},
   "source": [
    "data"
   ]
  },
  {
   "cell_type": "code",
   "execution_count": 34,
   "metadata": {},
   "outputs": [],
   "source": [
    "db = shelve.open('userdb/user.db')"
   ]
  },
  {
   "cell_type": "code",
   "execution_count": 26,
   "metadata": {},
   "outputs": [
    {
     "data": {
      "text/plain": [
       "shelve.DbfilenameShelf"
      ]
     },
     "execution_count": 26,
     "metadata": {},
     "output_type": "execute_result"
    }
   ],
   "source": [
    "type(db)"
   ]
  },
  {
   "cell_type": "code",
   "execution_count": 27,
   "metadata": {},
   "outputs": [
    {
     "name": "stdout",
     "output_type": "stream",
     "text": [
      "['_MutableMapping__marker', '__abstractmethods__', '__class__', '__contains__', '__del__', '__delattr__', '__delitem__', '__dict__', '__dir__', '__doc__', '__enter__', '__eq__', '__exit__', '__format__', '__ge__', '__getattribute__', '__getitem__', '__gt__', '__hash__', '__init__', '__init_subclass__', '__iter__', '__le__', '__len__', '__lt__', '__module__', '__ne__', '__new__', '__reduce__', '__reduce_ex__', '__repr__', '__reversed__', '__setattr__', '__setitem__', '__sizeof__', '__slots__', '__str__', '__subclasshook__', '__weakref__', '_abc_impl', '_protocol', 'cache', 'clear', 'close', 'dict', 'get', 'items', 'keyencoding', 'keys', 'pop', 'popitem', 'setdefault', 'sync', 'update', 'values', 'writeback']\n"
     ]
    }
   ],
   "source": [
    "print(dir(db))"
   ]
  },
  {
   "cell_type": "code",
   "execution_count": 35,
   "metadata": {},
   "outputs": [],
   "source": [
    "db['u1001']  = user1\n",
    "db['u1002']  = user2\n",
    "db['u1003']  = user3"
   ]
  },
  {
   "cell_type": "code",
   "execution_count": 36,
   "metadata": {},
   "outputs": [],
   "source": [
    "db.close()"
   ]
  },
  {
   "cell_type": "code",
   "execution_count": 31,
   "metadata": {},
   "outputs": [
    {
     "name": "stdout",
     "output_type": "stream",
     "text": [
      "sachin\n"
     ]
    }
   ],
   "source": [
    "d = { 'name':'sachin','color':'fare'}\n",
    "if 'name' in d : \n",
    "    print(d.get('name'))\n",
    "else : \n",
    "    print(\"no such item\")"
   ]
  },
  {
   "cell_type": "code",
   "execution_count": 47,
   "metadata": {},
   "outputs": [],
   "source": [
    "def get(key):\n",
    "    db = shelve.open('userdb/user.db',writeback=True)\n",
    "    if key in db  : \n",
    "        data = db.get(key)\n",
    "        for key,value in data.items() : \n",
    "            print(key,'=',value)\n",
    "    else : \n",
    "        print(\"No such user informat avaiable\")"
   ]
  },
  {
   "cell_type": "code",
   "execution_count": 48,
   "metadata": {},
   "outputs": [
    {
     "name": "stdout",
     "output_type": "stream",
     "text": [
      "name = sachin\n",
      "age = 23\n",
      "country = india\n"
     ]
    }
   ],
   "source": [
    "get('u1001')"
   ]
  },
  {
   "cell_type": "code",
   "execution_count": 49,
   "metadata": {},
   "outputs": [
    {
     "name": "stdout",
     "output_type": "stream",
     "text": [
      "name = john\n",
      "age = 35\n",
      "country = USA\n",
      "job = Data Scientist\n",
      "salary = 45000\n"
     ]
    }
   ],
   "source": [
    "get('u1002')"
   ]
  },
  {
   "cell_type": "code",
   "execution_count": 50,
   "metadata": {},
   "outputs": [
    {
     "data": {
      "text/plain": [
       "{'name': {'u1': 'yadav', 'u2': 'rahul'}}"
      ]
     },
     "execution_count": 50,
     "metadata": {},
     "output_type": "execute_result"
    }
   ],
   "source": [
    "d =  { 'name': { 'u1':'sachin','u2':'rahul'}}\n",
    "d['name']['u1'] = 'yadav'\n",
    "d"
   ]
  },
  {
   "cell_type": "code",
   "execution_count": 51,
   "metadata": {},
   "outputs": [],
   "source": [
    "def update(key):\n",
    "    db = shelve.open(\"userdb/user.db\",writeback=True)\n",
    "    db[key]['age'] = 25\n",
    "    db[key]['blood_group'] = \"B+ive\"\n",
    "    db.close()\n",
    "    "
   ]
  },
  {
   "cell_type": "code",
   "execution_count": 52,
   "metadata": {},
   "outputs": [],
   "source": [
    "update('u1001')"
   ]
  },
  {
   "cell_type": "code",
   "execution_count": 53,
   "metadata": {},
   "outputs": [
    {
     "name": "stdout",
     "output_type": "stream",
     "text": [
      "name = sachin\n",
      "age = 25\n",
      "country = india\n",
      "blood_group = B+ive\n"
     ]
    }
   ],
   "source": [
    "get('u1001')"
   ]
  },
  {
   "cell_type": "code",
   "execution_count": null,
   "metadata": {},
   "outputs": [],
   "source": []
  },
  {
   "cell_type": "code",
   "execution_count": 59,
   "metadata": {},
   "outputs": [
    {
     "data": {
      "text/plain": [
       "2"
      ]
     },
     "execution_count": 59,
     "metadata": {},
     "output_type": "execute_result"
    }
   ],
   "source": [
    "fp = open(\"d.txt\",\"w\")\n",
    "\n",
    "fp.write(\"hello\")\n",
    "fp.write(\"hi\")"
   ]
  },
  {
   "cell_type": "code",
   "execution_count": 60,
   "metadata": {},
   "outputs": [
    {
     "name": "stdout",
     "output_type": "stream",
     "text": [
      "\n"
     ]
    }
   ],
   "source": [
    "f = open('d.txt')\n",
    "\n",
    "data = f.read()\n",
    "print(data)\n",
    "f.close()"
   ]
  },
  {
   "cell_type": "code",
   "execution_count": 2,
   "metadata": {},
   "outputs": [],
   "source": [
    "user1 = { 'name':'sachin','password':'redhat','bal':45000}\n",
    "user2 = { 'name':'nidhi','password':'yahoo','bal':50000},\n",
    "user3 = { 'name':'rajat', 'password':'asimov','bal':143231}\n",
    "\n",
    "acc = [ '1001','1002','1003']\n",
    "last_acc = '1003'"
   ]
  },
  {
   "cell_type": "code",
   "execution_count": 4,
   "metadata": {},
   "outputs": [],
   "source": [
    "import os\n",
    "os.mkdir(\"bank_warehouse\")"
   ]
  },
  {
   "cell_type": "code",
   "execution_count": 14,
   "metadata": {},
   "outputs": [],
   "source": [
    "import shelve\n",
    "db = shelve.open(\"bank_warehouse/bank.db\",writeback=True)\n",
    "db['1001'] = user1\n",
    "db['1002'] = user2 \n",
    "db['1003'] = user3\n",
    "db['last_acc'] = '1003'\n",
    "db.close()"
   ]
  },
  {
   "cell_type": "code",
   "execution_count": 16,
   "metadata": {},
   "outputs": [],
   "source": [
    "def signup(name,password,bal):\n",
    "    db = shelve.open(\"bank_warehouse/bank.db\",writeback=True)\n",
    "    acc = int(db.get('last_acc'))\n",
    "    acc = str(acc + 1)\n",
    "    db['last_acc'] = acc\n",
    "    user = { 'name':name,'password':password,'bal':bal}\n",
    "    db[acc] = user\n",
    "    db.close()\n",
    "    print(\"User account Created Sucessfully\")\n",
    "    print(\"Note down your acc number : \",acc)"
   ]
  },
  {
   "cell_type": "code",
   "execution_count": 17,
   "metadata": {},
   "outputs": [
    {
     "name": "stdout",
     "output_type": "stream",
     "text": [
      "User account Created Sucessfully\n",
      "Note down your acc number :  1004\n"
     ]
    }
   ],
   "source": [
    "signup('manish','hellowrold',19847)"
   ]
  },
  {
   "cell_type": "code",
   "execution_count": 19,
   "metadata": {},
   "outputs": [],
   "source": [
    "def get(acc_no):\n",
    "    db = shelve.open('bank_warehouse/bank.db')\n",
    "    data = db.get(acc_no,False)\n",
    "    if data : \n",
    "        for key,value in data.items():\n",
    "            print(key,\"=\",value)\n",
    "    else : \n",
    "        print(\"No such user exists\")"
   ]
  },
  {
   "cell_type": "code",
   "execution_count": 20,
   "metadata": {},
   "outputs": [
    {
     "name": "stdout",
     "output_type": "stream",
     "text": [
      "name = sachin\n",
      "password = redhat\n",
      "bal = 45000\n"
     ]
    }
   ],
   "source": [
    "get('1001')"
   ]
  },
  {
   "cell_type": "code",
   "execution_count": 21,
   "metadata": {},
   "outputs": [
    {
     "name": "stdout",
     "output_type": "stream",
     "text": [
      "name = manish\n",
      "password = hellowrold\n",
      "bal = 19847\n"
     ]
    }
   ],
   "source": [
    "get('1004')"
   ]
  },
  {
   "cell_type": "code",
   "execution_count": 22,
   "metadata": {},
   "outputs": [
    {
     "name": "stdout",
     "output_type": "stream",
     "text": [
      "No such user exists\n"
     ]
    }
   ],
   "source": [
    "get('1005')"
   ]
  },
  {
   "cell_type": "code",
   "execution_count": 23,
   "metadata": {},
   "outputs": [
    {
     "name": "stdout",
     "output_type": "stream",
     "text": [
      "User account Created Sucessfully\n",
      "Note down your acc number :  1005\n"
     ]
    }
   ],
   "source": [
    "signup('kushal','lahsuk',15000)"
   ]
  },
  {
   "cell_type": "code",
   "execution_count": 24,
   "metadata": {},
   "outputs": [
    {
     "name": "stdout",
     "output_type": "stream",
     "text": [
      "name = kushal\n",
      "password = lahsuk\n",
      "bal = 15000\n"
     ]
    }
   ],
   "source": [
    "get('1005')"
   ]
  },
  {
   "cell_type": "code",
   "execution_count": null,
   "metadata": {},
   "outputs": [],
   "source": []
  }
 ],
 "metadata": {
  "kernelspec": {
   "display_name": "Python 3",
   "language": "python",
   "name": "python3"
  },
  "language_info": {
   "codemirror_mode": {
    "name": "ipython",
    "version": 3
   },
   "file_extension": ".py",
   "mimetype": "text/x-python",
   "name": "python",
   "nbconvert_exporter": "python",
   "pygments_lexer": "ipython3",
   "version": "3.7.1"
  }
 },
 "nbformat": 4,
 "nbformat_minor": 2
}
