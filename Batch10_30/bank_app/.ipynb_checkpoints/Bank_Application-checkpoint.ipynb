{
 "cells": [
  {
   "cell_type": "code",
   "execution_count": 1,
   "metadata": {},
   "outputs": [],
   "source": [
    "import shelve"
   ]
  },
  {
   "cell_type": "code",
   "execution_count": 2,
   "metadata": {},
   "outputs": [
    {
     "data": {
      "text/plain": [
       "['BsdDbShelf',\n",
       " 'BytesIO',\n",
       " 'DbfilenameShelf',\n",
       " 'Pickler',\n",
       " 'Shelf',\n",
       " 'Unpickler',\n",
       " '_ClosedDict',\n",
       " '__all__',\n",
       " '__builtins__',\n",
       " '__cached__',\n",
       " '__doc__',\n",
       " '__file__',\n",
       " '__loader__',\n",
       " '__name__',\n",
       " '__package__',\n",
       " '__spec__',\n",
       " 'collections',\n",
       " 'open']"
      ]
     },
     "execution_count": 2,
     "metadata": {},
     "output_type": "execute_result"
    }
   ],
   "source": [
    "dir(shelve)"
   ]
  },
  {
   "cell_type": "code",
   "execution_count": 9,
   "metadata": {},
   "outputs": [],
   "source": [
    "data = shelve.open('db/bank.db')"
   ]
  },
  {
   "cell_type": "code",
   "execution_count": 10,
   "metadata": {},
   "outputs": [
    {
     "name": "stdout",
     "output_type": "stream",
     "text": [
      "<class 'shelve.DbfilenameShelf'>\n"
     ]
    }
   ],
   "source": [
    "print(type(data))"
   ]
  },
  {
   "cell_type": "code",
   "execution_count": 11,
   "metadata": {},
   "outputs": [],
   "source": [
    "data.close()"
   ]
  },
  {
   "cell_type": "code",
   "execution_count": 12,
   "metadata": {},
   "outputs": [],
   "source": [
    "d = { 'name':'sachin'}"
   ]
  },
  {
   "cell_type": "code",
   "execution_count": 13,
   "metadata": {},
   "outputs": [],
   "source": [
    "data = shelve.open('db/bank.db')"
   ]
  },
  {
   "cell_type": "code",
   "execution_count": 14,
   "metadata": {},
   "outputs": [],
   "source": [
    "data['sachin'] = d "
   ]
  },
  {
   "cell_type": "code",
   "execution_count": 15,
   "metadata": {},
   "outputs": [],
   "source": [
    "data.close()"
   ]
  },
  {
   "cell_type": "code",
   "execution_count": 16,
   "metadata": {},
   "outputs": [],
   "source": [
    "data = shelve.open('db/bank.db')"
   ]
  },
  {
   "cell_type": "code",
   "execution_count": 17,
   "metadata": {},
   "outputs": [
    {
     "data": {
      "text/plain": [
       "{'name': 'sachin'}"
      ]
     },
     "execution_count": 17,
     "metadata": {},
     "output_type": "execute_result"
    }
   ],
   "source": [
    "data.get('sachin')"
   ]
  },
  {
   "cell_type": "code",
   "execution_count": 18,
   "metadata": {},
   "outputs": [
    {
     "data": {
      "text/plain": [
       "False"
      ]
     },
     "execution_count": 18,
     "metadata": {},
     "output_type": "execute_result"
    }
   ],
   "source": [
    "data.get('kuchbhi',False)"
   ]
  },
  {
   "cell_type": "code",
   "execution_count": 20,
   "metadata": {},
   "outputs": [],
   "source": [
    "### let's start \n",
    "\n",
    "data['1001'] = { 'hello':'bye'}"
   ]
  },
  {
   "cell_type": "code",
   "execution_count": 21,
   "metadata": {},
   "outputs": [
    {
     "data": {
      "text/plain": [
       "{'hello': 'bye'}"
      ]
     },
     "execution_count": 21,
     "metadata": {},
     "output_type": "execute_result"
    }
   ],
   "source": [
    "data.get('1001')"
   ]
  },
  {
   "cell_type": "code",
   "execution_count": 22,
   "metadata": {},
   "outputs": [],
   "source": [
    "del data"
   ]
  },
  {
   "cell_type": "code",
   "execution_count": null,
   "metadata": {},
   "outputs": [],
   "source": []
  },
  {
   "cell_type": "code",
   "execution_count": 43,
   "metadata": {},
   "outputs": [],
   "source": [
    "## store initial data \n",
    "import shelve\n",
    "acc1 = { 'name':'ram','bal':20000,'password':'&123'}\n",
    "acc2 = { 'name':'shyam','bal':15000,'password':'@hello'}\n",
    "acc3 = { 'name':'ghyanshaym','bal':1000,'password':'bye@'}\n",
    "acc4 = { 'name':'radheshyam','bal':12000,'password':'redhat'}\n",
    "\n",
    "db = shelve.open('db/bank.db')\n",
    "db['1001'] = acc1\n",
    "db['1002'] = acc2\n",
    "db['1003'] = acc3\n",
    "db['1004'] = acc4 \n",
    "\n",
    "db.close()"
   ]
  },
  {
   "cell_type": "code",
   "execution_count": 55,
   "metadata": {},
   "outputs": [],
   "source": [
    "from getpass import getpass\n",
    "def main_menu():\n",
    "    s = \"\"\"1. Login\\n2.Signup\\n3.Exit\"\"\"\n",
    "    print(s)\n",
    "    ch = int(input(\"Enter your Choice : \"))\n",
    "    if ch == 1 :\n",
    "        acc_no = input(\"Enter your acc number : \").strip()\n",
    "        password = getpass(\"Enter your password : \")\n",
    "        if login(acc_no,password) :\n",
    "            menu(acc_no)\n",
    "        else : \n",
    "            main_menu()\n",
    "      \n",
    "def update_password(acc_no):\n",
    "    p1 = getpass(\"Enter password : \")\n",
    "    p2 = gepass(\"Verify password :\")\n",
    "    if p1 == p2 : \n",
    "        db = shelve.open('db/bank.db')\n",
    "        db[accno]['password'] = p1\n",
    "        print(\"password sucessfully updated\")\n",
    "        print(\"Please Login Again to verify \")\n",
    "        main_menu()\n",
    "    else : \n",
    "        print(\"Password does not match \")\n",
    "        print(\"Try Again\")\n",
    "        update_password(acc_no)\n",
    "def menu(acc_no):\n",
    "    s = \"\"\"1. Credit\\n2.Debit\\n3.Check Balance\\n4.Update Password\\n5.exit\"\"\"\n",
    "    print(s)\n",
    "    ch = int(input(\"Enter your choice : \"))\n",
    "    if ch == 4 : \n",
    "        update_password(acc_no)\n",
    "    print(\"you are at menu of logged in function\")"
   ]
  },
  {
   "cell_type": "code",
   "execution_count": 56,
   "metadata": {},
   "outputs": [],
   "source": [
    "def login(acc_no,password):\n",
    "    db = shelve.open('./db/bank.db')\n",
    "    data = db.get(acc_no,False)\n",
    "    if data : \n",
    "        if data.get('password') == password :\n",
    "            print(\"Login Sucessfull\")\n",
    "            return True \n",
    "        else : \n",
    "            print(\"Invalid Password\")\n",
    "            print(\"Try Again\")\n",
    "            return False \n",
    "    else : \n",
    "        print(\"Invalid Account Number\")\n",
    "        print(\"If you don't have any account please signup\")\n",
    "        return False"
   ]
  },
  {
   "cell_type": "code",
   "execution_count": 57,
   "metadata": {},
   "outputs": [
    {
     "name": "stdout",
     "output_type": "stream",
     "text": [
      "Invalid Account Number\n",
      "If you don't have any account please signup\n"
     ]
    },
    {
     "data": {
      "text/plain": [
       "False"
      ]
     },
     "execution_count": 57,
     "metadata": {},
     "output_type": "execute_result"
    }
   ],
   "source": [
    "login('1010','redhat')"
   ]
  },
  {
   "cell_type": "code",
   "execution_count": 58,
   "metadata": {},
   "outputs": [
    {
     "name": "stdout",
     "output_type": "stream",
     "text": [
      "1. Login\n",
      "2.Signup\n",
      "3.Exit\n",
      "Enter your Choice : 1\n",
      "Enter your acc number : 1001\n",
      "Enter your password : ········\n",
      "Login Sucessfull\n",
      "1. Credit\n",
      "2.Debit\n",
      "3.Check Balance\n",
      "4.Update Password\n",
      "5.exit\n",
      "Enter your choice : 4\n",
      "Enter password : ········\n"
     ]
    },
    {
     "ename": "NameError",
     "evalue": "name 'gepass' is not defined",
     "output_type": "error",
     "traceback": [
      "\u001b[1;31m---------------------------------------------------------------------------\u001b[0m",
      "\u001b[1;31mNameError\u001b[0m                                 Traceback (most recent call last)",
      "\u001b[1;32m<ipython-input-58-a587427b4ad1>\u001b[0m in \u001b[0;36m<module>\u001b[1;34m\u001b[0m\n\u001b[1;32m----> 1\u001b[1;33m \u001b[0mmain_menu\u001b[0m\u001b[1;33m(\u001b[0m\u001b[1;33m)\u001b[0m\u001b[1;33m\u001b[0m\u001b[1;33m\u001b[0m\u001b[0m\n\u001b[0m",
      "\u001b[1;32m<ipython-input-55-3057a0b5b8f6>\u001b[0m in \u001b[0;36mmain_menu\u001b[1;34m()\u001b[0m\n\u001b[0;32m      8\u001b[0m         \u001b[0mpassword\u001b[0m \u001b[1;33m=\u001b[0m \u001b[0mgetpass\u001b[0m\u001b[1;33m(\u001b[0m\u001b[1;34m\"Enter your password : \"\u001b[0m\u001b[1;33m)\u001b[0m\u001b[1;33m\u001b[0m\u001b[1;33m\u001b[0m\u001b[0m\n\u001b[0;32m      9\u001b[0m         \u001b[1;32mif\u001b[0m \u001b[0mlogin\u001b[0m\u001b[1;33m(\u001b[0m\u001b[0macc_no\u001b[0m\u001b[1;33m,\u001b[0m\u001b[0mpassword\u001b[0m\u001b[1;33m)\u001b[0m \u001b[1;33m:\u001b[0m\u001b[1;33m\u001b[0m\u001b[1;33m\u001b[0m\u001b[0m\n\u001b[1;32m---> 10\u001b[1;33m             \u001b[0mmenu\u001b[0m\u001b[1;33m(\u001b[0m\u001b[0macc_no\u001b[0m\u001b[1;33m)\u001b[0m\u001b[1;33m\u001b[0m\u001b[1;33m\u001b[0m\u001b[0m\n\u001b[0m\u001b[0;32m     11\u001b[0m         \u001b[1;32melse\u001b[0m \u001b[1;33m:\u001b[0m\u001b[1;33m\u001b[0m\u001b[1;33m\u001b[0m\u001b[0m\n\u001b[0;32m     12\u001b[0m             \u001b[0mmain_menu\u001b[0m\u001b[1;33m(\u001b[0m\u001b[1;33m)\u001b[0m\u001b[1;33m\u001b[0m\u001b[1;33m\u001b[0m\u001b[0m\n",
      "\u001b[1;32m<ipython-input-55-3057a0b5b8f6>\u001b[0m in \u001b[0;36mmenu\u001b[1;34m(acc_no)\u001b[0m\n\u001b[0;32m     30\u001b[0m     \u001b[0mch\u001b[0m \u001b[1;33m=\u001b[0m \u001b[0mint\u001b[0m\u001b[1;33m(\u001b[0m\u001b[0minput\u001b[0m\u001b[1;33m(\u001b[0m\u001b[1;34m\"Enter your choice : \"\u001b[0m\u001b[1;33m)\u001b[0m\u001b[1;33m)\u001b[0m\u001b[1;33m\u001b[0m\u001b[1;33m\u001b[0m\u001b[0m\n\u001b[0;32m     31\u001b[0m     \u001b[1;32mif\u001b[0m \u001b[0mch\u001b[0m \u001b[1;33m==\u001b[0m \u001b[1;36m4\u001b[0m \u001b[1;33m:\u001b[0m\u001b[1;33m\u001b[0m\u001b[1;33m\u001b[0m\u001b[0m\n\u001b[1;32m---> 32\u001b[1;33m         \u001b[0mupdate_password\u001b[0m\u001b[1;33m(\u001b[0m\u001b[0macc_no\u001b[0m\u001b[1;33m)\u001b[0m\u001b[1;33m\u001b[0m\u001b[1;33m\u001b[0m\u001b[0m\n\u001b[0m\u001b[0;32m     33\u001b[0m     \u001b[0mprint\u001b[0m\u001b[1;33m(\u001b[0m\u001b[1;34m\"you are at menu of logged in function\"\u001b[0m\u001b[1;33m)\u001b[0m\u001b[1;33m\u001b[0m\u001b[1;33m\u001b[0m\u001b[0m\n",
      "\u001b[1;32m<ipython-input-55-3057a0b5b8f6>\u001b[0m in \u001b[0;36mupdate_password\u001b[1;34m(acc_no)\u001b[0m\n\u001b[0;32m     14\u001b[0m \u001b[1;32mdef\u001b[0m \u001b[0mupdate_password\u001b[0m\u001b[1;33m(\u001b[0m\u001b[0macc_no\u001b[0m\u001b[1;33m)\u001b[0m\u001b[1;33m:\u001b[0m\u001b[1;33m\u001b[0m\u001b[1;33m\u001b[0m\u001b[0m\n\u001b[0;32m     15\u001b[0m     \u001b[0mp1\u001b[0m \u001b[1;33m=\u001b[0m \u001b[0mgetpass\u001b[0m\u001b[1;33m(\u001b[0m\u001b[1;34m\"Enter password : \"\u001b[0m\u001b[1;33m)\u001b[0m\u001b[1;33m\u001b[0m\u001b[1;33m\u001b[0m\u001b[0m\n\u001b[1;32m---> 16\u001b[1;33m     \u001b[0mp2\u001b[0m \u001b[1;33m=\u001b[0m \u001b[0mgepass\u001b[0m\u001b[1;33m(\u001b[0m\u001b[1;34m\"Verify password :\"\u001b[0m\u001b[1;33m)\u001b[0m\u001b[1;33m\u001b[0m\u001b[1;33m\u001b[0m\u001b[0m\n\u001b[0m\u001b[0;32m     17\u001b[0m     \u001b[1;32mif\u001b[0m \u001b[0mp1\u001b[0m \u001b[1;33m==\u001b[0m \u001b[0mp2\u001b[0m \u001b[1;33m:\u001b[0m\u001b[1;33m\u001b[0m\u001b[1;33m\u001b[0m\u001b[0m\n\u001b[0;32m     18\u001b[0m         \u001b[0mdb\u001b[0m \u001b[1;33m=\u001b[0m \u001b[0mshelve\u001b[0m\u001b[1;33m.\u001b[0m\u001b[0mopen\u001b[0m\u001b[1;33m(\u001b[0m\u001b[1;34m'db/bank.db'\u001b[0m\u001b[1;33m)\u001b[0m\u001b[1;33m\u001b[0m\u001b[1;33m\u001b[0m\u001b[0m\n",
      "\u001b[1;31mNameError\u001b[0m: name 'gepass' is not defined"
     ]
    }
   ],
   "source": [
    "main_menu()"
   ]
  },
  {
   "cell_type": "code",
   "execution_count": null,
   "metadata": {},
   "outputs": [],
   "source": []
  },
  {
   "cell_type": "code",
   "execution_count": null,
   "metadata": {},
   "outputs": [],
   "source": []
  }
 ],
 "metadata": {
  "kernelspec": {
   "display_name": "Python 3",
   "language": "python",
   "name": "python3"
  },
  "language_info": {
   "codemirror_mode": {
    "name": "ipython",
    "version": 3
   },
   "file_extension": ".py",
   "mimetype": "text/x-python",
   "name": "python",
   "nbconvert_exporter": "python",
   "pygments_lexer": "ipython3",
   "version": "3.7.1"
  }
 },
 "nbformat": 4,
 "nbformat_minor": 2
}
